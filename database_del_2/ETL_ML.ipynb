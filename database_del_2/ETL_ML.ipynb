{
  "nbformat": 4,
  "nbformat_minor": 0,
  "metadata": {
    "colab": {
      "name": "ETL_ML.ipynb",
      "provenance": []
    },
    "kernelspec": {
      "name": "python3",
      "display_name": "Python 3"
    },
    "language_info": {
      "name": "python"
    }
  },
  "cells": [
    {
      "cell_type": "code",
      "execution_count": null,
      "metadata": {
        "colab": {
          "base_uri": "https://localhost:8080/"
        },
        "id": "-QO3QJtAuHbe",
        "outputId": "bfc3e5a5-3837-43cf-862a-6459bd4bb5c2"
      },
      "outputs": [
        {
          "output_type": "stream",
          "name": "stdout",
          "text": [
            "Hit:1 https://cloud.r-project.org/bin/linux/ubuntu bionic-cran40/ InRelease\n",
            "Ign:2 https://developer.download.nvidia.com/compute/cuda/repos/ubuntu1804/x86_64  InRelease\n",
            "Hit:3 http://security.ubuntu.com/ubuntu bionic-security InRelease\n",
            "Hit:4 http://ppa.launchpad.net/c2d4u.team/c2d4u4.0+/ubuntu bionic InRelease\n",
            "Ign:5 https://developer.download.nvidia.com/compute/machine-learning/repos/ubuntu1804/x86_64  InRelease\n",
            "Hit:6 https://developer.download.nvidia.com/compute/cuda/repos/ubuntu1804/x86_64  Release\n",
            "Hit:7 http://archive.ubuntu.com/ubuntu bionic InRelease\n",
            "Hit:8 https://developer.download.nvidia.com/compute/machine-learning/repos/ubuntu1804/x86_64  Release\n",
            "Hit:9 http://archive.ubuntu.com/ubuntu bionic-updates InRelease\n",
            "Hit:10 http://ppa.launchpad.net/cran/libgit2/ubuntu bionic InRelease\n",
            "Hit:11 http://archive.ubuntu.com/ubuntu bionic-backports InRelease\n",
            "Hit:12 http://ppa.launchpad.net/deadsnakes/ppa/ubuntu bionic InRelease\n",
            "Hit:13 http://ppa.launchpad.net/graphics-drivers/ppa/ubuntu bionic InRelease\n",
            "Reading package lists... Done\n"
          ]
        }
      ],
      "source": [
        "import os\n",
        "import pandas as pd\n",
        "import numpy as np\n",
        "\n",
        "\n",
        "spark_version = 'spark-3.0.3'\n",
        "os.environ['SPARK_VERSION']=spark_version\n",
        "\n",
        "# Install Spark and Java\n",
        "!apt-get update\n",
        "!apt-get install openjdk-11-jdk-headless -qq > /dev/null\n",
        "!wget -q https://downloads.apache.org/spark/spark-3.0.3/spark-3.0.3-bin-hadoop2.7.tgz\n",
        "!tar xf spark-3.0.3-bin-hadoop2.7.tgz\n",
        "!pip install -q findspark\n",
        "\n",
        "# Set Environment Variables\n",
        "os.environ[\"JAVA_HOME\"] = \"/usr/lib/jvm/java-11-openjdk-amd64\"\n",
        "os.environ[\"SPARK_HOME\"] = f\"/content/{spark_version}-bin-hadoop2.7\"\n",
        "\n",
        "# Start a SparkSession\n",
        "import findspark\n",
        "findspark.init()"
      ]
    },
    {
      "cell_type": "code",
      "source": [
        "# Download the Postgres driver that will allow Spark to interact with Postgres.\n",
        "!wget https://jdbc.postgresql.org/download/postgresql-42.2.16.jar"
      ],
      "metadata": {
        "colab": {
          "base_uri": "https://localhost:8080/"
        },
        "id": "_eplAKEuuJR_",
        "outputId": "cbd9d9f5-b337-4a9c-ed85-8896496f3147"
      },
      "execution_count": null,
      "outputs": [
        {
          "output_type": "stream",
          "name": "stdout",
          "text": [
            "--2022-01-29 00:39:28--  https://jdbc.postgresql.org/download/postgresql-42.2.16.jar\n",
            "Resolving jdbc.postgresql.org (jdbc.postgresql.org)... 72.32.157.228, 2001:4800:3e1:1::228\n",
            "Connecting to jdbc.postgresql.org (jdbc.postgresql.org)|72.32.157.228|:443... connected.\n",
            "HTTP request sent, awaiting response... 200 OK\n",
            "Length: 1002883 (979K) [application/java-archive]\n",
            "Saving to: ‘postgresql-42.2.16.jar.1’\n",
            "\n",
            "postgresql-42.2.16. 100%[===================>] 979.38K  --.-KB/s    in 0.1s    \n",
            "\n",
            "2022-01-29 00:39:29 (6.56 MB/s) - ‘postgresql-42.2.16.jar.1’ saved [1002883/1002883]\n",
            "\n"
          ]
        }
      ]
    },
    {
      "cell_type": "code",
      "source": [
        "from pyspark.sql import SparkSession\n",
        "spark = SparkSession.builder.appName(\"Final-Project\").config(\"spark.driver.extraClassPath\",\"/content/postgresql-42.2.16.jar\").getOrCreate()"
      ],
      "metadata": {
        "id": "etxwzMmVuJUX"
      },
      "execution_count": null,
      "outputs": []
    },
    {
      "cell_type": "code",
      "source": [
        "from pyspark.sql import *\n",
        "from pyspark.sql.functions import col, when\n",
        "from pyspark.sql import SparkSession\n",
        "from pyspark.sql.functions import lpad\n",
        "from pyspark.sql.functions import concat\n",
        "from pyspark.sql.functions import lit\n",
        "from pyspark.sql.functions import substring"
      ],
      "metadata": {
        "id": "lVAydM4guJW5"
      },
      "execution_count": null,
      "outputs": []
    },
    {
      "cell_type": "code",
      "source": [
        "from pyspark import SparkFiles\n",
        "url = \"https://finalprojectstorage10.s3.us-east-2.amazonaws.com/2018_clean_final.csv\"\n",
        "spark.sparkContext.addFile(url)\n",
        "df = spark.read.option(\"encoding\", \"UTF-8\").csv(SparkFiles.get(\"2018_clean_final.csv\"), header=True)\n",
        "df.show()"
      ],
      "metadata": {
        "colab": {
          "base_uri": "https://localhost:8080/"
        },
        "id": "UzgqpoM-uJZT",
        "outputId": "25e8bb1f-0017-4de5-cab0-96f3ed427358"
      },
      "execution_count": null,
      "outputs": [
        {
          "output_type": "stream",
          "name": "stdout",
          "text": [
            "+----------+------------------+------------+---------+--------+----------+---------+-------+------------+---------+----------------+-------------------+--------+--------+-------------+-------------+---------+--------------+-------------------+--------------------+------------+-------------+-----------+--------------------+-------------+--------------+---------+-----+---+----------+------------+\n",
            "|   FL_DATE|        OP_CARRIER|CRS_DEP_TIME|DEP_DELAY|TAXI_OUT|WHEELS_OFF|WHEELS_ON|TAXI_IN|CRS_ARR_TIME|ARR_DELAY|CRS_ELAPSED_TIME|ACTUAL_ELAPSED_TIME|AIR_TIME|DISTANCE|CARRIER_DELAY|WEATHER_DELAY|NAS_DELAY|SECURITY_DELAY|LATE_AIRCRAFT_DELAY|         Org_Airport|Org_latitude|Org_longitude|Origin_city|        Dest_Airport|Dest_latitude|Dest_longitude|Dest_city|month|Day|MONTH_abbr|DELAY_STATUS|\n",
            "+----------+------------------+------------+---------+--------+----------+---------+-------+------------+---------+----------------+-------------------+--------+--------+-------------+-------------+---------+--------------+-------------------+--------------------+------------+-------------+-----------+--------------------+-------------+--------------+---------+-----+---+----------+------------+\n",
            "|2018-01-01|   United Airlines|        1517|     -5.0|    15.0|    1527.0|   1712.0|   10.0|        1745|    -23.0|           268.0|              250.0|   225.0|  1605.0|          0.0|          0.0|      0.0|           0.0|                0.0|Newark Liberty In...|   40.692501|   -74.168701|   New York|Denver Internatio...|  39.86169815|  -104.6729965|   Denver|    1|  1|       Jan|           0|\n",
            "|2018-01-01|   United Airlines|        1657|    161.0|    14.0|    1952.0|   2130.0|    7.0|        1925|    132.0|           268.0|              239.0|   218.0|  1605.0|         16.0|          0.0|      0.0|           0.0|              116.0|Newark Liberty In...|   40.692501|   -74.168701|   New York|Denver Internatio...|  39.86169815|  -104.6729965|   Denver|    1|  1|       Jan|           1|\n",
            "|2018-01-01|   United Airlines|         600|     -1.0|    14.0|     613.0|    806.0|    6.0|         835|    -23.0|           275.0|              253.0|   233.0|  1605.0|          0.0|          0.0|      0.0|           0.0|                0.0|Newark Liberty In...|   40.692501|   -74.168701|   New York|Denver Internatio...|  39.86169815|  -104.6729965|   Denver|    1|  1|       Jan|           0|\n",
            "|2018-01-01|   United Airlines|        1855|     11.0|    26.0|    1932.0|   2112.0|   12.0|        2126|     -2.0|           271.0|              258.0|   220.0|  1605.0|          0.0|          0.0|      0.0|           0.0|                0.0|Newark Liberty In...|   40.692501|   -74.168701|   New York|Denver Internatio...|  39.86169815|  -104.6729965|   Denver|    1|  1|       Jan|           0|\n",
            "|2018-01-01|   United Airlines|        1150|     -1.0|    13.0|    1202.0|   1353.0|    7.0|        1418|    -18.0|           268.0|              251.0|   231.0|  1605.0|          0.0|          0.0|      0.0|           0.0|                0.0|Newark Liberty In...|   40.692501|   -74.168701|   New York|Denver Internatio...|  39.86169815|  -104.6729965|   Denver|    1|  1|       Jan|           0|\n",
            "|2018-01-01|   United Airlines|        1800|     -1.0|    19.0|    1818.0|   2001.0|    9.0|        2031|    -21.0|           271.0|              251.0|   223.0|  1605.0|          0.0|          0.0|      0.0|           0.0|                0.0|Newark Liberty In...|   40.692501|   -74.168701|   New York|Denver Internatio...|  39.86169815|  -104.6729965|   Denver|    1|  1|       Jan|           0|\n",
            "|2018-01-01|   United Airlines|         739|     -3.0|    25.0|     801.0|    952.0|   10.0|        1014|    -12.0|           275.0|              266.0|   231.0|  1605.0|          0.0|          0.0|      0.0|           0.0|                0.0|Newark Liberty In...|   40.692501|   -74.168701|   New York|Denver Internatio...|  39.86169815|  -104.6729965|   Denver|    1|  1|       Jan|           0|\n",
            "|2018-01-01|Southwest Airlines|        1835|      5.0|    18.0|    1858.0|   2042.0|    6.0|        2115|    -27.0|           280.0|              248.0|   224.0|  1605.0|          0.0|          0.0|      0.0|           0.0|                0.0|Newark Liberty In...|   40.692501|   -74.168701|   New York|Denver Internatio...|  39.86169815|  -104.6729965|   Denver|    1|  1|       Jan|           0|\n",
            "|2018-01-01|Southwest Airlines|         910|     -3.0|    21.0|     928.0|   1117.0|    7.0|        1150|    -26.0|           280.0|              257.0|   229.0|  1605.0|          0.0|          0.0|      0.0|           0.0|                0.0|Newark Liberty In...|   40.692501|   -74.168701|   New York|Denver Internatio...|  39.86169815|  -104.6729965|   Denver|    1|  1|       Jan|           0|\n",
            "|2018-01-01|Southwest Airlines|        1240|    169.0|    10.0|    1539.0|   1725.0|    6.0|        1505|    146.0|           265.0|              242.0|   226.0|  1605.0|          3.0|          0.0|      0.0|           0.0|              143.0|Newark Liberty In...|   40.692501|   -74.168701|   New York|Denver Internatio...|  39.86169815|  -104.6729965|   Denver|    1|  1|       Jan|           1|\n",
            "|2018-01-02|Southwest Airlines|        1920|     47.0|    23.0|    2030.0|   2205.0|    5.0|        2155|     15.0|           275.0|              243.0|   215.0|  1605.0|          4.0|          0.0|      0.0|           0.0|               11.0|Newark Liberty In...|   40.692501|   -74.168701|   New York|Denver Internatio...|  39.86169815|  -104.6729965|   Denver|    1|  2|       Jan|           1|\n",
            "|2018-01-02|Southwest Airlines|        1325|     18.0|    15.0|    1358.0|   1529.0|    6.0|        1555|    -20.0|           270.0|              232.0|   211.0|  1605.0|          0.0|          0.0|      0.0|           0.0|                0.0|Newark Liberty In...|   40.692501|   -74.168701|   New York|Denver Internatio...|  39.86169815|  -104.6729965|   Denver|    1|  2|       Jan|           0|\n",
            "|2018-01-02|Southwest Airlines|         925|     -1.0|    19.0|     943.0|   1120.0|    6.0|        1205|    -39.0|           280.0|              242.0|   217.0|  1605.0|          0.0|          0.0|      0.0|           0.0|                0.0|Newark Liberty In...|   40.692501|   -74.168701|   New York|Denver Internatio...|  39.86169815|  -104.6729965|   Denver|    1|  2|       Jan|           0|\n",
            "|2018-01-02|   United Airlines|        1517|      5.0|    13.0|    1535.0|   1712.0|    5.0|        1747|    -30.0|           270.0|              235.0|   217.0|  1605.0|          0.0|          0.0|      0.0|           0.0|                0.0|Newark Liberty In...|   40.692501|   -74.168701|   New York|Denver Internatio...|  39.86169815|  -104.6729965|   Denver|    1|  2|       Jan|           0|\n",
            "|2018-01-02|   United Airlines|        1651|     -7.0|    19.0|    1703.0|   1840.0|    7.0|        1921|    -34.0|           270.0|              243.0|   217.0|  1605.0|          0.0|          0.0|      0.0|           0.0|                0.0|Newark Liberty In...|   40.692501|   -74.168701|   New York|Denver Internatio...|  39.86169815|  -104.6729965|   Denver|    1|  2|       Jan|           0|\n",
            "|2018-01-02|   United Airlines|         600|     -3.0|    14.0|     611.0|    739.0|    6.0|         837|    -52.0|           277.0|              228.0|   208.0|  1605.0|          0.0|          0.0|      0.0|           0.0|                0.0|Newark Liberty In...|   40.692501|   -74.168701|   New York|Denver Internatio...|  39.86169815|  -104.6729965|   Denver|    1|  2|       Jan|           0|\n",
            "|2018-01-02|   United Airlines|        1855|     27.0|    23.0|    1945.0|   2115.0|    6.0|        2126|     -5.0|           271.0|              239.0|   210.0|  1605.0|          0.0|          0.0|      0.0|           0.0|                0.0|Newark Liberty In...|   40.692501|   -74.168701|   New York|Denver Internatio...|  39.86169815|  -104.6729965|   Denver|    1|  2|       Jan|           0|\n",
            "|2018-01-02|   United Airlines|        1150|     12.0|    20.0|    1222.0|   1350.0|    4.0|        1418|    -24.0|           268.0|              232.0|   208.0|  1605.0|          0.0|          0.0|      0.0|           0.0|                0.0|Newark Liberty In...|   40.692501|   -74.168701|   New York|Denver Internatio...|  39.86169815|  -104.6729965|   Denver|    1|  2|       Jan|           0|\n",
            "|2018-01-02|   United Airlines|        1800|     36.0|    25.0|    1901.0|   2035.0|    5.0|        2031|      9.0|           271.0|              244.0|   214.0|  1605.0|          0.0|          0.0|      0.0|           0.0|                0.0|Newark Liberty In...|   40.692501|   -74.168701|   New York|Denver Internatio...|  39.86169815|  -104.6729965|   Denver|    1|  2|       Jan|           1|\n",
            "|2018-01-02|   United Airlines|         900|      2.0|    18.0|     920.0|   1048.0|    7.0|        1140|    -45.0|           280.0|              233.0|   208.0|  1605.0|          0.0|          0.0|      0.0|           0.0|                0.0|Newark Liberty In...|   40.692501|   -74.168701|   New York|Denver Internatio...|  39.86169815|  -104.6729965|   Denver|    1|  2|       Jan|           0|\n",
            "+----------+------------------+------------+---------+--------+----------+---------+-------+------------+---------+----------------+-------------------+--------+--------+-------------+-------------+---------+--------------+-------------------+--------------------+------------+-------------+-----------+--------------------+-------------+--------------+---------+-----+---+----------+------------+\n",
            "only showing top 20 rows\n",
            "\n"
          ]
        }
      ]
    },
    {
      "cell_type": "code",
      "source": [
        "from pyspark.sql.functions import *\n",
        "\n",
        "#Timestamp function to fix formatting\n",
        "def padTimeStamp(x,y):\n",
        "  if y is None:\n",
        "      y = \"0\"\n",
        "\n",
        "  y = y.replace(\".0\",\"\")\n",
        "  return x + \" \" + y.zfill(4)[0:2] + \":\" + y.zfill(4)[2:4]\n",
        "\n",
        "#Create udf becuase python fucntions do not work with pyspark\n",
        "padTimeStampUDF = udf(lambda x,y: padTimeStamp(x,y)) \n",
        "\n",
        "#inital dataframe applying the udf to pad and format the timestamp columns and pick the rest of the columns\n",
        "initial_ml_df = df.select(\n",
        "                    \"FL_DATE\",\n",
        "                    \"OP_CARRIER\",\n",
        "                    padTimeStampUDF(df[\"FL_DATE\"],df[\"CRS_DEP_TIME\"]).alias(\"CRS_DEPARTURE_TIMESTAMP\"),\n",
        "                    df.columns[3],df.columns[4],\n",
        "                    padTimeStampUDF(df[\"FL_DATE\"],df[\"WHEELS_OFF\"]).alias(\"WHEELS_OFF_TIMESTAMP\"),\n",
        "                    padTimeStampUDF(df[\"FL_DATE\"],df[\"WHEELS_ON\"]).alias(\"WHEELS_ON_TIMESTAMP\"),\n",
        "                    df.columns[7],\n",
        "                    padTimeStampUDF(df[\"FL_DATE\"],df[\"CRS_ARR_TIME\"]).alias(\"CRS_ARRIVAL_TIMESTAMP\"),\n",
        "                    df.columns[9], df.columns[10], df.columns[11], df.columns[12], df.columns[13], df.columns[14], df.columns[15], df.columns[16], df.columns[17], df.columns[18], df.columns[19], df.columns[20], df.columns[21],\n",
        "                    df.columns[22],df.columns[23],df.columns[24],df.columns[25],df.columns[26],df.columns[27],df.columns[28],df.columns[29],df.columns[30]\n",
        "                  )\n",
        "initial_ml_df.printSchema()\n",
        "initial_ml_df.show()"
      ],
      "metadata": {
        "colab": {
          "base_uri": "https://localhost:8080/"
        },
        "id": "WY4KTGri4GL2",
        "outputId": "55914651-c9fe-45b0-d30e-cccbbcb40cb5"
      },
      "execution_count": null,
      "outputs": [
        {
          "output_type": "stream",
          "name": "stdout",
          "text": [
            "root\n",
            " |-- FL_DATE: string (nullable = true)\n",
            " |-- OP_CARRIER: string (nullable = true)\n",
            " |-- CRS_DEPARTURE_TIMESTAMP: string (nullable = true)\n",
            " |-- DEP_DELAY: string (nullable = true)\n",
            " |-- TAXI_OUT: string (nullable = true)\n",
            " |-- WHEELS_OFF_TIMESTAMP: string (nullable = true)\n",
            " |-- WHEELS_ON_TIMESTAMP: string (nullable = true)\n",
            " |-- TAXI_IN: string (nullable = true)\n",
            " |-- CRS_ARRIVAL_TIMESTAMP: string (nullable = true)\n",
            " |-- ARR_DELAY: string (nullable = true)\n",
            " |-- CRS_ELAPSED_TIME: string (nullable = true)\n",
            " |-- ACTUAL_ELAPSED_TIME: string (nullable = true)\n",
            " |-- AIR_TIME: string (nullable = true)\n",
            " |-- DISTANCE: string (nullable = true)\n",
            " |-- CARRIER_DELAY: string (nullable = true)\n",
            " |-- WEATHER_DELAY: string (nullable = true)\n",
            " |-- NAS_DELAY: string (nullable = true)\n",
            " |-- SECURITY_DELAY: string (nullable = true)\n",
            " |-- LATE_AIRCRAFT_DELAY: string (nullable = true)\n",
            " |-- Org_Airport: string (nullable = true)\n",
            " |-- Org_latitude: string (nullable = true)\n",
            " |-- Org_longitude: string (nullable = true)\n",
            " |-- Origin_city: string (nullable = true)\n",
            " |-- Dest_Airport: string (nullable = true)\n",
            " |-- Dest_latitude: string (nullable = true)\n",
            " |-- Dest_longitude: string (nullable = true)\n",
            " |-- Dest_city: string (nullable = true)\n",
            " |-- month: string (nullable = true)\n",
            " |-- Day: string (nullable = true)\n",
            " |-- MONTH_abbr: string (nullable = true)\n",
            " |-- DELAY_STATUS: string (nullable = true)\n",
            "\n",
            "+----------+------------------+-----------------------+---------+--------+--------------------+-------------------+-------+---------------------+---------+----------------+-------------------+--------+--------+-------------+-------------+---------+--------------+-------------------+--------------------+------------+-------------+-----------+--------------------+-------------+--------------+---------+-----+---+----------+------------+\n",
            "|   FL_DATE|        OP_CARRIER|CRS_DEPARTURE_TIMESTAMP|DEP_DELAY|TAXI_OUT|WHEELS_OFF_TIMESTAMP|WHEELS_ON_TIMESTAMP|TAXI_IN|CRS_ARRIVAL_TIMESTAMP|ARR_DELAY|CRS_ELAPSED_TIME|ACTUAL_ELAPSED_TIME|AIR_TIME|DISTANCE|CARRIER_DELAY|WEATHER_DELAY|NAS_DELAY|SECURITY_DELAY|LATE_AIRCRAFT_DELAY|         Org_Airport|Org_latitude|Org_longitude|Origin_city|        Dest_Airport|Dest_latitude|Dest_longitude|Dest_city|month|Day|MONTH_abbr|DELAY_STATUS|\n",
            "+----------+------------------+-----------------------+---------+--------+--------------------+-------------------+-------+---------------------+---------+----------------+-------------------+--------+--------+-------------+-------------+---------+--------------+-------------------+--------------------+------------+-------------+-----------+--------------------+-------------+--------------+---------+-----+---+----------+------------+\n",
            "|2018-01-01|   United Airlines|       2018-01-01 15:17|     -5.0|    15.0|    2018-01-01 15:27|   2018-01-01 17:12|   10.0|     2018-01-01 17:45|    -23.0|           268.0|              250.0|   225.0|  1605.0|          0.0|          0.0|      0.0|           0.0|                0.0|Newark Liberty In...|   40.692501|   -74.168701|   New York|Denver Internatio...|  39.86169815|  -104.6729965|   Denver|    1|  1|       Jan|           0|\n",
            "|2018-01-01|   United Airlines|       2018-01-01 16:57|    161.0|    14.0|    2018-01-01 19:52|   2018-01-01 21:30|    7.0|     2018-01-01 19:25|    132.0|           268.0|              239.0|   218.0|  1605.0|         16.0|          0.0|      0.0|           0.0|              116.0|Newark Liberty In...|   40.692501|   -74.168701|   New York|Denver Internatio...|  39.86169815|  -104.6729965|   Denver|    1|  1|       Jan|           1|\n",
            "|2018-01-01|   United Airlines|       2018-01-01 06:00|     -1.0|    14.0|    2018-01-01 06:13|   2018-01-01 08:06|    6.0|     2018-01-01 08:35|    -23.0|           275.0|              253.0|   233.0|  1605.0|          0.0|          0.0|      0.0|           0.0|                0.0|Newark Liberty In...|   40.692501|   -74.168701|   New York|Denver Internatio...|  39.86169815|  -104.6729965|   Denver|    1|  1|       Jan|           0|\n",
            "|2018-01-01|   United Airlines|       2018-01-01 18:55|     11.0|    26.0|    2018-01-01 19:32|   2018-01-01 21:12|   12.0|     2018-01-01 21:26|     -2.0|           271.0|              258.0|   220.0|  1605.0|          0.0|          0.0|      0.0|           0.0|                0.0|Newark Liberty In...|   40.692501|   -74.168701|   New York|Denver Internatio...|  39.86169815|  -104.6729965|   Denver|    1|  1|       Jan|           0|\n",
            "|2018-01-01|   United Airlines|       2018-01-01 11:50|     -1.0|    13.0|    2018-01-01 12:02|   2018-01-01 13:53|    7.0|     2018-01-01 14:18|    -18.0|           268.0|              251.0|   231.0|  1605.0|          0.0|          0.0|      0.0|           0.0|                0.0|Newark Liberty In...|   40.692501|   -74.168701|   New York|Denver Internatio...|  39.86169815|  -104.6729965|   Denver|    1|  1|       Jan|           0|\n",
            "|2018-01-01|   United Airlines|       2018-01-01 18:00|     -1.0|    19.0|    2018-01-01 18:18|   2018-01-01 20:01|    9.0|     2018-01-01 20:31|    -21.0|           271.0|              251.0|   223.0|  1605.0|          0.0|          0.0|      0.0|           0.0|                0.0|Newark Liberty In...|   40.692501|   -74.168701|   New York|Denver Internatio...|  39.86169815|  -104.6729965|   Denver|    1|  1|       Jan|           0|\n",
            "|2018-01-01|   United Airlines|       2018-01-01 07:39|     -3.0|    25.0|    2018-01-01 08:01|   2018-01-01 09:52|   10.0|     2018-01-01 10:14|    -12.0|           275.0|              266.0|   231.0|  1605.0|          0.0|          0.0|      0.0|           0.0|                0.0|Newark Liberty In...|   40.692501|   -74.168701|   New York|Denver Internatio...|  39.86169815|  -104.6729965|   Denver|    1|  1|       Jan|           0|\n",
            "|2018-01-01|Southwest Airlines|       2018-01-01 18:35|      5.0|    18.0|    2018-01-01 18:58|   2018-01-01 20:42|    6.0|     2018-01-01 21:15|    -27.0|           280.0|              248.0|   224.0|  1605.0|          0.0|          0.0|      0.0|           0.0|                0.0|Newark Liberty In...|   40.692501|   -74.168701|   New York|Denver Internatio...|  39.86169815|  -104.6729965|   Denver|    1|  1|       Jan|           0|\n",
            "|2018-01-01|Southwest Airlines|       2018-01-01 09:10|     -3.0|    21.0|    2018-01-01 09:28|   2018-01-01 11:17|    7.0|     2018-01-01 11:50|    -26.0|           280.0|              257.0|   229.0|  1605.0|          0.0|          0.0|      0.0|           0.0|                0.0|Newark Liberty In...|   40.692501|   -74.168701|   New York|Denver Internatio...|  39.86169815|  -104.6729965|   Denver|    1|  1|       Jan|           0|\n",
            "|2018-01-01|Southwest Airlines|       2018-01-01 12:40|    169.0|    10.0|    2018-01-01 15:39|   2018-01-01 17:25|    6.0|     2018-01-01 15:05|    146.0|           265.0|              242.0|   226.0|  1605.0|          3.0|          0.0|      0.0|           0.0|              143.0|Newark Liberty In...|   40.692501|   -74.168701|   New York|Denver Internatio...|  39.86169815|  -104.6729965|   Denver|    1|  1|       Jan|           1|\n",
            "|2018-01-02|Southwest Airlines|       2018-01-02 19:20|     47.0|    23.0|    2018-01-02 20:30|   2018-01-02 22:05|    5.0|     2018-01-02 21:55|     15.0|           275.0|              243.0|   215.0|  1605.0|          4.0|          0.0|      0.0|           0.0|               11.0|Newark Liberty In...|   40.692501|   -74.168701|   New York|Denver Internatio...|  39.86169815|  -104.6729965|   Denver|    1|  2|       Jan|           1|\n",
            "|2018-01-02|Southwest Airlines|       2018-01-02 13:25|     18.0|    15.0|    2018-01-02 13:58|   2018-01-02 15:29|    6.0|     2018-01-02 15:55|    -20.0|           270.0|              232.0|   211.0|  1605.0|          0.0|          0.0|      0.0|           0.0|                0.0|Newark Liberty In...|   40.692501|   -74.168701|   New York|Denver Internatio...|  39.86169815|  -104.6729965|   Denver|    1|  2|       Jan|           0|\n",
            "|2018-01-02|Southwest Airlines|       2018-01-02 09:25|     -1.0|    19.0|    2018-01-02 09:43|   2018-01-02 11:20|    6.0|     2018-01-02 12:05|    -39.0|           280.0|              242.0|   217.0|  1605.0|          0.0|          0.0|      0.0|           0.0|                0.0|Newark Liberty In...|   40.692501|   -74.168701|   New York|Denver Internatio...|  39.86169815|  -104.6729965|   Denver|    1|  2|       Jan|           0|\n",
            "|2018-01-02|   United Airlines|       2018-01-02 15:17|      5.0|    13.0|    2018-01-02 15:35|   2018-01-02 17:12|    5.0|     2018-01-02 17:47|    -30.0|           270.0|              235.0|   217.0|  1605.0|          0.0|          0.0|      0.0|           0.0|                0.0|Newark Liberty In...|   40.692501|   -74.168701|   New York|Denver Internatio...|  39.86169815|  -104.6729965|   Denver|    1|  2|       Jan|           0|\n",
            "|2018-01-02|   United Airlines|       2018-01-02 16:51|     -7.0|    19.0|    2018-01-02 17:03|   2018-01-02 18:40|    7.0|     2018-01-02 19:21|    -34.0|           270.0|              243.0|   217.0|  1605.0|          0.0|          0.0|      0.0|           0.0|                0.0|Newark Liberty In...|   40.692501|   -74.168701|   New York|Denver Internatio...|  39.86169815|  -104.6729965|   Denver|    1|  2|       Jan|           0|\n",
            "|2018-01-02|   United Airlines|       2018-01-02 06:00|     -3.0|    14.0|    2018-01-02 06:11|   2018-01-02 07:39|    6.0|     2018-01-02 08:37|    -52.0|           277.0|              228.0|   208.0|  1605.0|          0.0|          0.0|      0.0|           0.0|                0.0|Newark Liberty In...|   40.692501|   -74.168701|   New York|Denver Internatio...|  39.86169815|  -104.6729965|   Denver|    1|  2|       Jan|           0|\n",
            "|2018-01-02|   United Airlines|       2018-01-02 18:55|     27.0|    23.0|    2018-01-02 19:45|   2018-01-02 21:15|    6.0|     2018-01-02 21:26|     -5.0|           271.0|              239.0|   210.0|  1605.0|          0.0|          0.0|      0.0|           0.0|                0.0|Newark Liberty In...|   40.692501|   -74.168701|   New York|Denver Internatio...|  39.86169815|  -104.6729965|   Denver|    1|  2|       Jan|           0|\n",
            "|2018-01-02|   United Airlines|       2018-01-02 11:50|     12.0|    20.0|    2018-01-02 12:22|   2018-01-02 13:50|    4.0|     2018-01-02 14:18|    -24.0|           268.0|              232.0|   208.0|  1605.0|          0.0|          0.0|      0.0|           0.0|                0.0|Newark Liberty In...|   40.692501|   -74.168701|   New York|Denver Internatio...|  39.86169815|  -104.6729965|   Denver|    1|  2|       Jan|           0|\n",
            "|2018-01-02|   United Airlines|       2018-01-02 18:00|     36.0|    25.0|    2018-01-02 19:01|   2018-01-02 20:35|    5.0|     2018-01-02 20:31|      9.0|           271.0|              244.0|   214.0|  1605.0|          0.0|          0.0|      0.0|           0.0|                0.0|Newark Liberty In...|   40.692501|   -74.168701|   New York|Denver Internatio...|  39.86169815|  -104.6729965|   Denver|    1|  2|       Jan|           1|\n",
            "|2018-01-02|   United Airlines|       2018-01-02 09:00|      2.0|    18.0|    2018-01-02 09:20|   2018-01-02 10:48|    7.0|     2018-01-02 11:40|    -45.0|           280.0|              233.0|   208.0|  1605.0|          0.0|          0.0|      0.0|           0.0|                0.0|Newark Liberty In...|   40.692501|   -74.168701|   New York|Denver Internatio...|  39.86169815|  -104.6729965|   Denver|    1|  2|       Jan|           0|\n",
            "+----------+------------------+-----------------------+---------+--------+--------------------+-------------------+-------+---------------------+---------+----------------+-------------------+--------+--------+-------------+-------------+---------+--------------+-------------------+--------------------+------------+-------------+-----------+--------------------+-------------+--------------+---------+-----+---+----------+------------+\n",
            "only showing top 20 rows\n",
            "\n"
          ]
        }
      ]
    },
    {
      "cell_type": "code",
      "source": [
        "#Final df where we change the column names and cast the datatypes\n",
        "final_ml_df = initial_ml_df.selectExpr(\n",
        "                                \"cast(FL_DATE as date) FLIGHT_DT\",\n",
        "                                \"OP_CARRIER as AIRLINE_CARRIER_CODE\",\n",
        "                                \"cast(CRS_DEPARTURE_TIMESTAMP as timestamp) CRS_DEPARTURE_TIMESTAMP\",\n",
        "                                \"cast(DEP_DELAY as integer) as DEPARTURE_DELAY_MINUTES\",\n",
        "                                \"cast(TAXI_OUT as integer) TAXI_OUT_MINUTES\",\n",
        "                                \"cast(WHEELS_OFF_TIMESTAMP as timestamp) WHEELS_OFF_TIMESTAMP\",\n",
        "                                \"cast(WHEELS_ON_TIMESTAMP as timestamp) WHEELS_ON_TIMESTAMP\",\n",
        "                                \"cast(TAXI_IN as integer) TAXI_IN_MINUTES\",\n",
        "                                \"cast(CRS_ARRIVAL_TIMESTAMP as timestamp) CRS_ARRIVAL_TIMESTAMP\",\n",
        "                                \"cast(ARR_DELAY as integer) ARRIVAL_DELAY_MINUTES\",\n",
        "                                \"cast(CRS_ELAPSED_TIME as integer) CRS_ELAPSED_TIME_MINUTES\",\n",
        "                                \"cast(ACTUAL_ELAPSED_TIME as integer) ACTUAL_ELAPSED_TIME_MINUTES\",\n",
        "                                \"cast(AIR_TIME as integer) AIR_TIME_MINUTES\",\n",
        "                                \"cast(DISTANCE as integer) DISTANCE_MILES\",\n",
        "                                \"cast(CARRIER_DELAY as integer) CARRIER_DELAY_MINUTES\",\n",
        "                                \"cast(WEATHER_DELAY as integer) WEATHER_DELAY_MINUTES\",\n",
        "                                \"cast(NAS_DELAY as integer) NAS_DELAY_MINUTES\",\n",
        "                                \"cast(SECURITY_DELAY as integer) SECURITY_DELAY_MINUTES\",\n",
        "                                \"cast(LATE_AIRCRAFT_DELAY as integer) LATE_AIRCRAFT_DELAY_MINUTES\",\n",
        "                                \"Org_Airport as ORG_AIRPORT\",\n",
        "                                \"cast(Org_latitude as integer) ORG_LATITUDE\",\n",
        "                                \"cast(Org_longitude as integer) ORG_LONGITUDE\",\n",
        "                                \"Origin_city as ORIGIN_CITY\",\n",
        "                                \"Dest_Airport as DEST_AIRPORT\",\n",
        "                                \"cast(Dest_latitude as integer) DEST_LATITUDE\",\n",
        "                                \"cast(Dest_longitude as integer) DEST_LONGITUDE\",\n",
        "                                \"Dest_city as DEST_CITY\",\n",
        "                                \"month as MONTH\",\n",
        "                                \"Day as DAY\",\n",
        "                                \"MONTH_abbr as MONTH_ABBR\",\n",
        "                                \"cast(DELAY_STATUS as boolean) DELAY_STATUS\"\n",
        "                                )\n",
        "final_ml_df.show()"
      ],
      "metadata": {
        "colab": {
          "base_uri": "https://localhost:8080/"
        },
        "id": "3V6_SSHauJdV",
        "outputId": "1edcb982-85e7-4b15-e7db-c7c773f99256"
      },
      "execution_count": null,
      "outputs": [
        {
          "output_type": "stream",
          "name": "stdout",
          "text": [
            "+----------+--------------------+-----------------------+-----------------------+----------------+--------------------+-------------------+---------------+---------------------+---------------------+------------------------+---------------------------+----------------+--------------+---------------------+---------------------+-----------------+----------------------+---------------------------+--------------------+------------+-------------+-----------+--------------------+-------------+--------------+---------+-----+---+----------+------------+\n",
            "| FLIGHT_DT|AIRLINE_CARRIER_CODE|CRS_DEPARTURE_TIMESTAMP|DEPARTURE_DELAY_MINUTES|TAXI_OUT_MINUTES|WHEELS_OFF_TIMESTAMP|WHEELS_ON_TIMESTAMP|TAXI_IN_MINUTES|CRS_ARRIVAL_TIMESTAMP|ARRIVAL_DELAY_MINUTES|CRS_ELAPSED_TIME_MINUTES|ACTUAL_ELAPSED_TIME_MINUTES|AIR_TIME_MINUTES|DISTANCE_MILES|CARRIER_DELAY_MINUTES|WEATHER_DELAY_MINUTES|NAS_DELAY_MINUTES|SECURITY_DELAY_MINUTES|LATE_AIRCRAFT_DELAY_MINUTES|         ORG_AIRPORT|ORG_LATITUDE|ORG_LONGITUDE|ORIGIN_CITY|        DEST_AIRPORT|DEST_LATITUDE|DEST_LONGITUDE|DEST_CITY|MONTH|DAY|MONTH_ABBR|DELAY_STATUS|\n",
            "+----------+--------------------+-----------------------+-----------------------+----------------+--------------------+-------------------+---------------+---------------------+---------------------+------------------------+---------------------------+----------------+--------------+---------------------+---------------------+-----------------+----------------------+---------------------------+--------------------+------------+-------------+-----------+--------------------+-------------+--------------+---------+-----+---+----------+------------+\n",
            "|2018-01-01|     United Airlines|    2018-01-01 15:17:00|                     -5|              15| 2018-01-01 15:27:00|2018-01-01 17:12:00|             10|  2018-01-01 17:45:00|                  -23|                     268|                        250|             225|          1605|                    0|                    0|                0|                     0|                          0|Newark Liberty In...|          40|          -74|   New York|Denver Internatio...|           39|          -104|   Denver|    1|  1|       Jan|       false|\n",
            "|2018-01-01|     United Airlines|    2018-01-01 16:57:00|                    161|              14| 2018-01-01 19:52:00|2018-01-01 21:30:00|              7|  2018-01-01 19:25:00|                  132|                     268|                        239|             218|          1605|                   16|                    0|                0|                     0|                        116|Newark Liberty In...|          40|          -74|   New York|Denver Internatio...|           39|          -104|   Denver|    1|  1|       Jan|        true|\n",
            "|2018-01-01|     United Airlines|    2018-01-01 06:00:00|                     -1|              14| 2018-01-01 06:13:00|2018-01-01 08:06:00|              6|  2018-01-01 08:35:00|                  -23|                     275|                        253|             233|          1605|                    0|                    0|                0|                     0|                          0|Newark Liberty In...|          40|          -74|   New York|Denver Internatio...|           39|          -104|   Denver|    1|  1|       Jan|       false|\n",
            "|2018-01-01|     United Airlines|    2018-01-01 18:55:00|                     11|              26| 2018-01-01 19:32:00|2018-01-01 21:12:00|             12|  2018-01-01 21:26:00|                   -2|                     271|                        258|             220|          1605|                    0|                    0|                0|                     0|                          0|Newark Liberty In...|          40|          -74|   New York|Denver Internatio...|           39|          -104|   Denver|    1|  1|       Jan|       false|\n",
            "|2018-01-01|     United Airlines|    2018-01-01 11:50:00|                     -1|              13| 2018-01-01 12:02:00|2018-01-01 13:53:00|              7|  2018-01-01 14:18:00|                  -18|                     268|                        251|             231|          1605|                    0|                    0|                0|                     0|                          0|Newark Liberty In...|          40|          -74|   New York|Denver Internatio...|           39|          -104|   Denver|    1|  1|       Jan|       false|\n",
            "|2018-01-01|     United Airlines|    2018-01-01 18:00:00|                     -1|              19| 2018-01-01 18:18:00|2018-01-01 20:01:00|              9|  2018-01-01 20:31:00|                  -21|                     271|                        251|             223|          1605|                    0|                    0|                0|                     0|                          0|Newark Liberty In...|          40|          -74|   New York|Denver Internatio...|           39|          -104|   Denver|    1|  1|       Jan|       false|\n",
            "|2018-01-01|     United Airlines|    2018-01-01 07:39:00|                     -3|              25| 2018-01-01 08:01:00|2018-01-01 09:52:00|             10|  2018-01-01 10:14:00|                  -12|                     275|                        266|             231|          1605|                    0|                    0|                0|                     0|                          0|Newark Liberty In...|          40|          -74|   New York|Denver Internatio...|           39|          -104|   Denver|    1|  1|       Jan|       false|\n",
            "|2018-01-01|  Southwest Airlines|    2018-01-01 18:35:00|                      5|              18| 2018-01-01 18:58:00|2018-01-01 20:42:00|              6|  2018-01-01 21:15:00|                  -27|                     280|                        248|             224|          1605|                    0|                    0|                0|                     0|                          0|Newark Liberty In...|          40|          -74|   New York|Denver Internatio...|           39|          -104|   Denver|    1|  1|       Jan|       false|\n",
            "|2018-01-01|  Southwest Airlines|    2018-01-01 09:10:00|                     -3|              21| 2018-01-01 09:28:00|2018-01-01 11:17:00|              7|  2018-01-01 11:50:00|                  -26|                     280|                        257|             229|          1605|                    0|                    0|                0|                     0|                          0|Newark Liberty In...|          40|          -74|   New York|Denver Internatio...|           39|          -104|   Denver|    1|  1|       Jan|       false|\n",
            "|2018-01-01|  Southwest Airlines|    2018-01-01 12:40:00|                    169|              10| 2018-01-01 15:39:00|2018-01-01 17:25:00|              6|  2018-01-01 15:05:00|                  146|                     265|                        242|             226|          1605|                    3|                    0|                0|                     0|                        143|Newark Liberty In...|          40|          -74|   New York|Denver Internatio...|           39|          -104|   Denver|    1|  1|       Jan|        true|\n",
            "|2018-01-02|  Southwest Airlines|    2018-01-02 19:20:00|                     47|              23| 2018-01-02 20:30:00|2018-01-02 22:05:00|              5|  2018-01-02 21:55:00|                   15|                     275|                        243|             215|          1605|                    4|                    0|                0|                     0|                         11|Newark Liberty In...|          40|          -74|   New York|Denver Internatio...|           39|          -104|   Denver|    1|  2|       Jan|        true|\n",
            "|2018-01-02|  Southwest Airlines|    2018-01-02 13:25:00|                     18|              15| 2018-01-02 13:58:00|2018-01-02 15:29:00|              6|  2018-01-02 15:55:00|                  -20|                     270|                        232|             211|          1605|                    0|                    0|                0|                     0|                          0|Newark Liberty In...|          40|          -74|   New York|Denver Internatio...|           39|          -104|   Denver|    1|  2|       Jan|       false|\n",
            "|2018-01-02|  Southwest Airlines|    2018-01-02 09:25:00|                     -1|              19| 2018-01-02 09:43:00|2018-01-02 11:20:00|              6|  2018-01-02 12:05:00|                  -39|                     280|                        242|             217|          1605|                    0|                    0|                0|                     0|                          0|Newark Liberty In...|          40|          -74|   New York|Denver Internatio...|           39|          -104|   Denver|    1|  2|       Jan|       false|\n",
            "|2018-01-02|     United Airlines|    2018-01-02 15:17:00|                      5|              13| 2018-01-02 15:35:00|2018-01-02 17:12:00|              5|  2018-01-02 17:47:00|                  -30|                     270|                        235|             217|          1605|                    0|                    0|                0|                     0|                          0|Newark Liberty In...|          40|          -74|   New York|Denver Internatio...|           39|          -104|   Denver|    1|  2|       Jan|       false|\n",
            "|2018-01-02|     United Airlines|    2018-01-02 16:51:00|                     -7|              19| 2018-01-02 17:03:00|2018-01-02 18:40:00|              7|  2018-01-02 19:21:00|                  -34|                     270|                        243|             217|          1605|                    0|                    0|                0|                     0|                          0|Newark Liberty In...|          40|          -74|   New York|Denver Internatio...|           39|          -104|   Denver|    1|  2|       Jan|       false|\n",
            "|2018-01-02|     United Airlines|    2018-01-02 06:00:00|                     -3|              14| 2018-01-02 06:11:00|2018-01-02 07:39:00|              6|  2018-01-02 08:37:00|                  -52|                     277|                        228|             208|          1605|                    0|                    0|                0|                     0|                          0|Newark Liberty In...|          40|          -74|   New York|Denver Internatio...|           39|          -104|   Denver|    1|  2|       Jan|       false|\n",
            "|2018-01-02|     United Airlines|    2018-01-02 18:55:00|                     27|              23| 2018-01-02 19:45:00|2018-01-02 21:15:00|              6|  2018-01-02 21:26:00|                   -5|                     271|                        239|             210|          1605|                    0|                    0|                0|                     0|                          0|Newark Liberty In...|          40|          -74|   New York|Denver Internatio...|           39|          -104|   Denver|    1|  2|       Jan|       false|\n",
            "|2018-01-02|     United Airlines|    2018-01-02 11:50:00|                     12|              20| 2018-01-02 12:22:00|2018-01-02 13:50:00|              4|  2018-01-02 14:18:00|                  -24|                     268|                        232|             208|          1605|                    0|                    0|                0|                     0|                          0|Newark Liberty In...|          40|          -74|   New York|Denver Internatio...|           39|          -104|   Denver|    1|  2|       Jan|       false|\n",
            "|2018-01-02|     United Airlines|    2018-01-02 18:00:00|                     36|              25| 2018-01-02 19:01:00|2018-01-02 20:35:00|              5|  2018-01-02 20:31:00|                    9|                     271|                        244|             214|          1605|                    0|                    0|                0|                     0|                          0|Newark Liberty In...|          40|          -74|   New York|Denver Internatio...|           39|          -104|   Denver|    1|  2|       Jan|        true|\n",
            "|2018-01-02|     United Airlines|    2018-01-02 09:00:00|                      2|              18| 2018-01-02 09:20:00|2018-01-02 10:48:00|              7|  2018-01-02 11:40:00|                  -45|                     280|                        233|             208|          1605|                    0|                    0|                0|                     0|                          0|Newark Liberty In...|          40|          -74|   New York|Denver Internatio...|           39|          -104|   Denver|    1|  2|       Jan|       false|\n",
            "+----------+--------------------+-----------------------+-----------------------+----------------+--------------------+-------------------+---------------+---------------------+---------------------+------------------------+---------------------------+----------------+--------------+---------------------+---------------------+-----------------+----------------------+---------------------------+--------------------+------------+-------------+-----------+--------------------+-------------+--------------+---------+-----+---+----------+------------+\n",
            "only showing top 20 rows\n",
            "\n"
          ]
        }
      ]
    },
    {
      "cell_type": "code",
      "source": [
        "final_ml_df.printSchema()"
      ],
      "metadata": {
        "colab": {
          "base_uri": "https://localhost:8080/"
        },
        "id": "0T7XHl2muJf2",
        "outputId": "2cca6402-3c5c-4f87-c167-99e6060d6285"
      },
      "execution_count": null,
      "outputs": [
        {
          "output_type": "stream",
          "name": "stdout",
          "text": [
            "root\n",
            " |-- FLIGHT_DT: date (nullable = true)\n",
            " |-- AIRLINE_CARRIER_CODE: string (nullable = true)\n",
            " |-- CRS_DEPARTURE_TIMESTAMP: timestamp (nullable = true)\n",
            " |-- DEPARTURE_DELAY_MINUTES: integer (nullable = true)\n",
            " |-- TAXI_OUT_MINUTES: integer (nullable = true)\n",
            " |-- WHEELS_OFF_TIMESTAMP: timestamp (nullable = true)\n",
            " |-- WHEELS_ON_TIMESTAMP: timestamp (nullable = true)\n",
            " |-- TAXI_IN_MINUTES: integer (nullable = true)\n",
            " |-- CRS_ARRIVAL_TIMESTAMP: timestamp (nullable = true)\n",
            " |-- ARRIVAL_DELAY_MINUTES: integer (nullable = true)\n",
            " |-- CRS_ELAPSED_TIME_MINUTES: integer (nullable = true)\n",
            " |-- ACTUAL_ELAPSED_TIME_MINUTES: integer (nullable = true)\n",
            " |-- AIR_TIME_MINUTES: integer (nullable = true)\n",
            " |-- DISTANCE_MILES: integer (nullable = true)\n",
            " |-- CARRIER_DELAY_MINUTES: integer (nullable = true)\n",
            " |-- WEATHER_DELAY_MINUTES: integer (nullable = true)\n",
            " |-- NAS_DELAY_MINUTES: integer (nullable = true)\n",
            " |-- SECURITY_DELAY_MINUTES: integer (nullable = true)\n",
            " |-- LATE_AIRCRAFT_DELAY_MINUTES: integer (nullable = true)\n",
            " |-- ORG_AIRPORT: string (nullable = true)\n",
            " |-- ORG_LATITUDE: integer (nullable = true)\n",
            " |-- ORG_LONGITUDE: integer (nullable = true)\n",
            " |-- ORIGIN_CITY: string (nullable = true)\n",
            " |-- DEST_AIRPORT: string (nullable = true)\n",
            " |-- DEST_LATITUDE: integer (nullable = true)\n",
            " |-- DEST_LONGITUDE: integer (nullable = true)\n",
            " |-- DEST_CITY: string (nullable = true)\n",
            " |-- MONTH: string (nullable = true)\n",
            " |-- DAY: string (nullable = true)\n",
            " |-- MONTH_ABBR: string (nullable = true)\n",
            " |-- DELAY_STATUS: boolean (nullable = true)\n",
            "\n"
          ]
        }
      ]
    },
    {
      "cell_type": "code",
      "source": [
        "# Configure settings for RDS\n",
        "mode = \"append\"\n",
        "jdbc_url=\"jdbc:postgresql://airline-db.cjrwalaqox8l.us-east-2.rds.amazonaws.com/airline\"\n",
        "config = {\"user\":\"postgres\", \n",
        "          \"password\": \"57jcw2Jvswa7vhDe\", \n",
        "          \"driver\":\"org.postgresql.Driver\"}"
      ],
      "metadata": {
        "id": "cLIHqqB-BAoT"
      },
      "execution_count": null,
      "outputs": []
    },
    {
      "cell_type": "code",
      "source": [
        "#Write Machine Learning Dataframe to table in RDS\n",
        "final_ml_df.write.jdbc(url=jdbc_url, table='project.machine_learning_flight_data', mode=mode, properties=config)"
      ],
      "metadata": {
        "id": "MMvNgqgTBBpJ"
      },
      "execution_count": null,
      "outputs": []
    }
  ]
}