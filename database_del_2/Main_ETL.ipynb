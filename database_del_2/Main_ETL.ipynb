{
  "nbformat": 4,
  "nbformat_minor": 0,
  "metadata": {
    "colab": {
      "name": "Main_ETL.ipynb",
      "provenance": [],
      "collapsed_sections": []
    },
    "kernelspec": {
      "name": "python3",
      "display_name": "Python 3"
    },
    "language_info": {
      "name": "python"
    }
  },
  "cells": [
    {
      "cell_type": "code",
      "execution_count": null,
      "metadata": {
        "colab": {
          "base_uri": "https://localhost:8080/"
        },
        "id": "XGMX4QUp_Alk",
        "outputId": "4b96d914-efd6-403b-8b24-9c7861c9d0c6"
      },
      "outputs": [
        {
          "output_type": "stream",
          "name": "stdout",
          "text": [
            "Ign:1 https://developer.download.nvidia.com/compute/cuda/repos/ubuntu1804/x86_64  InRelease\n",
            "Hit:2 https://cloud.r-project.org/bin/linux/ubuntu bionic-cran40/ InRelease\n",
            "Hit:3 http://ppa.launchpad.net/c2d4u.team/c2d4u4.0+/ubuntu bionic InRelease\n",
            "Ign:4 https://developer.download.nvidia.com/compute/machine-learning/repos/ubuntu1804/x86_64  InRelease\n",
            "Hit:5 https://developer.download.nvidia.com/compute/cuda/repos/ubuntu1804/x86_64  Release\n",
            "Get:6 http://security.ubuntu.com/ubuntu bionic-security InRelease [88.7 kB]\n",
            "Hit:7 https://developer.download.nvidia.com/compute/machine-learning/repos/ubuntu1804/x86_64  Release\n",
            "Hit:8 http://archive.ubuntu.com/ubuntu bionic InRelease\n",
            "Get:9 http://archive.ubuntu.com/ubuntu bionic-updates InRelease [88.7 kB]\n",
            "Hit:10 http://ppa.launchpad.net/cran/libgit2/ubuntu bionic InRelease\n",
            "Hit:11 http://ppa.launchpad.net/deadsnakes/ppa/ubuntu bionic InRelease\n",
            "Get:12 http://archive.ubuntu.com/ubuntu bionic-backports InRelease [74.6 kB]\n",
            "Hit:13 http://ppa.launchpad.net/graphics-drivers/ppa/ubuntu bionic InRelease\n",
            "Fetched 252 kB in 4s (67.8 kB/s)\n",
            "Reading package lists... Done\n"
          ]
        }
      ],
      "source": [
        "import os\n",
        "import pandas as pd\n",
        "import numpy as np\n",
        "\n",
        "\n",
        "spark_version = 'spark-3.0.3'\n",
        "os.environ['SPARK_VERSION']=spark_version\n",
        "\n",
        "# Install Spark and Java\n",
        "!apt-get update\n",
        "!apt-get install openjdk-11-jdk-headless -qq > /dev/null\n",
        "!wget -q https://downloads.apache.org/spark/spark-3.0.3/spark-3.0.3-bin-hadoop2.7.tgz\n",
        "!tar xf spark-3.0.3-bin-hadoop2.7.tgz\n",
        "!pip install -q findspark\n",
        "\n",
        "# Set Environment Variables\n",
        "os.environ[\"JAVA_HOME\"] = \"/usr/lib/jvm/java-11-openjdk-amd64\"\n",
        "os.environ[\"SPARK_HOME\"] = f\"/content/{spark_version}-bin-hadoop2.7\"\n",
        "\n",
        "# Start a SparkSession\n",
        "import findspark\n",
        "findspark.init()"
      ]
    },
    {
      "cell_type": "code",
      "source": [
        "# Download the Postgres driver that will allow Spark to interact with Postgres.\n",
        "!wget https://jdbc.postgresql.org/download/postgresql-42.2.16.jar"
      ],
      "metadata": {
        "colab": {
          "base_uri": "https://localhost:8080/"
        },
        "id": "-YJdkkYD_KVS",
        "outputId": "5293cb39-f431-4c1f-9374-f9f95afc5a0d"
      },
      "execution_count": null,
      "outputs": [
        {
          "output_type": "stream",
          "name": "stdout",
          "text": [
            "--2022-01-26 04:32:21--  https://jdbc.postgresql.org/download/postgresql-42.2.16.jar\n",
            "Resolving jdbc.postgresql.org (jdbc.postgresql.org)... 72.32.157.228, 2001:4800:3e1:1::228\n",
            "Connecting to jdbc.postgresql.org (jdbc.postgresql.org)|72.32.157.228|:443... connected.\n",
            "HTTP request sent, awaiting response... 200 OK\n",
            "Length: 1002883 (979K) [application/java-archive]\n",
            "Saving to: ‘postgresql-42.2.16.jar.5’\n",
            "\n",
            "postgresql-42.2.16. 100%[===================>] 979.38K  --.-KB/s    in 0.1s    \n",
            "\n",
            "2022-01-26 04:32:21 (6.51 MB/s) - ‘postgresql-42.2.16.jar.5’ saved [1002883/1002883]\n",
            "\n"
          ]
        }
      ]
    },
    {
      "cell_type": "code",
      "source": [
        "from pyspark.sql import SparkSession\n",
        "spark = SparkSession.builder.appName(\"Final-Project\").config(\"spark.driver.extraClassPath\",\"/content/postgresql-42.2.16.jar\").getOrCreate()"
      ],
      "metadata": {
        "id": "u0neqVT7_Ncf"
      },
      "execution_count": null,
      "outputs": []
    },
    {
      "cell_type": "code",
      "source": [
        "from pyspark.sql import *\n",
        "from pyspark.sql import SparkSession\n",
        "from pyspark.sql.functions import lpad\n",
        "from pyspark.sql.functions import concat\n",
        "from pyspark.sql.functions import lit\n",
        "from pyspark.sql.functions import substring"
      ],
      "metadata": {
        "id": "630cyNQk_PZa"
      },
      "execution_count": null,
      "outputs": []
    },
    {
      "cell_type": "code",
      "source": [
        "from pyspark import SparkFiles\n",
        "url = \"https://finalprojectstorage10.s3.us-east-2.amazonaws.com/2018.csv\"\n",
        "spark.sparkContext.addFile(url)\n",
        "df = spark.read.option(\"encoding\", \"UTF-8\").csv(SparkFiles.get(\"2018.csv\"), header=True)\n",
        "df.show()"
      ],
      "metadata": {
        "colab": {
          "base_uri": "https://localhost:8080/"
        },
        "id": "qsxw2sYP_RnB",
        "outputId": "7455825e-45c3-4434-ec87-a5b82040f8b0"
      },
      "execution_count": null,
      "outputs": [
        {
          "output_type": "stream",
          "name": "stdout",
          "text": [
            "+----------+----------+-----------------+------+----+------------+--------+---------+--------+----------+---------+-------+------------+--------+---------+---------+-----------------+--------+----------------+-------------------+--------+--------+-------------+-------------+---------+--------------+-------------------+-----------+\n",
            "|   FL_DATE|OP_CARRIER|OP_CARRIER_FL_NUM|ORIGIN|DEST|CRS_DEP_TIME|DEP_TIME|DEP_DELAY|TAXI_OUT|WHEELS_OFF|WHEELS_ON|TAXI_IN|CRS_ARR_TIME|ARR_TIME|ARR_DELAY|CANCELLED|CANCELLATION_CODE|DIVERTED|CRS_ELAPSED_TIME|ACTUAL_ELAPSED_TIME|AIR_TIME|DISTANCE|CARRIER_DELAY|WEATHER_DELAY|NAS_DELAY|SECURITY_DELAY|LATE_AIRCRAFT_DELAY|Unnamed: 27|\n",
            "+----------+----------+-----------------+------+----+------------+--------+---------+--------+----------+---------+-------+------------+--------+---------+---------+-----------------+--------+----------------+-------------------+--------+--------+-------------+-------------+---------+--------------+-------------------+-----------+\n",
            "|2018-01-01|        UA|             2429|   EWR| DEN|        1517|  1512.0|     -5.0|    15.0|    1527.0|   1712.0|   10.0|        1745|  1722.0|    -23.0|      0.0|             null|     0.0|           268.0|              250.0|   225.0|  1605.0|         null|         null|     null|          null|               null|       null|\n",
            "|2018-01-01|        UA|             2427|   LAS| SFO|        1115|  1107.0|     -8.0|    11.0|    1118.0|   1223.0|    7.0|        1254|  1230.0|    -24.0|      0.0|             null|     0.0|            99.0|               83.0|    65.0|   414.0|         null|         null|     null|          null|               null|       null|\n",
            "|2018-01-01|        UA|             2426|   SNA| DEN|        1335|  1330.0|     -5.0|    15.0|    1345.0|   1631.0|    5.0|        1649|  1636.0|    -13.0|      0.0|             null|     0.0|           134.0|              126.0|   106.0|   846.0|         null|         null|     null|          null|               null|       null|\n",
            "|2018-01-01|        UA|             2425|   RSW| ORD|        1546|  1552.0|      6.0|    19.0|    1611.0|   1748.0|    6.0|        1756|  1754.0|     -2.0|      0.0|             null|     0.0|           190.0|              182.0|   157.0|  1120.0|         null|         null|     null|          null|               null|       null|\n",
            "|2018-01-01|        UA|             2424|   ORD| ALB|         630|   650.0|     20.0|    13.0|     703.0|    926.0|   10.0|         922|   936.0|     14.0|      0.0|             null|     0.0|           112.0|              106.0|    83.0|   723.0|         null|         null|     null|          null|               null|       null|\n",
            "|2018-01-01|        UA|             2422|   ORD| OMA|        2241|  2244.0|      3.0|    15.0|    2259.0|      1.0|    2.0|          14|     3.0|    -11.0|      0.0|             null|     0.0|            93.0|               79.0|    62.0|   416.0|         null|         null|     null|          null|               null|       null|\n",
            "|2018-01-01|        UA|             2421|   IAH| LAS|         750|   747.0|     -3.0|    14.0|     801.0|    854.0|    6.0|         916|   900.0|    -16.0|      0.0|             null|     0.0|           206.0|              193.0|   173.0|  1222.0|         null|         null|     null|          null|               null|       null|\n",
            "|2018-01-01|        UA|             2420|   DEN| CID|        1324|  1318.0|     -6.0|    11.0|    1329.0|   1554.0|    6.0|        1619|  1600.0|    -19.0|      0.0|             null|     0.0|           115.0|              102.0|    85.0|   692.0|         null|         null|     null|          null|               null|       null|\n",
            "|2018-01-01|        UA|             2419|   SMF| EWR|        2224|  2237.0|     13.0|    10.0|    2247.0|    627.0|    9.0|         638|   636.0|     -2.0|      0.0|             null|     0.0|           314.0|              299.0|   280.0|  2500.0|         null|         null|     null|          null|               null|       null|\n",
            "|2018-01-01|        UA|             2418|   RIC| DEN|        1601|  1559.0|     -2.0|    12.0|    1611.0|   1748.0|    8.0|        1813|  1756.0|    -17.0|      0.0|             null|     0.0|           252.0|              237.0|   217.0|  1482.0|         null|         null|     null|          null|               null|       null|\n",
            "|2018-01-01|        UA|             2417|   PDX| EWR|        2240|  2235.0|     -5.0|     9.0|    2244.0|    624.0|    7.0|         647|   631.0|    -16.0|      0.0|             null|     0.0|           307.0|              296.0|   280.0|  2434.0|         null|         null|     null|          null|               null|       null|\n",
            "|2018-01-01|        UA|             2416|   ORD| CLE|        2059|  2300.0|    121.0|    24.0|    2324.0|    112.0|    8.0|        2311|   120.0|    129.0|      0.0|             null|     0.0|            72.0|               80.0|    48.0|   316.0|        121.0|          0.0|      8.0|           0.0|                0.0|       null|\n",
            "|2018-01-01|        UA|             2415|   EWR| PDX|         825|   822.0|     -3.0|    15.0|     837.0|   1104.0|    5.0|        1135|  1109.0|    -26.0|      0.0|             null|     0.0|           370.0|              347.0|   327.0|  2434.0|         null|         null|     null|          null|               null|       null|\n",
            "|2018-01-01|        UA|             2414|   EWR| ATL|        1044|  1055.0|     11.0|    11.0|    1106.0|   1310.0|    5.0|        1318|  1315.0|     -3.0|      0.0|             null|     0.0|           154.0|              140.0|   124.0|   746.0|         null|         null|     null|          null|               null|       null|\n",
            "|2018-01-01|        UA|             2413|   ORD| BTV|        2114|  2230.0|     76.0|    14.0|    2244.0|    123.0|    5.0|          15|   128.0|     73.0|      0.0|             null|     0.0|           121.0|              118.0|    99.0|   763.0|          0.0|         11.0|      0.0|           0.0|               62.0|       null|\n",
            "|2018-01-01|        UA|             2412|   MCO| LAX|         653|   747.0|     54.0|    14.0|     801.0|   1003.0|   22.0|         930|  1025.0|     55.0|      0.0|             null|     0.0|           337.0|              338.0|   302.0|  2218.0|         54.0|          0.0|      1.0|           0.0|                0.0|       null|\n",
            "|2018-01-01|        UA|             2411|   EWR| SMF|        1810|  1922.0|     72.0|    16.0|    1938.0|   2157.0|    4.0|        2136|  2201.0|     25.0|      0.0|             null|     0.0|           386.0|              339.0|   319.0|  2500.0|          7.0|          0.0|      0.0|           0.0|               18.0|       null|\n",
            "|2018-01-01|        UA|             2410|   RSW| EWR|        1250|  1337.0|     47.0|    12.0|    1349.0|   1600.0|    6.0|        1537|  1606.0|     29.0|      0.0|             null|     0.0|           167.0|              149.0|   131.0|  1068.0|         29.0|          0.0|      0.0|           0.0|                0.0|       null|\n",
            "|2018-01-01|        UA|             2409|   IAH| JAC|         940|   934.0|     -6.0|    18.0|     952.0|   1156.0|    4.0|        1218|  1200.0|    -18.0|      0.0|             null|     0.0|           218.0|              206.0|   184.0|  1265.0|         null|         null|     null|          null|               null|       null|\n",
            "|2018-01-01|        UA|             2408|   TYS| EWR|        1131|  1140.0|      9.0|     9.0|    1149.0|   1307.0|    5.0|        1333|  1312.0|    -21.0|      0.0|             null|     0.0|           122.0|               92.0|    78.0|   631.0|         null|         null|     null|          null|               null|       null|\n",
            "+----------+----------+-----------------+------+----+------------+--------+---------+--------+----------+---------+-------+------------+--------+---------+---------+-----------------+--------+----------------+-------------------+--------+--------+-------------+-------------+---------+--------------+-------------------+-----------+\n",
            "only showing top 20 rows\n",
            "\n"
          ]
        }
      ]
    },
    {
      "cell_type": "code",
      "source": [
        "from pyspark.sql.functions import *\n",
        "\n",
        "#Timestamp function to fix formatting\n",
        "def padTimeStamp(x,y):\n",
        "  if y is None:\n",
        "      y = \"0\"\n",
        "\n",
        "  y = y.replace(\".0\",\"\")\n",
        "  return x + \" \" + y.zfill(4)[0:2] + \":\" + y.zfill(4)[2:4]\n",
        "\n",
        "#Create udf becuase python fucntions do not work with pyspark\n",
        "padTimeStampUDF = udf(lambda x,y: padTimeStamp(x,y)) \n",
        "\n",
        "#inital dataframe applying the udf to pad and format the timestamp columns and pick the rest of the columns\n",
        "initial_df = df.select(\n",
        "                    \"OP_CARRIER\",\n",
        "                    \"OP_CARRIER_FL_NUM\", \n",
        "                    \"ORIGIN\",\n",
        "                    padTimeStampUDF(df[\"FL_DATE\"],df[\"CRS_DEP_TIME\"]).alias(\"CRS_DEPARTURE_TIMESTAMP\"),\n",
        "                    df.columns[0],df.columns[4],\n",
        "                    padTimeStampUDF(df[\"FL_DATE\"],df[\"DEP_TIME\"]).alias(\"ACTUAL_DEPARTURE_TIMESTAMP\"),\n",
        "                    df.columns[7],df.columns[8],\n",
        "                    padTimeStampUDF(df[\"FL_DATE\"],df[\"WHEELS_OFF\"]).alias(\"WHEELS_OFF_TIMESTAMP\"),\n",
        "                    padTimeStampUDF(df[\"FL_DATE\"],df[\"WHEELS_ON\"]).alias(\"WHEELS_ON_TIMESTAMP\"),\n",
        "                    df.columns[11],\n",
        "                    padTimeStampUDF(df[\"FL_DATE\"],df[\"CRS_ARR_TIME\"]).alias(\"CRS_ARRIVAL_TIMESTAMP\"),\n",
        "                    padTimeStampUDF(df[\"FL_DATE\"],df[\"ARR_TIME\"]).alias(\"ACTUAL_ARRIVAL_TIMESTAMP\"), \n",
        "                    df.columns[14], df.columns[15], df.columns[16], df.columns[17], df.columns[18], df.columns[19], df.columns[20], df.columns[21], df.columns[22], df.columns[23], df.columns[24], df.columns[25], df.columns[26] \n",
        "                  )\n",
        "#initial_df.printSchema()\n",
        "#initial_df.show()\n",
        "\n",
        "#Changed the 1 and 0s to true and false\n",
        "initial_df = initial_df.withColumn(\"DIVERTED\", when(col(\"DIVERTED\") == '1.0', True).otherwise(False))\n",
        "initial_df = initial_df.withColumn(\"CANCELLED\", when(col(\"CANCELLED\") == '1.0', True).otherwise(False))\n",
        "\n",
        "#Final df where we change the column names and cast the datatypes\n",
        "final_df = initial_df.selectExpr(\n",
        "                                \"OP_CARRIER as AIRLINE_CARRIER_CODE\",\n",
        "                                \"OP_CARRIER_FL_NUM\",\n",
        "                                \"ORIGIN as ORIGIN_AIRPORT_CODE\",\n",
        "                                \"cast(CRS_DEPARTURE_TIMESTAMP as timestamp) CRS_DEPARTURE_TIMESTAMP\",\n",
        "                                \"cast(FL_DATE as date) FLIGHT_DT\",\n",
        "                                \"DEST as DEST_AIRPORT_CODE\",\n",
        "                                \"cast(ACTUAL_DEPARTURE_TIMESTAMP as timestamp) ACTUAL_DEPARTURE_TIMESTAMP\",\n",
        "                                \"cast(DEP_DELAY as integer) as DEPARTURE_DELAY_MINUTES\",\n",
        "                                \"cast(TAXI_OUT as integer) TAXI_OUT_MINUTES\",\n",
        "                                \"cast(WHEELS_OFF_TIMESTAMP as timestamp) WHEELS_OFF_TIMESTAMP\",\n",
        "                                \"cast(WHEELS_ON_TIMESTAMP as timestamp) WHEELS_ON_TIMESTAMP\",\n",
        "                                \"cast(TAXI_IN as integer) TAXI_IN_MINUTES\",\n",
        "                                \"cast(CRS_ARRIVAL_TIMESTAMP as timestamp) CRS_ARRIVAL_TIMESTAMP\",\n",
        "                                \"cast(CRS_ARRIVAL_TIMESTAMP as timestamp) ACTUAL_ARRIVAL_TIMESTAMP\",\n",
        "                                \"cast(ARR_DELAY as integer) ARRIVAL_DELAY_MINUTES\",\n",
        "                                \"CANCELLED as CANCELLED_IND\",\n",
        "                                \"CANCELLATION_CODE\",\n",
        "                                \"DIVERTED as DIVERTED_IND\",\n",
        "                                \"cast(CRS_ELAPSED_TIME as integer) CRS_ELAPSED_TIME_MINUTES\",\n",
        "                                \"cast(ACTUAL_ELAPSED_TIME as integer) ACTUAL_ELAPSED_TIME_MINUTES\",\n",
        "                                \"cast(AIR_TIME as integer) AIR_TIME_MINUTES\",\n",
        "                                \"cast(DISTANCE as integer) DISTANCE_MILES\",\n",
        "                                \"cast(CARRIER_DELAY as integer) CARRIER_DELAY_MINUTES\",\n",
        "                                \"cast(WEATHER_DELAY as integer) WEATHER_DELAY_MINUTES\",\n",
        "                                \"cast(NAS_DELAY as integer) NAS_DELAY_MINUTES\",\n",
        "                                \"cast(SECURITY_DELAY as integer) SECURITY_DELAY_MINUTES\",\n",
        "                                \"cast(LATE_AIRCRAFT_DELAY as integer) LATE_AIRCRAFT_DELAY_MINUTES\"\n",
        "                                )\n",
        "#Fill the null values with 0\n",
        "final_df = final_df.na.fill(value=0,subset=[\"CARRIER_DELAY_MINUTES\", \"WEATHER_DELAY_MINUTES\", \"NAS_DELAY_MINUTES\", \"SECURITY_DELAY_MINUTES\",\"LATE_AIRCRAFT_DELAY_MINUTES\"])\n",
        "\n",
        "final_df.show()"
      ],
      "metadata": {
        "colab": {
          "base_uri": "https://localhost:8080/"
        },
        "id": "FgifKHjx_68B",
        "outputId": "d94ae834-6d7c-40fe-d5a8-22d418390ab1"
      },
      "execution_count": null,
      "outputs": [
        {
          "output_type": "stream",
          "name": "stdout",
          "text": [
            "+--------------------+-----------------+-------------------+-----------------------+----------+-----------------+--------------------------+-----------------------+----------------+--------------------+-------------------+---------------+---------------------+------------------------+---------------------+-------------+-----------------+------------+------------------------+---------------------------+----------------+--------------+---------------------+---------------------+-----------------+----------------------+---------------------------+\n",
            "|AIRLINE_CARRIER_CODE|OP_CARRIER_FL_NUM|ORIGIN_AIRPORT_CODE|CRS_DEPARTURE_TIMESTAMP| FLIGHT_DT|DEST_AIRPORT_CODE|ACTUAL_DEPARTURE_TIMESTAMP|DEPARTURE_DELAY_MINUTES|TAXI_OUT_MINUTES|WHEELS_OFF_TIMESTAMP|WHEELS_ON_TIMESTAMP|TAXI_IN_MINUTES|CRS_ARRIVAL_TIMESTAMP|ACTUAL_ARRIVAL_TIMESTAMP|ARRIVAL_DELAY_MINUTES|CANCELLED_IND|CANCELLATION_CODE|DIVERTED_IND|CRS_ELAPSED_TIME_MINUTES|ACTUAL_ELAPSED_TIME_MINUTES|AIR_TIME_MINUTES|DISTANCE_MILES|CARRIER_DELAY_MINUTES|WEATHER_DELAY_MINUTES|NAS_DELAY_MINUTES|SECURITY_DELAY_MINUTES|LATE_AIRCRAFT_DELAY_MINUTES|\n",
            "+--------------------+-----------------+-------------------+-----------------------+----------+-----------------+--------------------------+-----------------------+----------------+--------------------+-------------------+---------------+---------------------+------------------------+---------------------+-------------+-----------------+------------+------------------------+---------------------------+----------------+--------------+---------------------+---------------------+-----------------+----------------------+---------------------------+\n",
            "|                  UA|             2429|                EWR|    2018-01-01 15:17:00|2018-01-01|              DEN|       2018-01-01 15:12:00|                     -5|              15| 2018-01-01 15:27:00|2018-01-01 17:12:00|             10|  2018-01-01 17:45:00|     2018-01-01 17:45:00|                  -23|        false|             null|       false|                     268|                        250|             225|          1605|                    0|                    0|                0|                     0|                          0|\n",
            "|                  UA|             2427|                LAS|    2018-01-01 11:15:00|2018-01-01|              SFO|       2018-01-01 11:07:00|                     -8|              11| 2018-01-01 11:18:00|2018-01-01 12:23:00|              7|  2018-01-01 12:54:00|     2018-01-01 12:54:00|                  -24|        false|             null|       false|                      99|                         83|              65|           414|                    0|                    0|                0|                     0|                          0|\n",
            "|                  UA|             2426|                SNA|    2018-01-01 13:35:00|2018-01-01|              DEN|       2018-01-01 13:30:00|                     -5|              15| 2018-01-01 13:45:00|2018-01-01 16:31:00|              5|  2018-01-01 16:49:00|     2018-01-01 16:49:00|                  -13|        false|             null|       false|                     134|                        126|             106|           846|                    0|                    0|                0|                     0|                          0|\n",
            "|                  UA|             2425|                RSW|    2018-01-01 15:46:00|2018-01-01|              ORD|       2018-01-01 15:52:00|                      6|              19| 2018-01-01 16:11:00|2018-01-01 17:48:00|              6|  2018-01-01 17:56:00|     2018-01-01 17:56:00|                   -2|        false|             null|       false|                     190|                        182|             157|          1120|                    0|                    0|                0|                     0|                          0|\n",
            "|                  UA|             2424|                ORD|    2018-01-01 06:30:00|2018-01-01|              ALB|       2018-01-01 06:50:00|                     20|              13| 2018-01-01 07:03:00|2018-01-01 09:26:00|             10|  2018-01-01 09:22:00|     2018-01-01 09:22:00|                   14|        false|             null|       false|                     112|                        106|              83|           723|                    0|                    0|                0|                     0|                          0|\n",
            "|                  UA|             2422|                ORD|    2018-01-01 22:41:00|2018-01-01|              OMA|       2018-01-01 22:44:00|                      3|              15| 2018-01-01 22:59:00|2018-01-01 00:01:00|              2|  2018-01-01 00:14:00|     2018-01-01 00:14:00|                  -11|        false|             null|       false|                      93|                         79|              62|           416|                    0|                    0|                0|                     0|                          0|\n",
            "|                  UA|             2421|                IAH|    2018-01-01 07:50:00|2018-01-01|              LAS|       2018-01-01 07:47:00|                     -3|              14| 2018-01-01 08:01:00|2018-01-01 08:54:00|              6|  2018-01-01 09:16:00|     2018-01-01 09:16:00|                  -16|        false|             null|       false|                     206|                        193|             173|          1222|                    0|                    0|                0|                     0|                          0|\n",
            "|                  UA|             2420|                DEN|    2018-01-01 13:24:00|2018-01-01|              CID|       2018-01-01 13:18:00|                     -6|              11| 2018-01-01 13:29:00|2018-01-01 15:54:00|              6|  2018-01-01 16:19:00|     2018-01-01 16:19:00|                  -19|        false|             null|       false|                     115|                        102|              85|           692|                    0|                    0|                0|                     0|                          0|\n",
            "|                  UA|             2419|                SMF|    2018-01-01 22:24:00|2018-01-01|              EWR|       2018-01-01 22:37:00|                     13|              10| 2018-01-01 22:47:00|2018-01-01 06:27:00|              9|  2018-01-01 06:38:00|     2018-01-01 06:38:00|                   -2|        false|             null|       false|                     314|                        299|             280|          2500|                    0|                    0|                0|                     0|                          0|\n",
            "|                  UA|             2418|                RIC|    2018-01-01 16:01:00|2018-01-01|              DEN|       2018-01-01 15:59:00|                     -2|              12| 2018-01-01 16:11:00|2018-01-01 17:48:00|              8|  2018-01-01 18:13:00|     2018-01-01 18:13:00|                  -17|        false|             null|       false|                     252|                        237|             217|          1482|                    0|                    0|                0|                     0|                          0|\n",
            "|                  UA|             2417|                PDX|    2018-01-01 22:40:00|2018-01-01|              EWR|       2018-01-01 22:35:00|                     -5|               9| 2018-01-01 22:44:00|2018-01-01 06:24:00|              7|  2018-01-01 06:47:00|     2018-01-01 06:47:00|                  -16|        false|             null|       false|                     307|                        296|             280|          2434|                    0|                    0|                0|                     0|                          0|\n",
            "|                  UA|             2416|                ORD|    2018-01-01 20:59:00|2018-01-01|              CLE|       2018-01-01 23:00:00|                    121|              24| 2018-01-01 23:24:00|2018-01-01 01:12:00|              8|  2018-01-01 23:11:00|     2018-01-01 23:11:00|                  129|        false|             null|       false|                      72|                         80|              48|           316|                  121|                    0|                8|                     0|                          0|\n",
            "|                  UA|             2415|                EWR|    2018-01-01 08:25:00|2018-01-01|              PDX|       2018-01-01 08:22:00|                     -3|              15| 2018-01-01 08:37:00|2018-01-01 11:04:00|              5|  2018-01-01 11:35:00|     2018-01-01 11:35:00|                  -26|        false|             null|       false|                     370|                        347|             327|          2434|                    0|                    0|                0|                     0|                          0|\n",
            "|                  UA|             2414|                EWR|    2018-01-01 10:44:00|2018-01-01|              ATL|       2018-01-01 10:55:00|                     11|              11| 2018-01-01 11:06:00|2018-01-01 13:10:00|              5|  2018-01-01 13:18:00|     2018-01-01 13:18:00|                   -3|        false|             null|       false|                     154|                        140|             124|           746|                    0|                    0|                0|                     0|                          0|\n",
            "|                  UA|             2413|                ORD|    2018-01-01 21:14:00|2018-01-01|              BTV|       2018-01-01 22:30:00|                     76|              14| 2018-01-01 22:44:00|2018-01-01 01:23:00|              5|  2018-01-01 00:15:00|     2018-01-01 00:15:00|                   73|        false|             null|       false|                     121|                        118|              99|           763|                    0|                   11|                0|                     0|                         62|\n",
            "|                  UA|             2412|                MCO|    2018-01-01 06:53:00|2018-01-01|              LAX|       2018-01-01 07:47:00|                     54|              14| 2018-01-01 08:01:00|2018-01-01 10:03:00|             22|  2018-01-01 09:30:00|     2018-01-01 09:30:00|                   55|        false|             null|       false|                     337|                        338|             302|          2218|                   54|                    0|                1|                     0|                          0|\n",
            "|                  UA|             2411|                EWR|    2018-01-01 18:10:00|2018-01-01|              SMF|       2018-01-01 19:22:00|                     72|              16| 2018-01-01 19:38:00|2018-01-01 21:57:00|              4|  2018-01-01 21:36:00|     2018-01-01 21:36:00|                   25|        false|             null|       false|                     386|                        339|             319|          2500|                    7|                    0|                0|                     0|                         18|\n",
            "|                  UA|             2410|                RSW|    2018-01-01 12:50:00|2018-01-01|              EWR|       2018-01-01 13:37:00|                     47|              12| 2018-01-01 13:49:00|2018-01-01 16:00:00|              6|  2018-01-01 15:37:00|     2018-01-01 15:37:00|                   29|        false|             null|       false|                     167|                        149|             131|          1068|                   29|                    0|                0|                     0|                          0|\n",
            "|                  UA|             2409|                IAH|    2018-01-01 09:40:00|2018-01-01|              JAC|       2018-01-01 09:34:00|                     -6|              18| 2018-01-01 09:52:00|2018-01-01 11:56:00|              4|  2018-01-01 12:18:00|     2018-01-01 12:18:00|                  -18|        false|             null|       false|                     218|                        206|             184|          1265|                    0|                    0|                0|                     0|                          0|\n",
            "|                  UA|             2408|                TYS|    2018-01-01 11:31:00|2018-01-01|              EWR|       2018-01-01 11:40:00|                      9|               9| 2018-01-01 11:49:00|2018-01-01 13:07:00|              5|  2018-01-01 13:33:00|     2018-01-01 13:33:00|                  -21|        false|             null|       false|                     122|                         92|              78|           631|                    0|                    0|                0|                     0|                          0|\n",
            "+--------------------+-----------------+-------------------+-----------------------+----------+-----------------+--------------------------+-----------------------+----------------+--------------------+-------------------+---------------+---------------------+------------------------+---------------------+-------------+-----------------+------------+------------------------+---------------------------+----------------+--------------+---------------------+---------------------+-----------------+----------------------+---------------------------+\n",
            "only showing top 20 rows\n",
            "\n"
          ]
        }
      ]
    },
    {
      "cell_type": "code",
      "source": [
        "final_df.printSchema()"
      ],
      "metadata": {
        "colab": {
          "base_uri": "https://localhost:8080/"
        },
        "id": "IJhI9tBcADbt",
        "outputId": "80594a7b-5d9c-4903-94a3-c183b2b19447"
      },
      "execution_count": null,
      "outputs": [
        {
          "output_type": "stream",
          "name": "stdout",
          "text": [
            "root\n",
            " |-- AIRLINE_CARRIER_CODE: string (nullable = true)\n",
            " |-- OP_CARRIER_FL_NUM: string (nullable = true)\n",
            " |-- ORIGIN_AIRPORT_CODE: string (nullable = true)\n",
            " |-- CRS_DEPARTURE_TIMESTAMP: timestamp (nullable = true)\n",
            " |-- FLIGHT_DT: date (nullable = true)\n",
            " |-- DEST_AIRPORT_CODE: string (nullable = true)\n",
            " |-- ACTUAL_DEPARTURE_TIMESTAMP: timestamp (nullable = true)\n",
            " |-- DEPARTURE_DELAY_MINUTES: integer (nullable = true)\n",
            " |-- TAXI_OUT_MINUTES: integer (nullable = true)\n",
            " |-- WHEELS_OFF_TIMESTAMP: timestamp (nullable = true)\n",
            " |-- WHEELS_ON_TIMESTAMP: timestamp (nullable = true)\n",
            " |-- TAXI_IN_MINUTES: integer (nullable = true)\n",
            " |-- CRS_ARRIVAL_TIMESTAMP: timestamp (nullable = true)\n",
            " |-- ACTUAL_ARRIVAL_TIMESTAMP: timestamp (nullable = true)\n",
            " |-- ARRIVAL_DELAY_MINUTES: integer (nullable = true)\n",
            " |-- CANCELLED_IND: boolean (nullable = false)\n",
            " |-- CANCELLATION_CODE: string (nullable = true)\n",
            " |-- DIVERTED_IND: boolean (nullable = false)\n",
            " |-- CRS_ELAPSED_TIME_MINUTES: integer (nullable = true)\n",
            " |-- ACTUAL_ELAPSED_TIME_MINUTES: integer (nullable = true)\n",
            " |-- AIR_TIME_MINUTES: integer (nullable = true)\n",
            " |-- DISTANCE_MILES: integer (nullable = true)\n",
            " |-- CARRIER_DELAY_MINUTES: integer (nullable = true)\n",
            " |-- WEATHER_DELAY_MINUTES: integer (nullable = true)\n",
            " |-- NAS_DELAY_MINUTES: integer (nullable = true)\n",
            " |-- SECURITY_DELAY_MINUTES: integer (nullable = true)\n",
            " |-- LATE_AIRCRAFT_DELAY_MINUTES: integer (nullable = true)\n",
            "\n"
          ]
        }
      ]
    },
    {
      "cell_type": "code",
      "source": [
        "#final_df.filter((final_df.AIRLINE_CARRIER_CODE == \"YX\") & (final_df.OP_CARRIER_FL_NUM == \"3624\") & (final_df.CRS_DEPARTURE_TIMESTAMP == '2018-06-21 20:07:00')).show(100)"
      ],
      "metadata": {
        "id": "ZyVxb-HICxDh"
      },
      "execution_count": null,
      "outputs": []
    },
    {
      "cell_type": "markdown",
      "source": [
        "## Airport Names "
      ],
      "metadata": {
        "id": "EQJV3CsfoQYS"
      }
    },
    {
      "cell_type": "code",
      "source": [
        "url2 = \"https://finalprojectstorage10.s3.us-east-2.amazonaws.com/airport.csv\"\n",
        "spark.sparkContext.addFile(url2)\n",
        "airport_initial_df = spark.read.option(\"encoding\", \"UTF-8\").csv(SparkFiles.get(\"airport.csv\"), header=True)\n",
        "airport_initial_df.show()"
      ],
      "metadata": {
        "colab": {
          "base_uri": "https://localhost:8080/"
        },
        "id": "JKmY5Cy_oZan",
        "outputId": "13a70424-68d2-4473-cab2-cb494dd92386"
      },
      "execution_count": null,
      "outputs": [
        {
          "output_type": "stream",
          "name": "stdout",
          "text": [
            "+------+-----+-------------+--------------------+------------+-------------+------------+---------+-----------+----------+------------+-----------------+--------+---------+----------+---------+--------------+--------+\n",
            "|    id|ident|         type|                name|latitude_deg|longitude_deg|elevation_ft|continent|iso_country|iso_region|municipality|scheduled_service|gps_code|iata_code|local_code|home_link|wikipedia_link|keywords|\n",
            "+------+-----+-------------+--------------------+------------+-------------+------------+---------+-----------+----------+------------+-----------------+--------+---------+----------+---------+--------------+--------+\n",
            "|  6523|  00A|     heliport|   Total Rf Heliport| 40.07080078| -74.93360138|          11|       NA|         US|     US-PA|    Bensalem|               no|     00A|     null|       00A|     null|          null|    null|\n",
            "|323361| 00AA|small_airport|Aero B Ranch Airport|   38.704022|  -101.473911|        3435|       NA|         US|     US-KS|       Leoti|               no|    00AA|     null|      00AA|     null|          null|    null|\n",
            "|  6524| 00AK|small_airport|        Lowell Field|   59.947733|  -151.692524|         450|       NA|         US|     US-AK|Anchor Point|               no|    00AK|     null|      00AK|     null|          null|    null|\n",
            "|  6525| 00AL|small_airport|        Epps Airpark|  34.8647995| -86.77030182|         820|       NA|         US|     US-AL|     Harvest|               no|    00AL|     null|      00AL|     null|          null|    null|\n",
            "|  6526| 00AR|       closed|Newport Hospital ...|     35.6087|   -91.254898|         237|       NA|         US|     US-AR|     Newport|               no|    null|     null|      null|     null|          null|    00AR|\n",
            "|322127| 00AS|small_airport|      Fulton Airport|  34.9428028|  -97.8180194|        1100|       NA|         US|     US-OK|        Alex|               no|    00AS|     null|      00AS|     null|          null|    null|\n",
            "|  6527| 00AZ|small_airport|      Cordes Airport| 34.30559921| -112.1650009|        3810|       NA|         US|     US-AZ|      Cordes|               no|    00AZ|     null|      00AZ|     null|          null|    null|\n",
            "|  6528| 00CA|small_airport|Goldstone (GTS) A...|    35.35474|  -116.885329|        3038|       NA|         US|     US-CA|     Barstow|               no|    00CA|     null|      00CA|     null|          null|    null|\n",
            "|324424| 00CL|small_airport| Williams Ag Airport|   39.427188|  -121.763427|          87|       NA|         US|     US-CA|       Biggs|               no|    00CL|     null|      00CL|     null|          null|    null|\n",
            "|322658| 00CN|     heliport|Kitchen Creek Hel...|  32.7273736| -116.4597417|        3350|       NA|         US|     US-CA| Pine Valley|               no|    00CN|     null|      00CN|     null|          null|    null|\n",
            "|  6529| 00CO|       closed|          Cass Field|   40.622202|  -104.344002|        4830|       NA|         US|     US-CO|  Briggsdale|               no|    null|     null|      null|     null|          null|    00CO|\n",
            "|  6531| 00FA|small_airport| Grass Patch Airport| 28.64550018| -82.21900177|          53|       NA|         US|     US-FL|    Bushnell|               no|    00FA|     null|      00FA|     null|          null|    null|\n",
            "|  6532| 00FD|     heliport|  Ringhaver Heliport| 28.84659958| -82.34539795|          25|       NA|         US|     US-FL|   Riverview|               no|    00FD|     null|      00FD|     null|          null|    null|\n",
            "|  6533| 00FL|small_airport|   River Oak Airport| 27.23089981| -80.96920013|          35|       NA|         US|     US-FL|  Okeechobee|               no|    00FL|     null|      00FL|     null|          null|    null|\n",
            "|  6534| 00GA|small_airport|    Lt World Airport| 33.76750183| -84.06829834|         700|       NA|         US|     US-GA|    Lithonia|               no|    00GA|     null|      00GA|     null|          null|    null|\n",
            "|  6535| 00GE|     heliport|    Caffrey Heliport|   33.887982|   -84.736983|         957|       NA|         US|     US-GA|       Hiram|               no|    00GE|     null|      00GE|     null|          null|    null|\n",
            "|  6536| 00HI|     heliport|  Kaupulehu Heliport|   19.832715|  -155.980233|          43|       NA|         US|     US-HI| Kailua-Kona|               no|    00HI|     null|      00HI|     null|          null|    null|\n",
            "|  6537| 00ID|small_airport|Delta Shores Airport| 48.14530182| -116.2139969|        2064|       NA|         US|     US-ID|  Clark Fork|               no|    00ID|     null|      00ID|     null|          null|    null|\n",
            "|322581| 00IG|small_airport|       Goltl Airport|   39.724028|  -101.395994|        3359|       NA|         US|     US-KS|    McDonald|               no|    00IG|     null|      00IG|     null|          null|    null|\n",
            "|  6538| 00II|       closed|Bailey Generation...|   41.644501|   -87.122803|         600|       NA|         US|     US-IN|  Chesterton|               no|    null|     null|      null|     null|          null|    00II|\n",
            "+------+-----+-------------+--------------------+------------+-------------+------------+---------+-----------+----------+------------+-----------------+--------+---------+----------+---------+--------------+--------+\n",
            "only showing top 20 rows\n",
            "\n"
          ]
        }
      ]
    },
    {
      "cell_type": "code",
      "source": [
        "#Select only relevant columns to later join with finaldf\n",
        "airport_df = airport_initial_df.select(\"iata_code\", \"name\", \"latitude_deg\", \"longitude_deg\")\n",
        "airport_df.show()\n",
        "airport_df.count()"
      ],
      "metadata": {
        "colab": {
          "base_uri": "https://localhost:8080/"
        },
        "id": "OAf4AgmUpMaY",
        "outputId": "939c185d-d7d2-4d29-aa86-fe720422789b"
      },
      "execution_count": null,
      "outputs": [
        {
          "output_type": "stream",
          "name": "stdout",
          "text": [
            "+---------+--------------------+------------+-------------+\n",
            "|iata_code|                name|latitude_deg|longitude_deg|\n",
            "+---------+--------------------+------------+-------------+\n",
            "|     null|   Total Rf Heliport| 40.07080078| -74.93360138|\n",
            "|     null|Aero B Ranch Airport|   38.704022|  -101.473911|\n",
            "|     null|        Lowell Field|   59.947733|  -151.692524|\n",
            "|     null|        Epps Airpark|  34.8647995| -86.77030182|\n",
            "|     null|Newport Hospital ...|     35.6087|   -91.254898|\n",
            "|     null|      Fulton Airport|  34.9428028|  -97.8180194|\n",
            "|     null|      Cordes Airport| 34.30559921| -112.1650009|\n",
            "|     null|Goldstone (GTS) A...|    35.35474|  -116.885329|\n",
            "|     null| Williams Ag Airport|   39.427188|  -121.763427|\n",
            "|     null|Kitchen Creek Hel...|  32.7273736| -116.4597417|\n",
            "|     null|          Cass Field|   40.622202|  -104.344002|\n",
            "|     null| Grass Patch Airport| 28.64550018| -82.21900177|\n",
            "|     null|  Ringhaver Heliport| 28.84659958| -82.34539795|\n",
            "|     null|   River Oak Airport| 27.23089981| -80.96920013|\n",
            "|     null|    Lt World Airport| 33.76750183| -84.06829834|\n",
            "|     null|    Caffrey Heliport|   33.887982|   -84.736983|\n",
            "|     null|  Kaupulehu Heliport|   19.832715|  -155.980233|\n",
            "|     null|Delta Shores Airport| 48.14530182| -116.2139969|\n",
            "|     null|       Goltl Airport|   39.724028|  -101.395994|\n",
            "|     null|Bailey Generation...|   41.644501|   -87.122803|\n",
            "+---------+--------------------+------------+-------------+\n",
            "only showing top 20 rows\n",
            "\n"
          ]
        },
        {
          "output_type": "execute_result",
          "data": {
            "text/plain": [
              "70174"
            ]
          },
          "metadata": {},
          "execution_count": 10
        }
      ]
    },
    {
      "cell_type": "code",
      "source": [
        "#Drop null and duplicates\n",
        "airport_df = airport_df.dropna()\n",
        "airport_df = airport_df.drop_duplicates(['iata_code'])\n",
        "airport_df.count()"
      ],
      "metadata": {
        "colab": {
          "base_uri": "https://localhost:8080/"
        },
        "id": "-MFfVwRatJ0q",
        "outputId": "811ba5df-7f3e-4675-9607-655011d42092"
      },
      "execution_count": null,
      "outputs": [
        {
          "output_type": "execute_result",
          "data": {
            "text/plain": [
              "9131"
            ]
          },
          "metadata": {},
          "execution_count": 11
        }
      ]
    },
    {
      "cell_type": "code",
      "source": [
        "from pyspark.sql.types import *\n",
        "\n",
        "test_df = final_df\n",
        "#Origin Airport Code Join\n",
        "joined_df = test_df.join(airport_df, test_df.ORIGIN_AIRPORT_CODE == airport_df.iata_code,\"left\")\n",
        "joined_df = joined_df.withColumnRenamed(\"name\",\"ORIGIN_AIRPORT_NAME\").withColumnRenamed(\"latitude_deg\",\"ORIGIN_LATITUDE_DEG\").withColumnRenamed(\"longitude_deg\",\"ORIGIN_LONGITUDE_DEG\").drop(joined_df.iata_code)\n",
        "\n",
        "#Departure Airport Code Join and rename columns\n",
        "joined_df = joined_df.join(airport_df, joined_df.DEST_AIRPORT_CODE == airport_df.iata_code,\"left\")\n",
        "joined_df = joined_df.withColumnRenamed(\"name\",\"DEST_AIRPORT_NAME\").withColumnRenamed(\"latitude_deg\",\"DEST_LATITUDE_DEG\").withColumnRenamed(\"longitude_deg\",\"DEST_LONGITUDE_DEG\").drop(joined_df.iata_code)\n",
        "\n",
        "#Cast latitude and longitude to float\n",
        "joined_df = joined_df.withColumn(\"ORIGIN_LATITUDE_DEG\",col(\"ORIGIN_LATITUDE_DEG\").cast(FloatType())) \\\n",
        "                     .withColumn(\"ORIGIN_LONGITUDE_DEG\",col(\"ORIGIN_LONGITUDE_DEG\").cast(FloatType())) \\\n",
        "                     .withColumn(\"DEST_LATITUDE_DEG\",col(\"DEST_LATITUDE_DEG\").cast(FloatType())) \\\n",
        "                     .withColumn(\"DEST_LONGITUDE_DEG\",col(\"DEST_LONGITUDE_DEG\").cast(FloatType()))"
      ],
      "metadata": {
        "id": "1ruL82ZbviTB"
      },
      "execution_count": null,
      "outputs": []
    },
    {
      "cell_type": "code",
      "source": [
        "joined_df.show(5)"
      ],
      "metadata": {
        "colab": {
          "base_uri": "https://localhost:8080/"
        },
        "id": "NSKgjTJPytEb",
        "outputId": "38f9f2a3-5adf-42de-d9fd-ab8695ff4e6e"
      },
      "execution_count": null,
      "outputs": [
        {
          "output_type": "stream",
          "name": "stdout",
          "text": [
            "+--------------------+-----------------+-------------------+-----------------------+----------+-----------------+--------------------------+-----------------------+----------------+--------------------+-------------------+---------------+---------------------+------------------------+---------------------+-------------+-----------------+------------+------------------------+---------------------------+----------------+--------------+---------------------+---------------------+-----------------+----------------------+---------------------------+--------------------+-------------------+--------------------+--------------------+-----------------+------------------+\n",
            "|AIRLINE_CARRIER_CODE|OP_CARRIER_FL_NUM|ORIGIN_AIRPORT_CODE|CRS_DEPARTURE_TIMESTAMP| FLIGHT_DT|DEST_AIRPORT_CODE|ACTUAL_DEPARTURE_TIMESTAMP|DEPARTURE_DELAY_MINUTES|TAXI_OUT_MINUTES|WHEELS_OFF_TIMESTAMP|WHEELS_ON_TIMESTAMP|TAXI_IN_MINUTES|CRS_ARRIVAL_TIMESTAMP|ACTUAL_ARRIVAL_TIMESTAMP|ARRIVAL_DELAY_MINUTES|CANCELLED_IND|CANCELLATION_CODE|DIVERTED_IND|CRS_ELAPSED_TIME_MINUTES|ACTUAL_ELAPSED_TIME_MINUTES|AIR_TIME_MINUTES|DISTANCE_MILES|CARRIER_DELAY_MINUTES|WEATHER_DELAY_MINUTES|NAS_DELAY_MINUTES|SECURITY_DELAY_MINUTES|LATE_AIRCRAFT_DELAY_MINUTES| ORIGIN_AIRPORT_NAME|ORIGIN_LATITUDE_DEG|ORIGIN_LONGITUDE_DEG|   DEST_AIRPORT_NAME|DEST_LATITUDE_DEG|DEST_LONGITUDE_DEG|\n",
            "+--------------------+-----------------+-------------------+-----------------------+----------+-----------------+--------------------------+-----------------------+----------------+--------------------+-------------------+---------------+---------------------+------------------------+---------------------+-------------+-----------------+------------+------------------------+---------------------------+----------------+--------------+---------------------+---------------------+-----------------+----------------------+---------------------------+--------------------+-------------------+--------------------+--------------------+-----------------+------------------+\n",
            "|                  UA|             2429|                EWR|    2018-01-01 15:17:00|2018-01-01|              DEN|       2018-01-01 15:12:00|                     -5|              15| 2018-01-01 15:27:00|2018-01-01 17:12:00|             10|  2018-01-01 17:45:00|     2018-01-01 17:45:00|                  -23|        false|             null|       false|                     268|                        250|             225|          1605|                    0|                    0|                0|                     0|                          0|Newark Liberty In...|            40.6925|            -74.1687|Denver Internatio...|          39.8617|          -104.673|\n",
            "|                  UA|             2427|                LAS|    2018-01-01 11:15:00|2018-01-01|              SFO|       2018-01-01 11:07:00|                     -8|              11| 2018-01-01 11:18:00|2018-01-01 12:23:00|              7|  2018-01-01 12:54:00|     2018-01-01 12:54:00|                  -24|        false|             null|       false|                      99|                         83|              65|           414|                    0|                    0|                0|                     0|                          0|McCarran Internat...|            36.0801|            -115.152|San Francisco Int...|           37.619|          -122.375|\n",
            "|                  UA|             2426|                SNA|    2018-01-01 13:35:00|2018-01-01|              DEN|       2018-01-01 13:30:00|                     -5|              15| 2018-01-01 13:45:00|2018-01-01 16:31:00|              5|  2018-01-01 16:49:00|     2018-01-01 16:49:00|                  -13|        false|             null|       false|                     134|                        126|             106|           846|                    0|                    0|                0|                     0|                          0|John Wayne Airpor...|            33.6757|            -117.868|Denver Internatio...|          39.8617|          -104.673|\n",
            "|                  UA|             2425|                RSW|    2018-01-01 15:46:00|2018-01-01|              ORD|       2018-01-01 15:52:00|                      6|              19| 2018-01-01 16:11:00|2018-01-01 17:48:00|              6|  2018-01-01 17:56:00|     2018-01-01 17:56:00|                   -2|        false|             null|       false|                     190|                        182|             157|          1120|                    0|                    0|                0|                     0|                          0|Southwest Florida...|            26.5362|            -81.7552|Chicago O'Hare In...|          41.9786|          -87.9048|\n",
            "|                  UA|             2424|                ORD|    2018-01-01 06:30:00|2018-01-01|              ALB|       2018-01-01 06:50:00|                     20|              13| 2018-01-01 07:03:00|2018-01-01 09:26:00|             10|  2018-01-01 09:22:00|     2018-01-01 09:22:00|                   14|        false|             null|       false|                     112|                        106|              83|           723|                    0|                    0|                0|                     0|                          0|Chicago O'Hare In...|            41.9786|            -87.9048|Albany Internatio...|          42.7483|          -73.8017|\n",
            "+--------------------+-----------------+-------------------+-----------------------+----------+-----------------+--------------------------+-----------------------+----------------+--------------------+-------------------+---------------+---------------------+------------------------+---------------------+-------------+-----------------+------------+------------------------+---------------------------+----------------+--------------+---------------------+---------------------+-----------------+----------------------+---------------------------+--------------------+-------------------+--------------------+--------------------+-----------------+------------------+\n",
            "only showing top 5 rows\n",
            "\n"
          ]
        }
      ]
    },
    {
      "cell_type": "code",
      "source": [
        "joined_df.printSchema()"
      ],
      "metadata": {
        "colab": {
          "base_uri": "https://localhost:8080/"
        },
        "id": "8y7587VMVig-",
        "outputId": "0ecfd9ec-158e-418c-c818-e87882c977d8"
      },
      "execution_count": null,
      "outputs": [
        {
          "output_type": "stream",
          "name": "stdout",
          "text": [
            "root\n",
            " |-- AIRLINE_CARRIER_CODE: string (nullable = true)\n",
            " |-- OP_CARRIER_FL_NUM: string (nullable = true)\n",
            " |-- ORIGIN_AIRPORT_CODE: string (nullable = true)\n",
            " |-- CRS_DEPARTURE_TIMESTAMP: timestamp (nullable = true)\n",
            " |-- FLIGHT_DT: date (nullable = true)\n",
            " |-- DEST_AIRPORT_CODE: string (nullable = true)\n",
            " |-- ACTUAL_DEPARTURE_TIMESTAMP: timestamp (nullable = true)\n",
            " |-- DEPARTURE_DELAY_MINUTES: integer (nullable = true)\n",
            " |-- TAXI_OUT_MINUTES: integer (nullable = true)\n",
            " |-- WHEELS_OFF_TIMESTAMP: timestamp (nullable = true)\n",
            " |-- WHEELS_ON_TIMESTAMP: timestamp (nullable = true)\n",
            " |-- TAXI_IN_MINUTES: integer (nullable = true)\n",
            " |-- CRS_ARRIVAL_TIMESTAMP: timestamp (nullable = true)\n",
            " |-- ACTUAL_ARRIVAL_TIMESTAMP: timestamp (nullable = true)\n",
            " |-- ARRIVAL_DELAY_MINUTES: integer (nullable = true)\n",
            " |-- CANCELLED_IND: boolean (nullable = false)\n",
            " |-- CANCELLATION_CODE: string (nullable = true)\n",
            " |-- DIVERTED_IND: boolean (nullable = false)\n",
            " |-- CRS_ELAPSED_TIME_MINUTES: integer (nullable = true)\n",
            " |-- ACTUAL_ELAPSED_TIME_MINUTES: integer (nullable = true)\n",
            " |-- AIR_TIME_MINUTES: integer (nullable = true)\n",
            " |-- DISTANCE_MILES: integer (nullable = true)\n",
            " |-- CARRIER_DELAY_MINUTES: integer (nullable = true)\n",
            " |-- WEATHER_DELAY_MINUTES: integer (nullable = true)\n",
            " |-- NAS_DELAY_MINUTES: integer (nullable = true)\n",
            " |-- SECURITY_DELAY_MINUTES: integer (nullable = true)\n",
            " |-- LATE_AIRCRAFT_DELAY_MINUTES: integer (nullable = true)\n",
            " |-- ORIGIN_AIRPORT_NAME: string (nullable = true)\n",
            " |-- ORIGIN_LATITUDE_DEG: float (nullable = true)\n",
            " |-- ORIGIN_LONGITUDE_DEG: float (nullable = true)\n",
            " |-- DEST_AIRPORT_NAME: string (nullable = true)\n",
            " |-- DEST_LATITUDE_DEG: float (nullable = true)\n",
            " |-- DEST_LONGITUDE_DEG: float (nullable = true)\n",
            "\n"
          ]
        }
      ]
    },
    {
      "cell_type": "markdown",
      "source": [
        "## Write to Database"
      ],
      "metadata": {
        "id": "ALr6HO1RoahF"
      }
    },
    {
      "cell_type": "code",
      "source": [
        "# Configure settings for RDS\n",
        "mode = \"append\"\n",
        "jdbc_url=\"jdbc:postgresql://airline-db.cjrwalaqox8l.us-east-2.rds.amazonaws.com/airline\"\n",
        "config = {\"user\":\"postgres\", \n",
        "          \"password\": \"57jcw2Jvswa7vhDe\", \n",
        "          \"driver\":\"org.postgresql.Driver\"}\n"
      ],
      "metadata": {
        "id": "jox7vu8wAF_W"
      },
      "execution_count": null,
      "outputs": []
    },
    {
      "cell_type": "code",
      "source": [
        "# Write DataFrame to flightdata table in RDS\n",
        "final_df.write.jdbc(url=jdbc_url, table='project.flight_data', mode=mode, properties=config)"
      ],
      "metadata": {
        "id": "OuwZ267LAHdu"
      },
      "execution_count": null,
      "outputs": []
    },
    {
      "cell_type": "code",
      "source": [
        "#Write Joined Dataframe to joined flightdata table in RDS\n",
        "joined_df.write.jdbc(url=jdbc_url, table='project.joined_flight_data', mode=mode, properties=config)"
      ],
      "metadata": {
        "id": "aoYQ819kA-aC"
      },
      "execution_count": null,
      "outputs": []
    }
  ]
}