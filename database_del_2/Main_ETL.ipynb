{
  "nbformat": 4,
  "nbformat_minor": 0,
  "metadata": {
    "colab": {
      "name": "Main_ETL.ipynb",
      "provenance": []
    },
    "kernelspec": {
      "name": "python3",
      "display_name": "Python 3"
    },
    "language_info": {
      "name": "python"
    }
  },
  "cells": [
    {
      "cell_type": "code",
      "execution_count": null,
      "metadata": {
        "colab": {
          "base_uri": "https://localhost:8080/"
        },
        "id": "XGMX4QUp_Alk",
        "outputId": "9ee07115-f3f3-4e3d-a9c4-fde7feae88ec"
      },
      "outputs": [
        {
          "output_type": "stream",
          "name": "stdout",
          "text": [
            "\r0% [Working]\r            \rGet:1 http://security.ubuntu.com/ubuntu bionic-security InRelease [88.7 kB]\n",
            "\r0% [Connecting to archive.ubuntu.com (91.189.88.142)] [1 InRelease 4,035 B/88.7\r                                                                               \rGet:2 https://cloud.r-project.org/bin/linux/ubuntu bionic-cran40/ InRelease [3,626 B]\n",
            "Get:3 http://ppa.launchpad.net/c2d4u.team/c2d4u4.0+/ubuntu bionic InRelease [15.9 kB]\n",
            "Get:4 https://cloud.r-project.org/bin/linux/ubuntu bionic-cran40/ Packages [76.0 kB]\n",
            "Hit:5 http://ppa.launchpad.net/cran/libgit2/ubuntu bionic InRelease\n",
            "Hit:6 http://archive.ubuntu.com/ubuntu bionic InRelease\n",
            "Ign:7 https://developer.download.nvidia.com/compute/cuda/repos/ubuntu1804/x86_64  InRelease\n",
            "Get:8 http://archive.ubuntu.com/ubuntu bionic-updates InRelease [88.7 kB]\n",
            "Get:9 http://ppa.launchpad.net/deadsnakes/ppa/ubuntu bionic InRelease [15.9 kB]\n",
            "Ign:10 https://developer.download.nvidia.com/compute/machine-learning/repos/ubuntu1804/x86_64  InRelease\n",
            "Get:11 http://archive.ubuntu.com/ubuntu bionic-backports InRelease [74.6 kB]\n",
            "Hit:12 http://ppa.launchpad.net/graphics-drivers/ppa/ubuntu bionic InRelease\n",
            "Get:13 https://developer.download.nvidia.com/compute/cuda/repos/ubuntu1804/x86_64  Release [696 B]\n",
            "Hit:14 https://developer.download.nvidia.com/compute/machine-learning/repos/ubuntu1804/x86_64  Release\n",
            "Get:15 https://developer.download.nvidia.com/compute/cuda/repos/ubuntu1804/x86_64  Release.gpg [836 B]\n",
            "Get:16 http://security.ubuntu.com/ubuntu bionic-security/main amd64 Packages [2,516 kB]\n",
            "Get:17 http://security.ubuntu.com/ubuntu bionic-security/restricted amd64 Packages [738 kB]\n",
            "Get:18 http://security.ubuntu.com/ubuntu bionic-security/universe amd64 Packages [1,463 kB]\n",
            "Get:19 http://ppa.launchpad.net/c2d4u.team/c2d4u4.0+/ubuntu bionic/main Sources [1,823 kB]\n",
            "Get:20 http://ppa.launchpad.net/c2d4u.team/c2d4u4.0+/ubuntu bionic/main amd64 Packages [934 kB]\n",
            "Get:21 http://ppa.launchpad.net/deadsnakes/ppa/ubuntu bionic/main amd64 Packages [45.3 kB]\n",
            "Get:22 http://archive.ubuntu.com/ubuntu bionic-updates/restricted amd64 Packages [771 kB]\n",
            "Get:23 http://archive.ubuntu.com/ubuntu bionic-updates/universe amd64 Packages [2,242 kB]\n",
            "Get:24 http://archive.ubuntu.com/ubuntu bionic-updates/main amd64 Packages [2,954 kB]\n",
            "Get:26 https://developer.download.nvidia.com/compute/cuda/repos/ubuntu1804/x86_64  Packages [872 kB]\n",
            "Fetched 14.7 MB in 9s (1,698 kB/s)\n",
            "Reading package lists... Done\n"
          ]
        }
      ],
      "source": [
        "import os\n",
        "import pandas as pd\n",
        "import numpy as np\n",
        "\n",
        "\n",
        "spark_version = 'spark-3.0.3'\n",
        "os.environ['SPARK_VERSION']=spark_version\n",
        "\n",
        "# Install Spark and Java\n",
        "!apt-get update\n",
        "!apt-get install openjdk-11-jdk-headless -qq > /dev/null\n",
        "!wget -q https://downloads.apache.org/spark/spark-3.0.3/spark-3.0.3-bin-hadoop2.7.tgz\n",
        "!tar xf spark-3.0.3-bin-hadoop2.7.tgz\n",
        "!pip install -q findspark\n",
        "\n",
        "# Set Environment Variables\n",
        "os.environ[\"JAVA_HOME\"] = \"/usr/lib/jvm/java-11-openjdk-amd64\"\n",
        "os.environ[\"SPARK_HOME\"] = f\"/content/{spark_version}-bin-hadoop2.7\"\n",
        "\n",
        "# Start a SparkSession\n",
        "import findspark\n",
        "findspark.init()"
      ]
    },
    {
      "cell_type": "code",
      "source": [
        "# Download the Postgres driver that will allow Spark to interact with Postgres.\n",
        "!wget https://jdbc.postgresql.org/download/postgresql-42.2.16.jar"
      ],
      "metadata": {
        "colab": {
          "base_uri": "https://localhost:8080/"
        },
        "id": "-YJdkkYD_KVS",
        "outputId": "daafb9a3-aa11-4aa9-8fd4-938053a4c390"
      },
      "execution_count": null,
      "outputs": [
        {
          "output_type": "stream",
          "name": "stdout",
          "text": [
            "--2022-01-24 21:54:25--  https://jdbc.postgresql.org/download/postgresql-42.2.16.jar\n",
            "Resolving jdbc.postgresql.org (jdbc.postgresql.org)... 72.32.157.228, 2001:4800:3e1:1::228\n",
            "Connecting to jdbc.postgresql.org (jdbc.postgresql.org)|72.32.157.228|:443... connected.\n",
            "HTTP request sent, awaiting response... 200 OK\n",
            "Length: 1002883 (979K) [application/java-archive]\n",
            "Saving to: ‘postgresql-42.2.16.jar’\n",
            "\n",
            "postgresql-42.2.16. 100%[===================>] 979.38K  5.36MB/s    in 0.2s    \n",
            "\n",
            "2022-01-24 21:54:25 (5.36 MB/s) - ‘postgresql-42.2.16.jar’ saved [1002883/1002883]\n",
            "\n"
          ]
        }
      ]
    },
    {
      "cell_type": "code",
      "source": [
        "from pyspark.sql import SparkSession\n",
        "spark = SparkSession.builder.appName(\"Final-Project\").config(\"spark.driver.extraClassPath\",\"/content/postgresql-42.2.16.jar\").getOrCreate()"
      ],
      "metadata": {
        "id": "u0neqVT7_Ncf"
      },
      "execution_count": null,
      "outputs": []
    },
    {
      "cell_type": "code",
      "source": [
        "from pyspark.sql import *\n",
        "from pyspark.sql import SparkSession\n",
        "from pyspark.sql.functions import lpad\n",
        "from pyspark.sql.functions import concat\n",
        "from pyspark.sql.functions import lit\n",
        "from pyspark.sql.functions import substring"
      ],
      "metadata": {
        "id": "630cyNQk_PZa"
      },
      "execution_count": null,
      "outputs": []
    },
    {
      "cell_type": "code",
      "source": [
        "from pyspark import SparkFiles\n",
        "url = \"https://finalprojectstorage10.s3.us-east-2.amazonaws.com/2018.csv\"\n",
        "spark.sparkContext.addFile(url)\n",
        "df = spark.read.option(\"encoding\", \"UTF-8\").csv(SparkFiles.get(\"2018.csv\"), header=True)\n",
        "df.show()"
      ],
      "metadata": {
        "colab": {
          "base_uri": "https://localhost:8080/"
        },
        "id": "qsxw2sYP_RnB",
        "outputId": "7baa8504-ab35-4b1f-8e7b-84cf5dee8835"
      },
      "execution_count": null,
      "outputs": [
        {
          "output_type": "stream",
          "name": "stdout",
          "text": [
            "+----------+----------+-----------------+------+----+------------+--------+---------+--------+----------+---------+-------+------------+--------+---------+---------+-----------------+--------+----------------+-------------------+--------+--------+-------------+-------------+---------+--------------+-------------------+-----------+\n",
            "|   FL_DATE|OP_CARRIER|OP_CARRIER_FL_NUM|ORIGIN|DEST|CRS_DEP_TIME|DEP_TIME|DEP_DELAY|TAXI_OUT|WHEELS_OFF|WHEELS_ON|TAXI_IN|CRS_ARR_TIME|ARR_TIME|ARR_DELAY|CANCELLED|CANCELLATION_CODE|DIVERTED|CRS_ELAPSED_TIME|ACTUAL_ELAPSED_TIME|AIR_TIME|DISTANCE|CARRIER_DELAY|WEATHER_DELAY|NAS_DELAY|SECURITY_DELAY|LATE_AIRCRAFT_DELAY|Unnamed: 27|\n",
            "+----------+----------+-----------------+------+----+------------+--------+---------+--------+----------+---------+-------+------------+--------+---------+---------+-----------------+--------+----------------+-------------------+--------+--------+-------------+-------------+---------+--------------+-------------------+-----------+\n",
            "|2018-01-01|        UA|             2429|   EWR| DEN|        1517|  1512.0|     -5.0|    15.0|    1527.0|   1712.0|   10.0|        1745|  1722.0|    -23.0|      0.0|             null|     0.0|           268.0|              250.0|   225.0|  1605.0|         null|         null|     null|          null|               null|       null|\n",
            "|2018-01-01|        UA|             2427|   LAS| SFO|        1115|  1107.0|     -8.0|    11.0|    1118.0|   1223.0|    7.0|        1254|  1230.0|    -24.0|      0.0|             null|     0.0|            99.0|               83.0|    65.0|   414.0|         null|         null|     null|          null|               null|       null|\n",
            "|2018-01-01|        UA|             2426|   SNA| DEN|        1335|  1330.0|     -5.0|    15.0|    1345.0|   1631.0|    5.0|        1649|  1636.0|    -13.0|      0.0|             null|     0.0|           134.0|              126.0|   106.0|   846.0|         null|         null|     null|          null|               null|       null|\n",
            "|2018-01-01|        UA|             2425|   RSW| ORD|        1546|  1552.0|      6.0|    19.0|    1611.0|   1748.0|    6.0|        1756|  1754.0|     -2.0|      0.0|             null|     0.0|           190.0|              182.0|   157.0|  1120.0|         null|         null|     null|          null|               null|       null|\n",
            "|2018-01-01|        UA|             2424|   ORD| ALB|         630|   650.0|     20.0|    13.0|     703.0|    926.0|   10.0|         922|   936.0|     14.0|      0.0|             null|     0.0|           112.0|              106.0|    83.0|   723.0|         null|         null|     null|          null|               null|       null|\n",
            "|2018-01-01|        UA|             2422|   ORD| OMA|        2241|  2244.0|      3.0|    15.0|    2259.0|      1.0|    2.0|          14|     3.0|    -11.0|      0.0|             null|     0.0|            93.0|               79.0|    62.0|   416.0|         null|         null|     null|          null|               null|       null|\n",
            "|2018-01-01|        UA|             2421|   IAH| LAS|         750|   747.0|     -3.0|    14.0|     801.0|    854.0|    6.0|         916|   900.0|    -16.0|      0.0|             null|     0.0|           206.0|              193.0|   173.0|  1222.0|         null|         null|     null|          null|               null|       null|\n",
            "|2018-01-01|        UA|             2420|   DEN| CID|        1324|  1318.0|     -6.0|    11.0|    1329.0|   1554.0|    6.0|        1619|  1600.0|    -19.0|      0.0|             null|     0.0|           115.0|              102.0|    85.0|   692.0|         null|         null|     null|          null|               null|       null|\n",
            "|2018-01-01|        UA|             2419|   SMF| EWR|        2224|  2237.0|     13.0|    10.0|    2247.0|    627.0|    9.0|         638|   636.0|     -2.0|      0.0|             null|     0.0|           314.0|              299.0|   280.0|  2500.0|         null|         null|     null|          null|               null|       null|\n",
            "|2018-01-01|        UA|             2418|   RIC| DEN|        1601|  1559.0|     -2.0|    12.0|    1611.0|   1748.0|    8.0|        1813|  1756.0|    -17.0|      0.0|             null|     0.0|           252.0|              237.0|   217.0|  1482.0|         null|         null|     null|          null|               null|       null|\n",
            "|2018-01-01|        UA|             2417|   PDX| EWR|        2240|  2235.0|     -5.0|     9.0|    2244.0|    624.0|    7.0|         647|   631.0|    -16.0|      0.0|             null|     0.0|           307.0|              296.0|   280.0|  2434.0|         null|         null|     null|          null|               null|       null|\n",
            "|2018-01-01|        UA|             2416|   ORD| CLE|        2059|  2300.0|    121.0|    24.0|    2324.0|    112.0|    8.0|        2311|   120.0|    129.0|      0.0|             null|     0.0|            72.0|               80.0|    48.0|   316.0|        121.0|          0.0|      8.0|           0.0|                0.0|       null|\n",
            "|2018-01-01|        UA|             2415|   EWR| PDX|         825|   822.0|     -3.0|    15.0|     837.0|   1104.0|    5.0|        1135|  1109.0|    -26.0|      0.0|             null|     0.0|           370.0|              347.0|   327.0|  2434.0|         null|         null|     null|          null|               null|       null|\n",
            "|2018-01-01|        UA|             2414|   EWR| ATL|        1044|  1055.0|     11.0|    11.0|    1106.0|   1310.0|    5.0|        1318|  1315.0|     -3.0|      0.0|             null|     0.0|           154.0|              140.0|   124.0|   746.0|         null|         null|     null|          null|               null|       null|\n",
            "|2018-01-01|        UA|             2413|   ORD| BTV|        2114|  2230.0|     76.0|    14.0|    2244.0|    123.0|    5.0|          15|   128.0|     73.0|      0.0|             null|     0.0|           121.0|              118.0|    99.0|   763.0|          0.0|         11.0|      0.0|           0.0|               62.0|       null|\n",
            "|2018-01-01|        UA|             2412|   MCO| LAX|         653|   747.0|     54.0|    14.0|     801.0|   1003.0|   22.0|         930|  1025.0|     55.0|      0.0|             null|     0.0|           337.0|              338.0|   302.0|  2218.0|         54.0|          0.0|      1.0|           0.0|                0.0|       null|\n",
            "|2018-01-01|        UA|             2411|   EWR| SMF|        1810|  1922.0|     72.0|    16.0|    1938.0|   2157.0|    4.0|        2136|  2201.0|     25.0|      0.0|             null|     0.0|           386.0|              339.0|   319.0|  2500.0|          7.0|          0.0|      0.0|           0.0|               18.0|       null|\n",
            "|2018-01-01|        UA|             2410|   RSW| EWR|        1250|  1337.0|     47.0|    12.0|    1349.0|   1600.0|    6.0|        1537|  1606.0|     29.0|      0.0|             null|     0.0|           167.0|              149.0|   131.0|  1068.0|         29.0|          0.0|      0.0|           0.0|                0.0|       null|\n",
            "|2018-01-01|        UA|             2409|   IAH| JAC|         940|   934.0|     -6.0|    18.0|     952.0|   1156.0|    4.0|        1218|  1200.0|    -18.0|      0.0|             null|     0.0|           218.0|              206.0|   184.0|  1265.0|         null|         null|     null|          null|               null|       null|\n",
            "|2018-01-01|        UA|             2408|   TYS| EWR|        1131|  1140.0|      9.0|     9.0|    1149.0|   1307.0|    5.0|        1333|  1312.0|    -21.0|      0.0|             null|     0.0|           122.0|               92.0|    78.0|   631.0|         null|         null|     null|          null|               null|       null|\n",
            "+----------+----------+-----------------+------+----+------------+--------+---------+--------+----------+---------+-------+------------+--------+---------+---------+-----------------+--------+----------------+-------------------+--------+--------+-------------+-------------+---------+--------------+-------------------+-----------+\n",
            "only showing top 20 rows\n",
            "\n"
          ]
        }
      ]
    },
    {
      "cell_type": "code",
      "source": [
        "from pyspark.sql.functions import *\n",
        "\n",
        "#Timestamp function to fix formatting\n",
        "def padTimeStamp(x,y):\n",
        "  if y is None:\n",
        "      y = \"0\"\n",
        "\n",
        "  y = y.replace(\".0\",\"\")\n",
        "  return x + \" \" + y.zfill(4)[0:2] + \":\" + y.zfill(4)[2:4]\n",
        "\n",
        "#Create udf becuase python fucntions do not work with pyspark\n",
        "padTimeStampUDF = udf(lambda x,y: padTimeStamp(x,y)) \n",
        "\n",
        "#inital dataframe applying the udf to pad and format the timestamp columns and pick the rest of the columns\n",
        "initial_df = df.select(\n",
        "                    \"OP_CARRIER\",\n",
        "                    \"OP_CARRIER_FL_NUM\", \n",
        "                    \"ORIGIN\",\n",
        "                    padTimeStampUDF(df[\"FL_DATE\"],df[\"CRS_DEP_TIME\"]).alias(\"CRS_DEPARTURE_TIMESTAMP\"),\n",
        "                    df.columns[0],df.columns[4],\n",
        "                    padTimeStampUDF(df[\"FL_DATE\"],df[\"DEP_TIME\"]).alias(\"ACTUAL_DEPARTURE_TIMESTAMP\"),\n",
        "                    df.columns[7],df.columns[8],\n",
        "                    padTimeStampUDF(df[\"FL_DATE\"],df[\"WHEELS_OFF\"]).alias(\"WHEELS_OFF_TIMESTAMP\"),\n",
        "                    padTimeStampUDF(df[\"FL_DATE\"],df[\"WHEELS_ON\"]).alias(\"WHEELS_ON_TIMESTAMP\"),\n",
        "                    df.columns[11],\n",
        "                    padTimeStampUDF(df[\"FL_DATE\"],df[\"CRS_ARR_TIME\"]).alias(\"CRS_ARRIVAL_TIMESTAMP\"),\n",
        "                    padTimeStampUDF(df[\"FL_DATE\"],df[\"ARR_TIME\"]).alias(\"ACTUAL_ARRIVAL_TIMESTAMP\"), \n",
        "                    df.columns[14], df.columns[15], df.columns[16], df.columns[17], df.columns[18], df.columns[19], df.columns[20], df.columns[21], df.columns[22], df.columns[23], df.columns[24], df.columns[25], df.columns[26] \n",
        "                  )\n",
        "#initial_df.printSchema()\n",
        "#initial_df.show()\n",
        "\n",
        "#Changed the 1 and 0s to true and false\n",
        "initial_df = initial_df.withColumn(\"DIVERTED\", when(col(\"DIVERTED\") == '1.0', True).otherwise(False))\n",
        "initial_df = initial_df.withColumn(\"CANCELLED\", when(col(\"CANCELLED\") == '1.0', True).otherwise(False))\n",
        "\n",
        "#Final df where we change the column names and cast the datatypes\n",
        "final_df = initial_df.selectExpr(\n",
        "                                \"OP_CARRIER as AIRLINE_CARRIER_CODE\",\n",
        "                                \"OP_CARRIER_FL_NUM\",\n",
        "                                \"ORIGIN as ORIGIN_AIRPORT_CODE\",\n",
        "                                \"cast(CRS_DEPARTURE_TIMESTAMP as timestamp) CRS_DEPARTURE_TIMESTAMP\",\n",
        "                                \"cast(FL_DATE as date) FLIGHT_DT\",\n",
        "                                \"DEST as DEST_AIRPORT_CODE\",\n",
        "                                \"cast(ACTUAL_DEPARTURE_TIMESTAMP as timestamp) ACTUAL_DEPARTURE_TIMESTAMP\",\n",
        "                                \"cast(DEP_DELAY as integer) as DEPARTURE_DELAY_MINUTES\",\n",
        "                                \"cast(TAXI_OUT as integer) TAXI_OUT_MINUTES\",\n",
        "                                \"cast(WHEELS_OFF_TIMESTAMP as timestamp) WHEELS_OFF_TIMESTAMP\",\n",
        "                                \"cast(WHEELS_ON_TIMESTAMP as timestamp) WHEELS_ON_TIMESTAMP\",\n",
        "                                \"cast(TAXI_IN as integer) TAXI_IN_MINUTES\",\n",
        "                                \"cast(CRS_ARRIVAL_TIMESTAMP as timestamp) CRS_ARRIVAL_TIMESTAMP\",\n",
        "                                \"cast(CRS_ARRIVAL_TIMESTAMP as timestamp) ACTUAL_ARRIVAL_TIMESTAMP\",\n",
        "                                \"cast(ARR_DELAY as integer) ARRIVAL_DELAY_MINUTES\",\n",
        "                                \"CANCELLED as CANCELLED_IND\",\n",
        "                                \"CANCELLATION_CODE\",\n",
        "                                \"DIVERTED as DIVERTED_IND\",\n",
        "                                \"cast(CRS_ELAPSED_TIME as integer) CRS_ELAPSED_TIME_MINUTES\",\n",
        "                                \"cast(ACTUAL_ELAPSED_TIME as integer) ACTUAL_ELAPSED_TIME_MINUTES\",\n",
        "                                \"cast(AIR_TIME as integer) AIR_TIME_MINUTES\",\n",
        "                                \"cast(DISTANCE as integer) DISTANCE_MILES\",\n",
        "                                \"cast(CARRIER_DELAY as integer) CARRIER_DELAY_MINUTES\",\n",
        "                                \"cast(WEATHER_DELAY as integer) WEATHER_DELAY_MINUTES\",\n",
        "                                \"cast(NAS_DELAY as integer) NAS_DELAY_MINUTES\",\n",
        "                                \"cast(SECURITY_DELAY as integer) SECURITY_DELAY_MINUTES\",\n",
        "                                \"cast(LATE_AIRCRAFT_DELAY as integer) LATE_AIRCRAFT_DELAY_MINUTES\"\n",
        "                                )\n",
        "#Fill the null values with 0\n",
        "final_df = final_df.na.fill(value=0,subset=[\"CARRIER_DELAY_MINUTES\", \"WEATHER_DELAY_MINUTES\", \"NAS_DELAY_MINUTES\", \"SECURITY_DELAY_MINUTES\",\"LATE_AIRCRAFT_DELAY_MINUTES\"])\n",
        "\n",
        "final_df.show()"
      ],
      "metadata": {
        "colab": {
          "base_uri": "https://localhost:8080/"
        },
        "id": "FgifKHjx_68B",
        "outputId": "3ae39c75-be5d-4dd6-afd0-52d88b41a171"
      },
      "execution_count": null,
      "outputs": [
        {
          "output_type": "stream",
          "name": "stdout",
          "text": [
            "+--------------------+-----------------+-------------------+-----------------------+----------+-----------------+--------------------------+-----------------------+----------------+--------------------+-------------------+---------------+---------------------+------------------------+---------------------+-------------+-----------------+------------+------------------------+---------------------------+----------------+--------------+---------------------+---------------------+-----------------+----------------------+---------------------------+\n",
            "|AIRLINE_CARRIER_CODE|OP_CARRIER_FL_NUM|ORIGIN_AIRPORT_CODE|CRS_DEPARTURE_TIMESTAMP| FLIGHT_DT|DEST_AIRPORT_CODE|ACTUAL_DEPARTURE_TIMESTAMP|DEPARTURE_DELAY_MINUTES|TAXI_OUT_MINUTES|WHEELS_OFF_TIMESTAMP|WHEELS_ON_TIMESTAMP|TAXI_IN_MINUTES|CRS_ARRIVAL_TIMESTAMP|ACTUAL_ARRIVAL_TIMESTAMP|ARRIVAL_DELAY_MINUTES|CANCELLED_IND|CANCELLATION_CODE|DIVERTED_IND|CRS_ELAPSED_TIME_MINUTES|ACTUAL_ELAPSED_TIME_MINUTES|AIR_TIME_MINUTES|DISTANCE_MILES|CARRIER_DELAY_MINUTES|WEATHER_DELAY_MINUTES|NAS_DELAY_MINUTES|SECURITY_DELAY_MINUTES|LATE_AIRCRAFT_DELAY_MINUTES|\n",
            "+--------------------+-----------------+-------------------+-----------------------+----------+-----------------+--------------------------+-----------------------+----------------+--------------------+-------------------+---------------+---------------------+------------------------+---------------------+-------------+-----------------+------------+------------------------+---------------------------+----------------+--------------+---------------------+---------------------+-----------------+----------------------+---------------------------+\n",
            "|                  UA|             2429|                EWR|    2018-01-01 15:17:00|2018-01-01|              DEN|       2018-01-01 15:12:00|                     -5|              15| 2018-01-01 15:27:00|2018-01-01 17:12:00|             10|  2018-01-01 17:45:00|     2018-01-01 17:45:00|                  -23|        false|             null|       false|                     268|                        250|             225|          1605|                    0|                    0|                0|                     0|                          0|\n",
            "|                  UA|             2427|                LAS|    2018-01-01 11:15:00|2018-01-01|              SFO|       2018-01-01 11:07:00|                     -8|              11| 2018-01-01 11:18:00|2018-01-01 12:23:00|              7|  2018-01-01 12:54:00|     2018-01-01 12:54:00|                  -24|        false|             null|       false|                      99|                         83|              65|           414|                    0|                    0|                0|                     0|                          0|\n",
            "|                  UA|             2426|                SNA|    2018-01-01 13:35:00|2018-01-01|              DEN|       2018-01-01 13:30:00|                     -5|              15| 2018-01-01 13:45:00|2018-01-01 16:31:00|              5|  2018-01-01 16:49:00|     2018-01-01 16:49:00|                  -13|        false|             null|       false|                     134|                        126|             106|           846|                    0|                    0|                0|                     0|                          0|\n",
            "|                  UA|             2425|                RSW|    2018-01-01 15:46:00|2018-01-01|              ORD|       2018-01-01 15:52:00|                      6|              19| 2018-01-01 16:11:00|2018-01-01 17:48:00|              6|  2018-01-01 17:56:00|     2018-01-01 17:56:00|                   -2|        false|             null|       false|                     190|                        182|             157|          1120|                    0|                    0|                0|                     0|                          0|\n",
            "|                  UA|             2424|                ORD|    2018-01-01 06:30:00|2018-01-01|              ALB|       2018-01-01 06:50:00|                     20|              13| 2018-01-01 07:03:00|2018-01-01 09:26:00|             10|  2018-01-01 09:22:00|     2018-01-01 09:22:00|                   14|        false|             null|       false|                     112|                        106|              83|           723|                    0|                    0|                0|                     0|                          0|\n",
            "|                  UA|             2422|                ORD|    2018-01-01 22:41:00|2018-01-01|              OMA|       2018-01-01 22:44:00|                      3|              15| 2018-01-01 22:59:00|2018-01-01 00:01:00|              2|  2018-01-01 00:14:00|     2018-01-01 00:14:00|                  -11|        false|             null|       false|                      93|                         79|              62|           416|                    0|                    0|                0|                     0|                          0|\n",
            "|                  UA|             2421|                IAH|    2018-01-01 07:50:00|2018-01-01|              LAS|       2018-01-01 07:47:00|                     -3|              14| 2018-01-01 08:01:00|2018-01-01 08:54:00|              6|  2018-01-01 09:16:00|     2018-01-01 09:16:00|                  -16|        false|             null|       false|                     206|                        193|             173|          1222|                    0|                    0|                0|                     0|                          0|\n",
            "|                  UA|             2420|                DEN|    2018-01-01 13:24:00|2018-01-01|              CID|       2018-01-01 13:18:00|                     -6|              11| 2018-01-01 13:29:00|2018-01-01 15:54:00|              6|  2018-01-01 16:19:00|     2018-01-01 16:19:00|                  -19|        false|             null|       false|                     115|                        102|              85|           692|                    0|                    0|                0|                     0|                          0|\n",
            "|                  UA|             2419|                SMF|    2018-01-01 22:24:00|2018-01-01|              EWR|       2018-01-01 22:37:00|                     13|              10| 2018-01-01 22:47:00|2018-01-01 06:27:00|              9|  2018-01-01 06:38:00|     2018-01-01 06:38:00|                   -2|        false|             null|       false|                     314|                        299|             280|          2500|                    0|                    0|                0|                     0|                          0|\n",
            "|                  UA|             2418|                RIC|    2018-01-01 16:01:00|2018-01-01|              DEN|       2018-01-01 15:59:00|                     -2|              12| 2018-01-01 16:11:00|2018-01-01 17:48:00|              8|  2018-01-01 18:13:00|     2018-01-01 18:13:00|                  -17|        false|             null|       false|                     252|                        237|             217|          1482|                    0|                    0|                0|                     0|                          0|\n",
            "|                  UA|             2417|                PDX|    2018-01-01 22:40:00|2018-01-01|              EWR|       2018-01-01 22:35:00|                     -5|               9| 2018-01-01 22:44:00|2018-01-01 06:24:00|              7|  2018-01-01 06:47:00|     2018-01-01 06:47:00|                  -16|        false|             null|       false|                     307|                        296|             280|          2434|                    0|                    0|                0|                     0|                          0|\n",
            "|                  UA|             2416|                ORD|    2018-01-01 20:59:00|2018-01-01|              CLE|       2018-01-01 23:00:00|                    121|              24| 2018-01-01 23:24:00|2018-01-01 01:12:00|              8|  2018-01-01 23:11:00|     2018-01-01 23:11:00|                  129|        false|             null|       false|                      72|                         80|              48|           316|                  121|                    0|                8|                     0|                          0|\n",
            "|                  UA|             2415|                EWR|    2018-01-01 08:25:00|2018-01-01|              PDX|       2018-01-01 08:22:00|                     -3|              15| 2018-01-01 08:37:00|2018-01-01 11:04:00|              5|  2018-01-01 11:35:00|     2018-01-01 11:35:00|                  -26|        false|             null|       false|                     370|                        347|             327|          2434|                    0|                    0|                0|                     0|                          0|\n",
            "|                  UA|             2414|                EWR|    2018-01-01 10:44:00|2018-01-01|              ATL|       2018-01-01 10:55:00|                     11|              11| 2018-01-01 11:06:00|2018-01-01 13:10:00|              5|  2018-01-01 13:18:00|     2018-01-01 13:18:00|                   -3|        false|             null|       false|                     154|                        140|             124|           746|                    0|                    0|                0|                     0|                          0|\n",
            "|                  UA|             2413|                ORD|    2018-01-01 21:14:00|2018-01-01|              BTV|       2018-01-01 22:30:00|                     76|              14| 2018-01-01 22:44:00|2018-01-01 01:23:00|              5|  2018-01-01 00:15:00|     2018-01-01 00:15:00|                   73|        false|             null|       false|                     121|                        118|              99|           763|                    0|                   11|                0|                     0|                         62|\n",
            "|                  UA|             2412|                MCO|    2018-01-01 06:53:00|2018-01-01|              LAX|       2018-01-01 07:47:00|                     54|              14| 2018-01-01 08:01:00|2018-01-01 10:03:00|             22|  2018-01-01 09:30:00|     2018-01-01 09:30:00|                   55|        false|             null|       false|                     337|                        338|             302|          2218|                   54|                    0|                1|                     0|                          0|\n",
            "|                  UA|             2411|                EWR|    2018-01-01 18:10:00|2018-01-01|              SMF|       2018-01-01 19:22:00|                     72|              16| 2018-01-01 19:38:00|2018-01-01 21:57:00|              4|  2018-01-01 21:36:00|     2018-01-01 21:36:00|                   25|        false|             null|       false|                     386|                        339|             319|          2500|                    7|                    0|                0|                     0|                         18|\n",
            "|                  UA|             2410|                RSW|    2018-01-01 12:50:00|2018-01-01|              EWR|       2018-01-01 13:37:00|                     47|              12| 2018-01-01 13:49:00|2018-01-01 16:00:00|              6|  2018-01-01 15:37:00|     2018-01-01 15:37:00|                   29|        false|             null|       false|                     167|                        149|             131|          1068|                   29|                    0|                0|                     0|                          0|\n",
            "|                  UA|             2409|                IAH|    2018-01-01 09:40:00|2018-01-01|              JAC|       2018-01-01 09:34:00|                     -6|              18| 2018-01-01 09:52:00|2018-01-01 11:56:00|              4|  2018-01-01 12:18:00|     2018-01-01 12:18:00|                  -18|        false|             null|       false|                     218|                        206|             184|          1265|                    0|                    0|                0|                     0|                          0|\n",
            "|                  UA|             2408|                TYS|    2018-01-01 11:31:00|2018-01-01|              EWR|       2018-01-01 11:40:00|                      9|               9| 2018-01-01 11:49:00|2018-01-01 13:07:00|              5|  2018-01-01 13:33:00|     2018-01-01 13:33:00|                  -21|        false|             null|       false|                     122|                         92|              78|           631|                    0|                    0|                0|                     0|                          0|\n",
            "+--------------------+-----------------+-------------------+-----------------------+----------+-----------------+--------------------------+-----------------------+----------------+--------------------+-------------------+---------------+---------------------+------------------------+---------------------+-------------+-----------------+------------+------------------------+---------------------------+----------------+--------------+---------------------+---------------------+-----------------+----------------------+---------------------------+\n",
            "only showing top 20 rows\n",
            "\n"
          ]
        }
      ]
    },
    {
      "cell_type": "code",
      "source": [
        "final_df.printSchema()"
      ],
      "metadata": {
        "colab": {
          "base_uri": "https://localhost:8080/"
        },
        "id": "IJhI9tBcADbt",
        "outputId": "ff735f6f-48c0-4f21-b1a0-a7dd70c458ca"
      },
      "execution_count": null,
      "outputs": [
        {
          "output_type": "stream",
          "name": "stdout",
          "text": [
            "root\n",
            " |-- AIRLINE_CARRIER_CODE: string (nullable = true)\n",
            " |-- OP_CARRIER_FL_NUM: string (nullable = true)\n",
            " |-- ORIGIN_AIRPORT_CODE: string (nullable = true)\n",
            " |-- CRS_DEPARTURE_TIMESTAMP: timestamp (nullable = true)\n",
            " |-- FLIGHT_DT: date (nullable = true)\n",
            " |-- DEST_AIRPORT_CODE: string (nullable = true)\n",
            " |-- ACTUAL_DEPARTURE_TIMESTAMP: timestamp (nullable = true)\n",
            " |-- DEPARTURE_DELAY_MINUTES: integer (nullable = true)\n",
            " |-- TAXI_OUT_MINUTES: integer (nullable = true)\n",
            " |-- WHEELS_OFF_TIMESTAMP: timestamp (nullable = true)\n",
            " |-- WHEELS_ON_TIMESTAMP: timestamp (nullable = true)\n",
            " |-- TAXI_IN_MINUTES: integer (nullable = true)\n",
            " |-- CRS_ARRIVAL_TIMESTAMP: timestamp (nullable = true)\n",
            " |-- ACTUAL_ARRIVAL_TIMESTAMP: timestamp (nullable = true)\n",
            " |-- ARRIVAL_DELAY_MINUTES: integer (nullable = true)\n",
            " |-- CANCELLED_IND: boolean (nullable = false)\n",
            " |-- CANCELLATION_CODE: string (nullable = true)\n",
            " |-- DIVERTED_IND: boolean (nullable = false)\n",
            " |-- CRS_ELAPSED_TIME_MINUTES: integer (nullable = true)\n",
            " |-- ACTUAL_ELAPSED_TIME_MINUTES: integer (nullable = true)\n",
            " |-- AIR_TIME_MINUTES: integer (nullable = true)\n",
            " |-- DISTANCE_MILES: integer (nullable = true)\n",
            " |-- CARRIER_DELAY_MINUTES: integer (nullable = true)\n",
            " |-- WEATHER_DELAY_MINUTES: integer (nullable = true)\n",
            " |-- NAS_DELAY_MINUTES: integer (nullable = true)\n",
            " |-- SECURITY_DELAY_MINUTES: integer (nullable = true)\n",
            " |-- LATE_AIRCRAFT_DELAY_MINUTES: integer (nullable = true)\n",
            "\n"
          ]
        }
      ]
    },
    {
      "cell_type": "code",
      "source": [
        "final_df.filter((final_df.AIRLINE_CARRIER_CODE == \"YX\") & (final_df.OP_CARRIER_FL_NUM == \"3624\") & (final_df.CRS_DEPARTURE_TIMESTAMP == '2018-06-21 20:07:00')).show(100)"
      ],
      "metadata": {
        "colab": {
          "base_uri": "https://localhost:8080/"
        },
        "id": "ZyVxb-HICxDh",
        "outputId": "6e1b03dd-7874-463f-ef3b-f91592c285a7"
      },
      "execution_count": null,
      "outputs": [
        {
          "output_type": "stream",
          "name": "stdout",
          "text": [
            "+--------------------+-----------------+-------------------+-----------------------+----------+-----------------+--------------------------+-----------------------+----------------+--------------------+-------------------+---------------+---------------------+------------------------+---------------------+-------------+-----------------+------------+------------------------+---------------------------+----------------+--------------+---------------------+---------------------+-----------------+----------------------+---------------------------+\n",
            "|AIRLINE_CARRIER_CODE|OP_CARRIER_FL_NUM|ORIGIN_AIRPORT_CODE|CRS_DEPARTURE_TIMESTAMP| FLIGHT_DT|DEST_AIRPORT_CODE|ACTUAL_DEPARTURE_TIMESTAMP|DEPARTURE_DELAY_MINUTES|TAXI_OUT_MINUTES|WHEELS_OFF_TIMESTAMP|WHEELS_ON_TIMESTAMP|TAXI_IN_MINUTES|CRS_ARRIVAL_TIMESTAMP|ACTUAL_ARRIVAL_TIMESTAMP|ARRIVAL_DELAY_MINUTES|CANCELLED_IND|CANCELLATION_CODE|DIVERTED_IND|CRS_ELAPSED_TIME_MINUTES|ACTUAL_ELAPSED_TIME_MINUTES|AIR_TIME_MINUTES|DISTANCE_MILES|CARRIER_DELAY_MINUTES|WEATHER_DELAY_MINUTES|NAS_DELAY_MINUTES|SECURITY_DELAY_MINUTES|LATE_AIRCRAFT_DELAY_MINUTES|\n",
            "+--------------------+-----------------+-------------------+-----------------------+----------+-----------------+--------------------------+-----------------------+----------------+--------------------+-------------------+---------------+---------------------+------------------------+---------------------+-------------+-----------------+------------+------------------------+---------------------------+----------------+--------------+---------------------+---------------------+-----------------+----------------------+---------------------------+\n",
            "|                  YX|             3624|                DEN|    2018-06-21 20:07:00|2018-06-21|              XNA|       2018-06-21 20:27:00|                     20|              13| 2018-06-21 20:40:00|2018-06-21 23:03:00|              6|  2018-06-21 23:05:00|     2018-06-21 23:05:00|                    4|        false|             null|       false|                     118|                        102|              83|           616|                    0|                    0|                0|                     0|                          0|\n",
            "|                  YX|             3624|                DEN|    2018-06-21 20:07:00|2018-06-21|              XNA|       2018-06-21 10:44:00|                    877|              91| 2018-06-21 12:15:00|2018-06-21 14:39:00|              7|  2018-06-21 23:05:00|     2018-06-21 23:05:00|                  941|        false|             null|       false|                     118|                        182|              84|           616|                    0|                  877|               64|                     0|                          0|\n",
            "+--------------------+-----------------+-------------------+-----------------------+----------+-----------------+--------------------------+-----------------------+----------------+--------------------+-------------------+---------------+---------------------+------------------------+---------------------+-------------+-----------------+------------+------------------------+---------------------------+----------------+--------------+---------------------+---------------------+-----------------+----------------------+---------------------------+\n",
            "\n"
          ]
        }
      ]
    },
    {
      "cell_type": "code",
      "source": [
        "# Configure settings for RDS\n",
        "mode = \"append\"\n",
        "jdbc_url=\"jdbc:postgresql://airline-db.cjrwalaqox8l.us-east-2.rds.amazonaws.com/airline\"\n",
        "config = {\"user\":\"postgres\", \n",
        "          \"password\": \"57jcw2Jvswa7vhDe\", \n",
        "          \"driver\":\"org.postgresql.Driver\"}\n"
      ],
      "metadata": {
        "id": "jox7vu8wAF_W"
      },
      "execution_count": null,
      "outputs": []
    },
    {
      "cell_type": "code",
      "source": [
        "# Write DataFrame to active_user table in RDS\n",
        "final_df.write.jdbc(url=jdbc_url, table='project.flight_data', mode=mode, properties=config)"
      ],
      "metadata": {
        "id": "OuwZ267LAHdu"
      },
      "execution_count": null,
      "outputs": []
    }
  ]
}