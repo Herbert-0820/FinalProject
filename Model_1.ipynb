{
 "cells": [
  {
   "cell_type": "code",
   "execution_count": 2,
   "metadata": {
    "id": "Gtt063w97Asa"
   },
   "outputs": [],
   "source": [
    "import pandas as pd\n",
    "import numpy as np"
   ]
  },
  {
   "cell_type": "code",
   "execution_count": 3,
   "metadata": {
    "id": "8dD0b8Nt7Jbc"
   },
   "outputs": [
    {
     "name": "stderr",
     "output_type": "stream",
     "text": [
      "C:\\Users\\nadaa\\anaconda3\\envs\\PythonData\\lib\\site-packages\\IPython\\core\\interactiveshell.py:3444: FutureWarning: The error_bad_lines argument has been deprecated and will be removed in a future version.\n",
      "\n",
      "\n",
      "  exec(code_obj, self.user_global_ns, self.user_ns)\n"
     ]
    }
   ],
   "source": [
    "# Data Loading\n",
    "file_path = '2018_clean_final.csv'\n",
    "flight_df = pd.read_csv(file_path, error_bad_lines=False)"
   ]
  },
  {
   "cell_type": "code",
   "execution_count": 4,
   "metadata": {
    "colab": {
     "base_uri": "https://localhost:8080/"
    },
    "id": "4xIOcXbB7cS2",
    "outputId": "57dfd0d6-9c9f-4ee4-89da-676fcd8609c9"
   },
   "outputs": [
    {
     "name": "stdout",
     "output_type": "stream",
     "text": [
      "<class 'pandas.core.frame.DataFrame'>\n",
      "RangeIndex: 7065663 entries, 0 to 7065662\n",
      "Data columns (total 31 columns):\n",
      " #   Column               Dtype  \n",
      "---  ------               -----  \n",
      " 0   FL_DATE              object \n",
      " 1   OP_CARRIER           object \n",
      " 2   CRS_DEP_TIME         int64  \n",
      " 3   DEP_DELAY            float64\n",
      " 4   TAXI_OUT             float64\n",
      " 5   WHEELS_OFF           float64\n",
      " 6   WHEELS_ON            float64\n",
      " 7   TAXI_IN              float64\n",
      " 8   CRS_ARR_TIME         int64  \n",
      " 9   ARR_DELAY            float64\n",
      " 10  CRS_ELAPSED_TIME     float64\n",
      " 11  ACTUAL_ELAPSED_TIME  float64\n",
      " 12  AIR_TIME             float64\n",
      " 13  DISTANCE             float64\n",
      " 14  CARRIER_DELAY        float64\n",
      " 15  WEATHER_DELAY        float64\n",
      " 16  NAS_DELAY            float64\n",
      " 17  SECURITY_DELAY       float64\n",
      " 18  LATE_AIRCRAFT_DELAY  float64\n",
      " 19  Org_Airport          object \n",
      " 20  Org_latitude         float64\n",
      " 21  Org_longitude        float64\n",
      " 22  Origin_city          object \n",
      " 23  Dest_Airport         object \n",
      " 24  Dest_latitude        float64\n",
      " 25  Dest_longitude       float64\n",
      " 26  Dest_city            object \n",
      " 27  month                int64  \n",
      " 28  Day                  int64  \n",
      " 29  MONTH_abbr           object \n",
      " 30  DELAY_STATUS         int64  \n",
      "dtypes: float64(19), int64(5), object(7)\n",
      "memory usage: 1.6+ GB\n"
     ]
    }
   ],
   "source": [
    "flight_df.info()"
   ]
  },
  {
   "cell_type": "code",
   "execution_count": 5,
   "metadata": {
    "colab": {
     "base_uri": "https://localhost:8080/"
    },
    "id": "ceOO8Xf7-eUd",
    "outputId": "7e36c2d1-e8ad-44d6-8dad-3bbe1ffc90d3"
   },
   "outputs": [
    {
     "data": {
      "text/plain": [
       "(7065663, 31)"
      ]
     },
     "execution_count": 5,
     "metadata": {},
     "output_type": "execute_result"
    }
   ],
   "source": [
    "flight_df.shape"
   ]
  },
  {
   "cell_type": "code",
   "execution_count": 6,
   "metadata": {
    "colab": {
     "base_uri": "https://localhost:8080/"
    },
    "id": "qJXlVLzi-w-O",
    "outputId": "c099f561-5585-4c12-804a-777e49b38eb7"
   },
   "outputs": [
    {
     "data": {
      "text/plain": [
       "FL_DATE                0\n",
       "OP_CARRIER             0\n",
       "CRS_DEP_TIME           0\n",
       "DEP_DELAY              0\n",
       "TAXI_OUT               0\n",
       "WHEELS_OFF             0\n",
       "WHEELS_ON              0\n",
       "TAXI_IN                0\n",
       "CRS_ARR_TIME           0\n",
       "ARR_DELAY              0\n",
       "CRS_ELAPSED_TIME       0\n",
       "ACTUAL_ELAPSED_TIME    0\n",
       "AIR_TIME               0\n",
       "DISTANCE               0\n",
       "CARRIER_DELAY          0\n",
       "WEATHER_DELAY          0\n",
       "NAS_DELAY              0\n",
       "SECURITY_DELAY         0\n",
       "LATE_AIRCRAFT_DELAY    0\n",
       "Org_Airport            0\n",
       "Org_latitude           0\n",
       "Org_longitude          0\n",
       "Origin_city            0\n",
       "Dest_Airport           0\n",
       "Dest_latitude          0\n",
       "Dest_longitude         0\n",
       "Dest_city              0\n",
       "month                  0\n",
       "Day                    0\n",
       "MONTH_abbr             0\n",
       "DELAY_STATUS           0\n",
       "dtype: int64"
      ]
     },
     "execution_count": 6,
     "metadata": {},
     "output_type": "execute_result"
    }
   ],
   "source": [
    "flight_df.isnull().sum()\n"
   ]
  },
  {
   "cell_type": "code",
   "execution_count": 7,
   "metadata": {
    "id": "Jdj5YVC75yz5"
   },
   "outputs": [],
   "source": [
    "flight_df = flight_df.dropna()"
   ]
  },
  {
   "cell_type": "code",
   "execution_count": 8,
   "metadata": {
    "colab": {
     "base_uri": "https://localhost:8080/"
    },
    "id": "MODvP1x56UXj",
    "outputId": "91623ac4-a8d0-4e43-fee9-1260b0626cea"
   },
   "outputs": [
    {
     "data": {
      "text/plain": [
       "FL_DATE                0\n",
       "OP_CARRIER             0\n",
       "CRS_DEP_TIME           0\n",
       "DEP_DELAY              0\n",
       "TAXI_OUT               0\n",
       "WHEELS_OFF             0\n",
       "WHEELS_ON              0\n",
       "TAXI_IN                0\n",
       "CRS_ARR_TIME           0\n",
       "ARR_DELAY              0\n",
       "CRS_ELAPSED_TIME       0\n",
       "ACTUAL_ELAPSED_TIME    0\n",
       "AIR_TIME               0\n",
       "DISTANCE               0\n",
       "CARRIER_DELAY          0\n",
       "WEATHER_DELAY          0\n",
       "NAS_DELAY              0\n",
       "SECURITY_DELAY         0\n",
       "LATE_AIRCRAFT_DELAY    0\n",
       "Org_Airport            0\n",
       "Org_latitude           0\n",
       "Org_longitude          0\n",
       "Origin_city            0\n",
       "Dest_Airport           0\n",
       "Dest_latitude          0\n",
       "Dest_longitude         0\n",
       "Dest_city              0\n",
       "month                  0\n",
       "Day                    0\n",
       "MONTH_abbr             0\n",
       "DELAY_STATUS           0\n",
       "dtype: int64"
      ]
     },
     "execution_count": 8,
     "metadata": {},
     "output_type": "execute_result"
    }
   ],
   "source": [
    "flight_df.isnull().sum()"
   ]
  },
  {
   "cell_type": "code",
   "execution_count": 9,
   "metadata": {
    "colab": {
     "base_uri": "https://localhost:8080/"
    },
    "id": "v0vT1223Auih",
    "outputId": "f5fe8af6-8d3d-4c23-8f05-0e6e95a0fd8e"
   },
   "outputs": [
    {
     "data": {
      "text/plain": [
       "Index(['FL_DATE', 'OP_CARRIER', 'CRS_DEP_TIME', 'DEP_DELAY', 'TAXI_OUT',\n",
       "       'WHEELS_OFF', 'WHEELS_ON', 'TAXI_IN', 'CRS_ARR_TIME', 'ARR_DELAY',\n",
       "       'CRS_ELAPSED_TIME', 'ACTUAL_ELAPSED_TIME', 'AIR_TIME', 'DISTANCE',\n",
       "       'CARRIER_DELAY', 'WEATHER_DELAY', 'NAS_DELAY', 'SECURITY_DELAY',\n",
       "       'LATE_AIRCRAFT_DELAY', 'Org_Airport', 'Org_latitude', 'Org_longitude',\n",
       "       'Origin_city', 'Dest_Airport', 'Dest_latitude', 'Dest_longitude',\n",
       "       'Dest_city', 'month', 'Day', 'MONTH_abbr', 'DELAY_STATUS', 'WEEKDAY'],\n",
       "      dtype='object')"
      ]
     },
     "execution_count": 9,
     "metadata": {},
     "output_type": "execute_result"
    }
   ],
   "source": [
    "flight_df['FL_DATE'] = pd.to_datetime(flight_df['FL_DATE'])\n",
    "flight_df['WEEKDAY'] = flight_df['FL_DATE'].dt.dayofweek\n",
    "flight_df.columns"
   ]
  },
  {
   "cell_type": "code",
   "execution_count": 10,
   "metadata": {
    "colab": {
     "base_uri": "https://localhost:8080/"
    },
    "id": "3HU7MZ7vTV1k",
    "outputId": "1e452a1e-e8e4-422d-af9d-53bd1cb70fc7"
   },
   "outputs": [
    {
     "data": {
      "text/plain": [
       "0    1064457\n",
       "4    1054395\n",
       "3    1046891\n",
       "2    1022009\n",
       "1    1009475\n",
       "6    1005218\n",
       "5     863218\n",
       "Name: WEEKDAY, dtype: int64"
      ]
     },
     "execution_count": 10,
     "metadata": {},
     "output_type": "execute_result"
    }
   ],
   "source": [
    "flight_df.WEEKDAY.value_counts()"
   ]
  },
  {
   "cell_type": "code",
   "execution_count": 11,
   "metadata": {
    "colab": {
     "base_uri": "https://localhost:8080/",
     "height": 531
    },
    "id": "12KGRfY5TV1l",
    "outputId": "b695cdb2-7dbe-49c6-81ea-7bbf15b0eb55"
   },
   "outputs": [
    {
     "data": {
      "text/html": [
       "<div>\n",
       "<style scoped>\n",
       "    .dataframe tbody tr th:only-of-type {\n",
       "        vertical-align: middle;\n",
       "    }\n",
       "\n",
       "    .dataframe tbody tr th {\n",
       "        vertical-align: top;\n",
       "    }\n",
       "\n",
       "    .dataframe thead th {\n",
       "        text-align: right;\n",
       "    }\n",
       "</style>\n",
       "<table border=\"1\" class=\"dataframe\">\n",
       "  <thead>\n",
       "    <tr style=\"text-align: right;\">\n",
       "      <th></th>\n",
       "      <th>FL_DATE</th>\n",
       "      <th>OP_CARRIER</th>\n",
       "      <th>CRS_DEP_TIME</th>\n",
       "      <th>DEP_DELAY</th>\n",
       "      <th>TAXI_OUT</th>\n",
       "      <th>WHEELS_OFF</th>\n",
       "      <th>WHEELS_ON</th>\n",
       "      <th>TAXI_IN</th>\n",
       "      <th>CRS_ARR_TIME</th>\n",
       "      <th>ARR_DELAY</th>\n",
       "      <th>...</th>\n",
       "      <th>Origin_city</th>\n",
       "      <th>Dest_Airport</th>\n",
       "      <th>Dest_latitude</th>\n",
       "      <th>Dest_longitude</th>\n",
       "      <th>Dest_city</th>\n",
       "      <th>month</th>\n",
       "      <th>Day</th>\n",
       "      <th>MONTH_abbr</th>\n",
       "      <th>DELAY_STATUS</th>\n",
       "      <th>WEEKDAY</th>\n",
       "    </tr>\n",
       "  </thead>\n",
       "  <tbody>\n",
       "    <tr>\n",
       "      <th>0</th>\n",
       "      <td>2018-01-01</td>\n",
       "      <td>United Airlines</td>\n",
       "      <td>1517</td>\n",
       "      <td>-5.0</td>\n",
       "      <td>15.0</td>\n",
       "      <td>1527.0</td>\n",
       "      <td>1712.0</td>\n",
       "      <td>10.0</td>\n",
       "      <td>1745</td>\n",
       "      <td>-23.0</td>\n",
       "      <td>...</td>\n",
       "      <td>New York</td>\n",
       "      <td>Denver International Airport</td>\n",
       "      <td>39.861698</td>\n",
       "      <td>-104.672996</td>\n",
       "      <td>Denver</td>\n",
       "      <td>1</td>\n",
       "      <td>1</td>\n",
       "      <td>Jan</td>\n",
       "      <td>0</td>\n",
       "      <td>0</td>\n",
       "    </tr>\n",
       "    <tr>\n",
       "      <th>1</th>\n",
       "      <td>2018-01-01</td>\n",
       "      <td>United Airlines</td>\n",
       "      <td>1657</td>\n",
       "      <td>161.0</td>\n",
       "      <td>14.0</td>\n",
       "      <td>1952.0</td>\n",
       "      <td>2130.0</td>\n",
       "      <td>7.0</td>\n",
       "      <td>1925</td>\n",
       "      <td>132.0</td>\n",
       "      <td>...</td>\n",
       "      <td>New York</td>\n",
       "      <td>Denver International Airport</td>\n",
       "      <td>39.861698</td>\n",
       "      <td>-104.672996</td>\n",
       "      <td>Denver</td>\n",
       "      <td>1</td>\n",
       "      <td>1</td>\n",
       "      <td>Jan</td>\n",
       "      <td>1</td>\n",
       "      <td>0</td>\n",
       "    </tr>\n",
       "    <tr>\n",
       "      <th>2</th>\n",
       "      <td>2018-01-01</td>\n",
       "      <td>United Airlines</td>\n",
       "      <td>600</td>\n",
       "      <td>-1.0</td>\n",
       "      <td>14.0</td>\n",
       "      <td>613.0</td>\n",
       "      <td>806.0</td>\n",
       "      <td>6.0</td>\n",
       "      <td>835</td>\n",
       "      <td>-23.0</td>\n",
       "      <td>...</td>\n",
       "      <td>New York</td>\n",
       "      <td>Denver International Airport</td>\n",
       "      <td>39.861698</td>\n",
       "      <td>-104.672996</td>\n",
       "      <td>Denver</td>\n",
       "      <td>1</td>\n",
       "      <td>1</td>\n",
       "      <td>Jan</td>\n",
       "      <td>0</td>\n",
       "      <td>0</td>\n",
       "    </tr>\n",
       "    <tr>\n",
       "      <th>3</th>\n",
       "      <td>2018-01-01</td>\n",
       "      <td>United Airlines</td>\n",
       "      <td>1855</td>\n",
       "      <td>11.0</td>\n",
       "      <td>26.0</td>\n",
       "      <td>1932.0</td>\n",
       "      <td>2112.0</td>\n",
       "      <td>12.0</td>\n",
       "      <td>2126</td>\n",
       "      <td>-2.0</td>\n",
       "      <td>...</td>\n",
       "      <td>New York</td>\n",
       "      <td>Denver International Airport</td>\n",
       "      <td>39.861698</td>\n",
       "      <td>-104.672996</td>\n",
       "      <td>Denver</td>\n",
       "      <td>1</td>\n",
       "      <td>1</td>\n",
       "      <td>Jan</td>\n",
       "      <td>0</td>\n",
       "      <td>0</td>\n",
       "    </tr>\n",
       "    <tr>\n",
       "      <th>4</th>\n",
       "      <td>2018-01-01</td>\n",
       "      <td>United Airlines</td>\n",
       "      <td>1150</td>\n",
       "      <td>-1.0</td>\n",
       "      <td>13.0</td>\n",
       "      <td>1202.0</td>\n",
       "      <td>1353.0</td>\n",
       "      <td>7.0</td>\n",
       "      <td>1418</td>\n",
       "      <td>-18.0</td>\n",
       "      <td>...</td>\n",
       "      <td>New York</td>\n",
       "      <td>Denver International Airport</td>\n",
       "      <td>39.861698</td>\n",
       "      <td>-104.672996</td>\n",
       "      <td>Denver</td>\n",
       "      <td>1</td>\n",
       "      <td>1</td>\n",
       "      <td>Jan</td>\n",
       "      <td>0</td>\n",
       "      <td>0</td>\n",
       "    </tr>\n",
       "  </tbody>\n",
       "</table>\n",
       "<p>5 rows × 32 columns</p>\n",
       "</div>"
      ],
      "text/plain": [
       "     FL_DATE       OP_CARRIER  CRS_DEP_TIME  DEP_DELAY  TAXI_OUT  WHEELS_OFF  \\\n",
       "0 2018-01-01  United Airlines          1517       -5.0      15.0      1527.0   \n",
       "1 2018-01-01  United Airlines          1657      161.0      14.0      1952.0   \n",
       "2 2018-01-01  United Airlines           600       -1.0      14.0       613.0   \n",
       "3 2018-01-01  United Airlines          1855       11.0      26.0      1932.0   \n",
       "4 2018-01-01  United Airlines          1150       -1.0      13.0      1202.0   \n",
       "\n",
       "   WHEELS_ON  TAXI_IN  CRS_ARR_TIME  ARR_DELAY  ...  Origin_city  \\\n",
       "0     1712.0     10.0          1745      -23.0  ...     New York   \n",
       "1     2130.0      7.0          1925      132.0  ...     New York   \n",
       "2      806.0      6.0           835      -23.0  ...     New York   \n",
       "3     2112.0     12.0          2126       -2.0  ...     New York   \n",
       "4     1353.0      7.0          1418      -18.0  ...     New York   \n",
       "\n",
       "                   Dest_Airport  Dest_latitude  Dest_longitude  Dest_city  \\\n",
       "0  Denver International Airport      39.861698     -104.672996     Denver   \n",
       "1  Denver International Airport      39.861698     -104.672996     Denver   \n",
       "2  Denver International Airport      39.861698     -104.672996     Denver   \n",
       "3  Denver International Airport      39.861698     -104.672996     Denver   \n",
       "4  Denver International Airport      39.861698     -104.672996     Denver   \n",
       "\n",
       "   month  Day  MONTH_abbr  DELAY_STATUS WEEKDAY  \n",
       "0      1    1         Jan             0       0  \n",
       "1      1    1         Jan             1       0  \n",
       "2      1    1         Jan             0       0  \n",
       "3      1    1         Jan             0       0  \n",
       "4      1    1         Jan             0       0  \n",
       "\n",
       "[5 rows x 32 columns]"
      ]
     },
     "execution_count": 11,
     "metadata": {},
     "output_type": "execute_result"
    }
   ],
   "source": [
    "flight_df.head()"
   ]
  },
  {
   "cell_type": "code",
   "execution_count": 12,
   "metadata": {
    "id": "llxCzW1QTV1m"
   },
   "outputs": [],
   "source": [
    "flight_df['CRS_DEP_TIME'] = np.ceil(flight_df['CRS_DEP_TIME']/600).apply(int)\n",
    "flight_df['WHEELS_OFF'] = np.ceil(flight_df['WHEELS_OFF']/600).apply(int) \n",
    "flight_df['WHEELS_ON'] = np.ceil(flight_df['WHEELS_ON']/600).apply(int)\n",
    "flight_df['CRS_ARR_TIME'] = np.ceil(flight_df['CRS_ARR_TIME']/600).apply(int)"
   ]
  },
  {
   "cell_type": "code",
   "execution_count": 13,
   "metadata": {
    "colab": {
     "base_uri": "https://localhost:8080/"
    },
    "id": "94Spy00pTV1o",
    "outputId": "ed58c651-fcf0-4f4f-92ed-7ad20e3c30c0"
   },
   "outputs": [
    {
     "data": {
      "text/plain": [
       "2    0.373885\n",
       "3    0.359715\n",
       "4    0.218152\n",
       "1    0.048248\n",
       "Name: CRS_DEP_TIME, dtype: float64"
      ]
     },
     "execution_count": 13,
     "metadata": {},
     "output_type": "execute_result"
    }
   ],
   "source": [
    "flight_df.CRS_DEP_TIME.value_counts(normalize=True)"
   ]
  },
  {
   "cell_type": "code",
   "execution_count": 14,
   "metadata": {
    "colab": {
     "base_uri": "https://localhost:8080/"
    },
    "id": "qGdVbbVHTV1p",
    "outputId": "d11e5535-3067-4551-df9c-454399133659"
   },
   "outputs": [
    {
     "data": {
      "text/plain": [
       "3    0.359190\n",
       "4    0.329531\n",
       "2    0.283923\n",
       "1    0.027356\n",
       "Name: CRS_ARR_TIME, dtype: float64"
      ]
     },
     "execution_count": 14,
     "metadata": {},
     "output_type": "execute_result"
    }
   ],
   "source": [
    "flight_df.CRS_ARR_TIME.value_counts(normalize=True)"
   ]
  },
  {
   "cell_type": "code",
   "execution_count": 15,
   "metadata": {
    "colab": {
     "base_uri": "https://localhost:8080/",
     "height": 531
    },
    "id": "rtnV-477TV1q",
    "outputId": "a0f165f7-8c9f-4b77-b4f4-df1b2f740ef2"
   },
   "outputs": [
    {
     "data": {
      "text/html": [
       "<div>\n",
       "<style scoped>\n",
       "    .dataframe tbody tr th:only-of-type {\n",
       "        vertical-align: middle;\n",
       "    }\n",
       "\n",
       "    .dataframe tbody tr th {\n",
       "        vertical-align: top;\n",
       "    }\n",
       "\n",
       "    .dataframe thead th {\n",
       "        text-align: right;\n",
       "    }\n",
       "</style>\n",
       "<table border=\"1\" class=\"dataframe\">\n",
       "  <thead>\n",
       "    <tr style=\"text-align: right;\">\n",
       "      <th></th>\n",
       "      <th>FL_DATE</th>\n",
       "      <th>OP_CARRIER</th>\n",
       "      <th>CRS_DEP_TIME</th>\n",
       "      <th>DEP_DELAY</th>\n",
       "      <th>TAXI_OUT</th>\n",
       "      <th>WHEELS_OFF</th>\n",
       "      <th>WHEELS_ON</th>\n",
       "      <th>TAXI_IN</th>\n",
       "      <th>CRS_ARR_TIME</th>\n",
       "      <th>ARR_DELAY</th>\n",
       "      <th>...</th>\n",
       "      <th>Origin_city</th>\n",
       "      <th>Dest_Airport</th>\n",
       "      <th>Dest_latitude</th>\n",
       "      <th>Dest_longitude</th>\n",
       "      <th>Dest_city</th>\n",
       "      <th>month</th>\n",
       "      <th>Day</th>\n",
       "      <th>MONTH_abbr</th>\n",
       "      <th>DELAY_STATUS</th>\n",
       "      <th>WEEKDAY</th>\n",
       "    </tr>\n",
       "  </thead>\n",
       "  <tbody>\n",
       "    <tr>\n",
       "      <th>0</th>\n",
       "      <td>2018-01-01</td>\n",
       "      <td>United Airlines</td>\n",
       "      <td>3</td>\n",
       "      <td>-5.0</td>\n",
       "      <td>15.0</td>\n",
       "      <td>3</td>\n",
       "      <td>3</td>\n",
       "      <td>10.0</td>\n",
       "      <td>3</td>\n",
       "      <td>-23.0</td>\n",
       "      <td>...</td>\n",
       "      <td>New York</td>\n",
       "      <td>Denver International Airport</td>\n",
       "      <td>39.861698</td>\n",
       "      <td>-104.672996</td>\n",
       "      <td>Denver</td>\n",
       "      <td>1</td>\n",
       "      <td>1</td>\n",
       "      <td>Jan</td>\n",
       "      <td>0</td>\n",
       "      <td>0</td>\n",
       "    </tr>\n",
       "    <tr>\n",
       "      <th>1</th>\n",
       "      <td>2018-01-01</td>\n",
       "      <td>United Airlines</td>\n",
       "      <td>3</td>\n",
       "      <td>161.0</td>\n",
       "      <td>14.0</td>\n",
       "      <td>4</td>\n",
       "      <td>4</td>\n",
       "      <td>7.0</td>\n",
       "      <td>4</td>\n",
       "      <td>132.0</td>\n",
       "      <td>...</td>\n",
       "      <td>New York</td>\n",
       "      <td>Denver International Airport</td>\n",
       "      <td>39.861698</td>\n",
       "      <td>-104.672996</td>\n",
       "      <td>Denver</td>\n",
       "      <td>1</td>\n",
       "      <td>1</td>\n",
       "      <td>Jan</td>\n",
       "      <td>1</td>\n",
       "      <td>0</td>\n",
       "    </tr>\n",
       "    <tr>\n",
       "      <th>2</th>\n",
       "      <td>2018-01-01</td>\n",
       "      <td>United Airlines</td>\n",
       "      <td>1</td>\n",
       "      <td>-1.0</td>\n",
       "      <td>14.0</td>\n",
       "      <td>2</td>\n",
       "      <td>2</td>\n",
       "      <td>6.0</td>\n",
       "      <td>2</td>\n",
       "      <td>-23.0</td>\n",
       "      <td>...</td>\n",
       "      <td>New York</td>\n",
       "      <td>Denver International Airport</td>\n",
       "      <td>39.861698</td>\n",
       "      <td>-104.672996</td>\n",
       "      <td>Denver</td>\n",
       "      <td>1</td>\n",
       "      <td>1</td>\n",
       "      <td>Jan</td>\n",
       "      <td>0</td>\n",
       "      <td>0</td>\n",
       "    </tr>\n",
       "    <tr>\n",
       "      <th>3</th>\n",
       "      <td>2018-01-01</td>\n",
       "      <td>United Airlines</td>\n",
       "      <td>4</td>\n",
       "      <td>11.0</td>\n",
       "      <td>26.0</td>\n",
       "      <td>4</td>\n",
       "      <td>4</td>\n",
       "      <td>12.0</td>\n",
       "      <td>4</td>\n",
       "      <td>-2.0</td>\n",
       "      <td>...</td>\n",
       "      <td>New York</td>\n",
       "      <td>Denver International Airport</td>\n",
       "      <td>39.861698</td>\n",
       "      <td>-104.672996</td>\n",
       "      <td>Denver</td>\n",
       "      <td>1</td>\n",
       "      <td>1</td>\n",
       "      <td>Jan</td>\n",
       "      <td>0</td>\n",
       "      <td>0</td>\n",
       "    </tr>\n",
       "    <tr>\n",
       "      <th>4</th>\n",
       "      <td>2018-01-01</td>\n",
       "      <td>United Airlines</td>\n",
       "      <td>2</td>\n",
       "      <td>-1.0</td>\n",
       "      <td>13.0</td>\n",
       "      <td>3</td>\n",
       "      <td>3</td>\n",
       "      <td>7.0</td>\n",
       "      <td>3</td>\n",
       "      <td>-18.0</td>\n",
       "      <td>...</td>\n",
       "      <td>New York</td>\n",
       "      <td>Denver International Airport</td>\n",
       "      <td>39.861698</td>\n",
       "      <td>-104.672996</td>\n",
       "      <td>Denver</td>\n",
       "      <td>1</td>\n",
       "      <td>1</td>\n",
       "      <td>Jan</td>\n",
       "      <td>0</td>\n",
       "      <td>0</td>\n",
       "    </tr>\n",
       "  </tbody>\n",
       "</table>\n",
       "<p>5 rows × 32 columns</p>\n",
       "</div>"
      ],
      "text/plain": [
       "     FL_DATE       OP_CARRIER  CRS_DEP_TIME  DEP_DELAY  TAXI_OUT  WHEELS_OFF  \\\n",
       "0 2018-01-01  United Airlines             3       -5.0      15.0           3   \n",
       "1 2018-01-01  United Airlines             3      161.0      14.0           4   \n",
       "2 2018-01-01  United Airlines             1       -1.0      14.0           2   \n",
       "3 2018-01-01  United Airlines             4       11.0      26.0           4   \n",
       "4 2018-01-01  United Airlines             2       -1.0      13.0           3   \n",
       "\n",
       "   WHEELS_ON  TAXI_IN  CRS_ARR_TIME  ARR_DELAY  ...  Origin_city  \\\n",
       "0          3     10.0             3      -23.0  ...     New York   \n",
       "1          4      7.0             4      132.0  ...     New York   \n",
       "2          2      6.0             2      -23.0  ...     New York   \n",
       "3          4     12.0             4       -2.0  ...     New York   \n",
       "4          3      7.0             3      -18.0  ...     New York   \n",
       "\n",
       "                   Dest_Airport  Dest_latitude  Dest_longitude  Dest_city  \\\n",
       "0  Denver International Airport      39.861698     -104.672996     Denver   \n",
       "1  Denver International Airport      39.861698     -104.672996     Denver   \n",
       "2  Denver International Airport      39.861698     -104.672996     Denver   \n",
       "3  Denver International Airport      39.861698     -104.672996     Denver   \n",
       "4  Denver International Airport      39.861698     -104.672996     Denver   \n",
       "\n",
       "   month  Day  MONTH_abbr  DELAY_STATUS WEEKDAY  \n",
       "0      1    1         Jan             0       0  \n",
       "1      1    1         Jan             1       0  \n",
       "2      1    1         Jan             0       0  \n",
       "3      1    1         Jan             0       0  \n",
       "4      1    1         Jan             0       0  \n",
       "\n",
       "[5 rows x 32 columns]"
      ]
     },
     "execution_count": 15,
     "metadata": {},
     "output_type": "execute_result"
    }
   ],
   "source": [
    "flight_df.head()"
   ]
  },
  {
   "cell_type": "code",
   "execution_count": 16,
   "metadata": {
    "id": "iXkIixkMTV1r"
   },
   "outputs": [],
   "source": [
    "flight_df = flight_df.drop(['MONTH_abbr'], axis=1)\n",
    "flight_df = flight_df.drop(['Day'], axis=1)\n",
    "flight_df = flight_df.drop(['Dest_city'], axis=1)\n",
    "flight_df = flight_df.drop(['Origin_city'], axis=1)\n",
    "flight_df = flight_df.drop(['FL_DATE'], axis=1)\n",
    "\n"
   ]
  },
  {
   "cell_type": "code",
   "execution_count": 17,
   "metadata": {
    "colab": {
     "base_uri": "https://localhost:8080/"
    },
    "id": "cV106EBFTV1s",
    "outputId": "58fc5969-f1d4-42da-ada9-fd1859a13612"
   },
   "outputs": [
    {
     "name": "stdout",
     "output_type": "stream",
     "text": [
      "<class 'pandas.core.frame.DataFrame'>\n",
      "Int64Index: 7065663 entries, 0 to 7065662\n",
      "Data columns (total 27 columns):\n",
      " #   Column               Dtype  \n",
      "---  ------               -----  \n",
      " 0   OP_CARRIER           object \n",
      " 1   CRS_DEP_TIME         int64  \n",
      " 2   DEP_DELAY            float64\n",
      " 3   TAXI_OUT             float64\n",
      " 4   WHEELS_OFF           int64  \n",
      " 5   WHEELS_ON            int64  \n",
      " 6   TAXI_IN              float64\n",
      " 7   CRS_ARR_TIME         int64  \n",
      " 8   ARR_DELAY            float64\n",
      " 9   CRS_ELAPSED_TIME     float64\n",
      " 10  ACTUAL_ELAPSED_TIME  float64\n",
      " 11  AIR_TIME             float64\n",
      " 12  DISTANCE             float64\n",
      " 13  CARRIER_DELAY        float64\n",
      " 14  WEATHER_DELAY        float64\n",
      " 15  NAS_DELAY            float64\n",
      " 16  SECURITY_DELAY       float64\n",
      " 17  LATE_AIRCRAFT_DELAY  float64\n",
      " 18  Org_Airport          object \n",
      " 19  Org_latitude         float64\n",
      " 20  Org_longitude        float64\n",
      " 21  Dest_Airport         object \n",
      " 22  Dest_latitude        float64\n",
      " 23  Dest_longitude       float64\n",
      " 24  month                int64  \n",
      " 25  DELAY_STATUS         int64  \n",
      " 26  WEEKDAY              int64  \n",
      "dtypes: float64(17), int64(7), object(3)\n",
      "memory usage: 1.5+ GB\n"
     ]
    }
   ],
   "source": [
    "flight_df.info()"
   ]
  },
  {
   "cell_type": "code",
   "execution_count": 18,
   "metadata": {
    "id": "tMZ7Uv848XYx"
   },
   "outputs": [],
   "source": [
    "from sklearn.preprocessing import LabelEncoder\n",
    "\n",
    "le = LabelEncoder()\n",
    "# Label encoding features to change categorical variables into numerical one\n",
    "flight_df['OP_CARRIER'] = le.fit_transform(flight_df['OP_CARRIER'])\n",
    "flight_df['Dest_Airport'] = le.fit_transform(flight_df['Dest_Airport'])\n",
    "flight_df['Org_Airport'] = le.fit_transform(flight_df['Org_Airport'])"
   ]
  },
  {
   "cell_type": "code",
   "execution_count": 19,
   "metadata": {
    "id": "jww6pJG3zonW"
   },
   "outputs": [],
   "source": [
    "#OP_CARRIER_dummies = pd.get_dummies(flight_df['OP_CARRIER'], prefix='OP_CARRIER', drop_first=True)\n",
    "#CRS_DEP_TIME_dummies = pd.get_dummies(flight_df['CRS_DEP_TIME'], prefix='CRS_DEP_TIME', drop_first=True)\n",
    "#CRS_ARR_TIME_dummines = pd.get_dummies(flight_df['CRS_ARR_TIME'], prefix='CRS_ARR_TIME', drop_first=True) \n",
    "#MONTH_dummies = pd.get_dummies(flight_df['month'], prefix='month', drop_first=True)\n",
    "#WEEKDAY_dummies = pd.get_dummies(flight_df['WEEKDAY'], prefix='WEEKDAY', drop_first=True)"
   ]
  },
  {
   "cell_type": "code",
   "execution_count": 20,
   "metadata": {
    "id": "tgeOYrSm01Nv"
   },
   "outputs": [],
   "source": [
    "#flight_df = flight_df.drop(['OP_CARRIER', 'CRS_DEP_TIME', 'CRS_ARR_TIME', 'month', 'WEEKDAY'], axis=1)"
   ]
  },
  {
   "cell_type": "code",
   "execution_count": 21,
   "metadata": {
    "id": "ClQn-8Q609UH"
   },
   "outputs": [],
   "source": [
    "#flight_df = pd.concat([flight_df, OP_CARRIER_dummies, CRS_DEP_TIME_dummies, CRS_ARR_TIME_dummines, MONTH_dummies, WEEKDAY_dummies], axis=1)"
   ]
  },
  {
   "cell_type": "code",
   "execution_count": 22,
   "metadata": {
    "colab": {
     "base_uri": "https://localhost:8080/",
     "height": 176
    },
    "id": "eb4-jB791Azf",
    "outputId": "164cf880-787a-49ef-88be-7791af7bdffc"
   },
   "outputs": [
    {
     "data": {
      "text/html": [
       "<div>\n",
       "<style scoped>\n",
       "    .dataframe tbody tr th:only-of-type {\n",
       "        vertical-align: middle;\n",
       "    }\n",
       "\n",
       "    .dataframe tbody tr th {\n",
       "        vertical-align: top;\n",
       "    }\n",
       "\n",
       "    .dataframe thead th {\n",
       "        text-align: right;\n",
       "    }\n",
       "</style>\n",
       "<table border=\"1\" class=\"dataframe\">\n",
       "  <thead>\n",
       "    <tr style=\"text-align: right;\">\n",
       "      <th></th>\n",
       "      <th>OP_CARRIER</th>\n",
       "      <th>CRS_DEP_TIME</th>\n",
       "      <th>DEP_DELAY</th>\n",
       "      <th>TAXI_OUT</th>\n",
       "      <th>WHEELS_OFF</th>\n",
       "      <th>WHEELS_ON</th>\n",
       "      <th>TAXI_IN</th>\n",
       "      <th>CRS_ARR_TIME</th>\n",
       "      <th>ARR_DELAY</th>\n",
       "      <th>CRS_ELAPSED_TIME</th>\n",
       "      <th>...</th>\n",
       "      <th>LATE_AIRCRAFT_DELAY</th>\n",
       "      <th>Org_Airport</th>\n",
       "      <th>Org_latitude</th>\n",
       "      <th>Org_longitude</th>\n",
       "      <th>Dest_Airport</th>\n",
       "      <th>Dest_latitude</th>\n",
       "      <th>Dest_longitude</th>\n",
       "      <th>month</th>\n",
       "      <th>DELAY_STATUS</th>\n",
       "      <th>WEEKDAY</th>\n",
       "    </tr>\n",
       "  </thead>\n",
       "  <tbody>\n",
       "    <tr>\n",
       "      <th>0</th>\n",
       "      <td>16</td>\n",
       "      <td>3</td>\n",
       "      <td>-5.0</td>\n",
       "      <td>15.0</td>\n",
       "      <td>3</td>\n",
       "      <td>3</td>\n",
       "      <td>10.0</td>\n",
       "      <td>3</td>\n",
       "      <td>-23.0</td>\n",
       "      <td>268.0</td>\n",
       "      <td>...</td>\n",
       "      <td>0.0</td>\n",
       "      <td>225</td>\n",
       "      <td>40.692501</td>\n",
       "      <td>-74.168701</td>\n",
       "      <td>83</td>\n",
       "      <td>39.861698</td>\n",
       "      <td>-104.672996</td>\n",
       "      <td>1</td>\n",
       "      <td>0</td>\n",
       "      <td>0</td>\n",
       "    </tr>\n",
       "    <tr>\n",
       "      <th>1</th>\n",
       "      <td>16</td>\n",
       "      <td>3</td>\n",
       "      <td>161.0</td>\n",
       "      <td>14.0</td>\n",
       "      <td>4</td>\n",
       "      <td>4</td>\n",
       "      <td>7.0</td>\n",
       "      <td>4</td>\n",
       "      <td>132.0</td>\n",
       "      <td>268.0</td>\n",
       "      <td>...</td>\n",
       "      <td>116.0</td>\n",
       "      <td>225</td>\n",
       "      <td>40.692501</td>\n",
       "      <td>-74.168701</td>\n",
       "      <td>83</td>\n",
       "      <td>39.861698</td>\n",
       "      <td>-104.672996</td>\n",
       "      <td>1</td>\n",
       "      <td>1</td>\n",
       "      <td>0</td>\n",
       "    </tr>\n",
       "  </tbody>\n",
       "</table>\n",
       "<p>2 rows × 27 columns</p>\n",
       "</div>"
      ],
      "text/plain": [
       "   OP_CARRIER  CRS_DEP_TIME  DEP_DELAY  TAXI_OUT  WHEELS_OFF  WHEELS_ON  \\\n",
       "0          16             3       -5.0      15.0           3          3   \n",
       "1          16             3      161.0      14.0           4          4   \n",
       "\n",
       "   TAXI_IN  CRS_ARR_TIME  ARR_DELAY  CRS_ELAPSED_TIME  ...  \\\n",
       "0     10.0             3      -23.0             268.0  ...   \n",
       "1      7.0             4      132.0             268.0  ...   \n",
       "\n",
       "   LATE_AIRCRAFT_DELAY  Org_Airport  Org_latitude  Org_longitude  \\\n",
       "0                  0.0          225     40.692501     -74.168701   \n",
       "1                116.0          225     40.692501     -74.168701   \n",
       "\n",
       "   Dest_Airport  Dest_latitude  Dest_longitude  month  DELAY_STATUS  WEEKDAY  \n",
       "0            83      39.861698     -104.672996      1             0        0  \n",
       "1            83      39.861698     -104.672996      1             1        0  \n",
       "\n",
       "[2 rows x 27 columns]"
      ]
     },
     "execution_count": 22,
     "metadata": {},
     "output_type": "execute_result"
    }
   ],
   "source": [
    "flight_df.head(2)\n",
    "\n"
   ]
  },
  {
   "cell_type": "code",
   "execution_count": 23,
   "metadata": {
    "id": "xERVRd6I4yet"
   },
   "outputs": [],
   "source": [
    "flight_df['DELAY_STATUS'] = flight_df['DELAY_STATUS'].astype(int)"
   ]
  },
  {
   "cell_type": "code",
   "execution_count": 24,
   "metadata": {
    "colab": {
     "base_uri": "https://localhost:8080/"
    },
    "id": "mVGUhlFi8dkd",
    "outputId": "61b402c8-0407-42c7-d410-76fa92e52cfb"
   },
   "outputs": [
    {
     "data": {
      "text/plain": [
       "(7065663, 24)"
      ]
     },
     "execution_count": 24,
     "metadata": {},
     "output_type": "execute_result"
    }
   ],
   "source": [
    "X = flight_df.drop(['DELAY_STATUS','ARR_DELAY','DEP_DELAY'], axis = 1)\n",
    "X.shape"
   ]
  },
  {
   "cell_type": "code",
   "execution_count": 25,
   "metadata": {
    "colab": {
     "base_uri": "https://localhost:8080/"
    },
    "id": "IuSWOdP08dnl",
    "outputId": "11ef47d6-1f74-4c75-b8b7-b2a92076e45e"
   },
   "outputs": [
    {
     "data": {
      "text/plain": [
       "0     0\n",
       "1     1\n",
       "2     0\n",
       "3     0\n",
       "4     0\n",
       "5     0\n",
       "6     0\n",
       "7     0\n",
       "8     0\n",
       "9     1\n",
       "10    1\n",
       "11    0\n",
       "12    0\n",
       "13    0\n",
       "14    0\n",
       "15    0\n",
       "16    0\n",
       "17    0\n",
       "18    1\n",
       "19    0\n",
       "Name: DELAY_STATUS, dtype: int32"
      ]
     },
     "execution_count": 25,
     "metadata": {},
     "output_type": "execute_result"
    }
   ],
   "source": [
    "y = flight_df['DELAY_STATUS']\n",
    "y.head(20)"
   ]
  },
  {
   "cell_type": "code",
   "execution_count": 26,
   "metadata": {
    "id": "XAie6xS-2heN"
   },
   "outputs": [],
   "source": [
    "import datetime, warnings, scipy \n",
    "import pandas as pd\n",
    "import numpy as np\n",
    "import seaborn as sns\n",
    "import matplotlib.pyplot as plt\n",
    "import warnings\n",
    "warnings.filterwarnings('ignore')\n",
    "from sklearn.tree import DecisionTreeClassifier\n",
    "from imblearn.metrics import classification_report_imbalanced\n",
    "from sklearn.model_selection import train_test_split\n",
    "from sklearn.metrics import accuracy_score, confusion_matrix, classification_report, plot_confusion_matrix\n",
    "from sklearn.ensemble import BaggingClassifier, RandomForestClassifier\n",
    "from pathlib import Path\n",
    "from sklearn.linear_model import LinearRegression\n",
    "from sklearn.linear_model import LogisticRegression\n",
    "from imblearn.metrics import classification_report_imbalanced\n",
    "from imblearn.ensemble import BalancedRandomForestClassifier, EasyEnsembleClassifier\n",
    "from sklearn.metrics import balanced_accuracy_score\n",
    "from imblearn.ensemble import EasyEnsembleClassifier\n",
    "\n",
    "\n",
    "# Perform the split\n",
    "X_train,X_test,y_train,y_test = train_test_split(X,y,test_size=0.3,random_state = 2)"
   ]
  },
  {
   "cell_type": "markdown",
   "metadata": {
    "id": "v_KZIbiK3DuS"
   },
   "source": [
    "**Decision Tree Classifier**\n",
    "\n"
   ]
  },
  {
   "cell_type": "code",
   "execution_count": 27,
   "metadata": {
    "colab": {
     "base_uri": "https://localhost:8080/"
    },
    "id": "ZAAs0nvt8dzY",
    "outputId": "91e09168-ad3f-441d-db92-eaaf7bd4c667"
   },
   "outputs": [
    {
     "name": "stdout",
     "output_type": "stream",
     "text": [
      "Testing Accuracy for Decision Tree Classifier: 0.8179298098456432\n"
     ]
    }
   ],
   "source": [
    "# Build a regular tree as baseline\n",
    "tree_clf = DecisionTreeClassifier(criterion='gini', max_depth= 5, class_weight=\"balanced\")\n",
    "tree_clf.fit(X_train, y_train)\n",
    "\n",
    "\n",
    "\n",
    "\n",
    "# Test set predictions\n",
    "pred = tree_clf.predict(X_test)\n",
    "\n",
    "\n",
    "\n",
    "print('Testing Accuracy for Decision Tree Classifier:', accuracy_score(y_test, pred))\n",
    "\n",
    "\n",
    "\n"
   ]
  },
  {
   "cell_type": "code",
   "execution_count": 28,
   "metadata": {
    "colab": {
     "base_uri": "https://localhost:8080/"
    },
    "id": "S6kIyYv_3lIz",
    "outputId": "c688481e-d548-41ee-c411-42b4dd8759c3"
   },
   "outputs": [
    {
     "name": "stdout",
     "output_type": "stream",
     "text": [
      "Classificiation Report\n",
      "---------------------\n",
      "              precision    recall  f1-score   support\n",
      "\n",
      "           0       0.80      0.95      0.87   1324405\n",
      "           1       0.87      0.60      0.71    795294\n",
      "\n",
      "    accuracy                           0.82   2119699\n",
      "   macro avg       0.84      0.77      0.79   2119699\n",
      "weighted avg       0.83      0.82      0.81   2119699\n",
      "\n"
     ]
    }
   ],
   "source": [
    "print('Classificiation Report')\n",
    "print('---------------------')\n",
    "print(classification_report(y_test, pred))"
   ]
  },
  {
   "cell_type": "code",
   "execution_count": 29,
   "metadata": {
    "id": "gBvtGPRqLkcY"
   },
   "outputs": [],
   "source": [
    "def plot_feature_importances(model):\n",
    "    n_features = X_train.shape[1]\n",
    "    plt.figure(figsize=(10, 20))\n",
    "    plt.barh(range(n_features), model.feature_importances_, color='k', align='center')\n",
    "    plt.yticks(np.arange(n_features), X_train.columns.values)\n",
    "    plt.xlabel('Feature importance')\n",
    "    plt.ylabel('Features')\n",
    "    plt.rcParams[\"figure.facecolor\"] = \"lightblue\"\n",
    "    plt.grid(True)\n",
    "\n",
    "\n",
    "\n"
   ]
  },
  {
   "cell_type": "code",
   "execution_count": 30,
   "metadata": {
    "colab": {
     "base_uri": "https://localhost:8080/",
     "height": 1000
    },
    "id": "GAHVl_GHMY37",
    "outputId": "445bbda0-dd2d-405f-cfd5-6469a9ca1353"
   },
   "outputs": [
    {
     "data": {
      "image/png": "[encoded data removed]",
      "text/plain": [
       "<Figure size 720x1440 with 1 Axes>"
      ]
     },
     "metadata": {
      "needs_background": "light"
     },
     "output_type": "display_data"
    }
   ],
   "source": [
    "plot_feature_importances(tree_clf)\n",
    "plt.rcParams[\"figure.facecolor\"] = \"lightblue\""
   ]
  },
  {
   "cell_type": "markdown",
   "metadata": {
    "id": "8jxuuyVK3X8Q"
   },
   "source": [
    "**Bagging Classifier**"
   ]
  },
  {
   "cell_type": "code",
   "execution_count": 31,
   "metadata": {
    "colab": {
     "base_uri": "https://localhost:8080/"
    },
    "id": "aI_kvcKx3yMu",
    "outputId": "6decb77e-d7d4-4c23-81d0-b3516f36c06d"
   },
   "outputs": [
    {
     "name": "stdout",
     "output_type": "stream",
     "text": [
      "Testing Accuracy for Bagging Classifire : 0.8213005714490595\n"
     ]
    }
   ],
   "source": [
    "# instantiating the BaggingClassifire\n",
    "bagged_tree =  BaggingClassifier(DecisionTreeClassifier(criterion='gini', max_depth=5), \n",
    "                                 n_estimators=20)\n",
    "\n",
    "\n",
    "# Now to fitting the training data:\n",
    "bagged_tree.fit(X_train, y_train)\n",
    "\n",
    "\n",
    "\n",
    "bagged_tree.score(X_train, y_train)\n",
    "bagged_tree.score(X_test, y_test)\n",
    "# Test set predictions\n",
    "pred = bagged_tree.predict(X_test)\n",
    "print('Testing Accuracy for Bagging Classifire :', accuracy_score(y_test, pred))\n"
   ]
  },
  {
   "cell_type": "code",
   "execution_count": null,
   "metadata": {
    "colab": {
     "base_uri": "https://localhost:8080/"
    },
    "id": "CKWDFv7D6Rbd",
    "outputId": "e532f812-611e-4723-d3e4-acda03e10b36"
   },
   "outputs": [],
   "source": []
  },
  {
   "cell_type": "code",
   "execution_count": null,
   "metadata": {
    "colab": {
     "base_uri": "https://localhost:8080/"
    },
    "id": "4FTZVb1Z6B77",
    "outputId": "91e3d85c-fdac-456c-bd7d-f6d382690f3a"
   },
   "outputs": [],
   "source": []
  },
  {
   "cell_type": "code",
   "execution_count": null,
   "metadata": {
    "id": "gyso-QGB40n2"
   },
   "outputs": [],
   "source": []
  },
  {
   "cell_type": "code",
   "execution_count": null,
   "metadata": {
    "colab": {
     "base_uri": "https://localhost:8080/",
     "height": 265
    },
    "id": "FRY2hPGV5hRz",
    "outputId": "eb6a9895-78c9-4a59-f43e-c82a6a750618"
   },
   "outputs": [],
   "source": []
  },
  {
   "cell_type": "code",
   "execution_count": null,
   "metadata": {
    "colab": {
     "base_uri": "https://localhost:8080/"
    },
    "id": "_KxTO5ocB-w7",
    "outputId": "d75f3e05-ce0c-42f8-c34f-8a8cbf8dc4eb"
   },
   "outputs": [],
   "source": []
  }
 ],
 "metadata": {
  "colab": {
   "collapsed_sections": [],
   "name": "Model_final.ipynb",
   "provenance": []
  },
  "kernelspec": {
   "display_name": "PythonData",
   "language": "python",
   "name": "pythondata"
  },
  "language_info": {
   "codemirror_mode": {
    "name": "ipython",
    "version": 3
   },
   "file_extension": ".py",
   "mimetype": "text/x-python",
   "name": "python",
   "nbconvert_exporter": "python",
   "pygments_lexer": "ipython3",
   "version": "3.7.10"
  }
 },
 "nbformat": 4,
 "nbformat_minor": 1
}
