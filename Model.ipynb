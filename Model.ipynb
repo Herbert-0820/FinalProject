{
  "nbformat": 4,
  "nbformat_minor": 0,
  "metadata": {
    "colab": {
      "name": "Model.ipynb",
      "provenance": [],
      "collapsed_sections": []
    },
    "kernelspec": {
      "name": "python3",
      "display_name": "Python 3"
    },
    "language_info": {
      "name": "python"
    }
  },
  "cells": [
    {
      "cell_type": "code",
      "execution_count": null,
      "metadata": {
        "id": "Gtt063w97Asa"
      },
      "outputs": [],
      "source": [
        "import pandas as pd"
      ]
    },
    {
      "cell_type": "code",
      "source": [
        "# Data Loading\n",
        "file_path = \"2018_clean2.csv\"\n",
        "merged_df = pd.read_csv(file_path, error_bad_lines=False)"
      ],
      "metadata": {
        "id": "8dD0b8Nt7Jbc",
        "colab": {
          "base_uri": "https://localhost:8080/"
        },
        "outputId": "9862b090-3ec4-439b-df47-b351799d3f1d"
      },
      "execution_count": null,
      "outputs": [
        {
          "output_type": "stream",
          "name": "stderr",
          "text": [
            "b'Skipping line 11702: expected 32 fields, saw 42\\n'\n"
          ]
        }
      ]
    },
    {
      "cell_type": "code",
      "source": [
        "merged_df.info()"
      ],
      "metadata": {
        "colab": {
          "base_uri": "https://localhost:8080/"
        },
        "id": "4xIOcXbB7cS2",
        "outputId": "e0f2f4eb-aeb9-4abe-dc71-1927f6c08b14"
      },
      "execution_count": null,
      "outputs": [
        {
          "output_type": "stream",
          "name": "stdout",
          "text": [
            "<class 'pandas.core.frame.DataFrame'>\n",
            "RangeIndex: 41916 entries, 0 to 41915\n",
            "Data columns (total 32 columns):\n",
            " #   Column               Non-Null Count  Dtype  \n",
            "---  ------               --------------  -----  \n",
            " 0   FL_DATE              41916 non-null  object \n",
            " 1   OP_CARRIER           41916 non-null  int64  \n",
            " 2   ORIGIN               41916 non-null  object \n",
            " 3   DEST                 41916 non-null  object \n",
            " 4   CRS_DEP_TIME         41916 non-null  int64  \n",
            " 5   DEP_TIME             41916 non-null  float64\n",
            " 6   DEP_DELAY            41916 non-null  float64\n",
            " 7   CRS_ARR_TIME         41916 non-null  int64  \n",
            " 8   ARR_TIME             41916 non-null  float64\n",
            " 9   ARR_DELAY            41916 non-null  float64\n",
            " 10  CANCELLATION_CODE    1 non-null      float64\n",
            " 11  DIVERTED             41916 non-null  float64\n",
            " 12  CRS_ELAPSED_TIME     41916 non-null  float64\n",
            " 13  ACTUAL_ELAPSED_TIME  41916 non-null  float64\n",
            " 14  AIR_TIME             41916 non-null  float64\n",
            " 15  DISTANCE             41916 non-null  float64\n",
            " 16  CARRIER_DELAY        41916 non-null  float64\n",
            " 17  WEATHER_DELAY        41916 non-null  float64\n",
            " 18  NAS_DELAY            41916 non-null  float64\n",
            " 19  SECURITY_DELAY       41915 non-null  float64\n",
            " 20  LATE_AIRCRAFT_DELAY  41915 non-null  float64\n",
            " 21  Org_Airport          41915 non-null  float64\n",
            " 22  Org_latitude         41913 non-null  float64\n",
            " 23  Org_longitude        41913 non-null  float64\n",
            " 24  Origin_city          41913 non-null  float64\n",
            " 25  Dest_Airport         41913 non-null  float64\n",
            " 26  Dest_latitude        41913 non-null  float64\n",
            " 27  Dest_longitude       41913 non-null  float64\n",
            " 28  Dest_city            41912 non-null  float64\n",
            " 29  year                 41912 non-null  float64\n",
            " 30  month                41912 non-null  float64\n",
            " 31  Day                  41912 non-null  float64\n",
            "dtypes: float64(26), int64(3), object(3)\n",
            "memory usage: 10.2+ MB\n"
          ]
        }
      ]
    },
    {
      "cell_type": "code",
      "source": [
        "merged_df.shape"
      ],
      "metadata": {
        "colab": {
          "base_uri": "https://localhost:8080/"
        },
        "id": "ceOO8Xf7-eUd",
        "outputId": "f47cd7bd-0546-4e1b-c680-f43cd9f2a96f"
      },
      "execution_count": null,
      "outputs": [
        {
          "output_type": "execute_result",
          "data": {
            "text/plain": [
              "(41916, 32)"
            ]
          },
          "metadata": {},
          "execution_count": 57
        }
      ]
    },
    {
      "cell_type": "code",
      "source": [
        "import datetime, warnings, scipy \n",
        "import pandas as pd\n",
        "import numpy as np\n",
        "import seaborn as sns\n",
        "import matplotlib.pyplot as plt\n",
        "import warnings\n",
        "warnings.filterwarnings('ignore')\n",
        "from pathlib import Path\n",
        "from collections import Counter\n",
        "from sklearn.metrics import balanced_accuracy_score\n",
        "from sklearn.metrics import confusion_matrix\n",
        "from imblearn.metrics import classification_report_imbalanced\n",
        "from sklearn.model_selection import train_test_split\n",
        "from imblearn.over_sampling import RandomOverSampler\n",
        "from sklearn.linear_model import LogisticRegression\n",
        "from imblearn.over_sampling import SMOTE\n",
        "from imblearn.under_sampling import ClusterCentroids\n",
        "from imblearn.combine import SMOTEENN\n",
        "from imblearn.ensemble import BalancedRandomForestClassifier\n",
        "from imblearn.ensemble import EasyEnsembleClassifier\n",
        "from sklearn.preprocessing import StandardScaler\n",
        "from sklearn.preprocessing import LabelEncoder\n",
        "from sklearn.linear_model import Lasso,LinearRegression,Ridge\n",
        "from sklearn.tree import DecisionTreeRegressor\n",
        "from sklearn.ensemble import RandomForestRegressor,AdaBoostRegressor,BaggingRegressor\n",
        "from sklearn.metrics import mean_absolute_error,mean_squared_error,r2_score\n",
        "from sklearn.metrics import accuracy_score, confusion_matrix, classification_report, plot_confusion_matrix\n",
        "from sklearn.metrics import roc_auc_score"
      ],
      "metadata": {
        "id": "D8ABe8Ey8XGt"
      },
      "execution_count": null,
      "outputs": []
    },
    {
      "cell_type": "code",
      "source": [
        "merged_df = merged_df.drop(['CANCELLATION_CODE'], axis = 1)"
      ],
      "metadata": {
        "id": "NjYXiTr__FUa"
      },
      "execution_count": null,
      "outputs": []
    },
    {
      "cell_type": "code",
      "source": [
        "merged_df.isnull().sum()\n"
      ],
      "metadata": {
        "colab": {
          "base_uri": "https://localhost:8080/"
        },
        "id": "qJXlVLzi-w-O",
        "outputId": "7cfbadcf-397a-483e-e944-f0497f7095f6"
      },
      "execution_count": null,
      "outputs": [
        {
          "output_type": "execute_result",
          "data": {
            "text/plain": [
              "FL_DATE                0\n",
              "OP_CARRIER             0\n",
              "ORIGIN                 0\n",
              "DEST                   0\n",
              "CRS_DEP_TIME           0\n",
              "DEP_TIME               0\n",
              "DEP_DELAY              0\n",
              "CRS_ARR_TIME           0\n",
              "ARR_TIME               0\n",
              "ARR_DELAY              0\n",
              "DIVERTED               0\n",
              "CRS_ELAPSED_TIME       0\n",
              "ACTUAL_ELAPSED_TIME    0\n",
              "AIR_TIME               0\n",
              "DISTANCE               0\n",
              "CARRIER_DELAY          0\n",
              "WEATHER_DELAY          0\n",
              "NAS_DELAY              0\n",
              "SECURITY_DELAY         1\n",
              "LATE_AIRCRAFT_DELAY    1\n",
              "Org_Airport            1\n",
              "Org_latitude           3\n",
              "Org_longitude          3\n",
              "Origin_city            3\n",
              "Dest_Airport           3\n",
              "Dest_latitude          3\n",
              "Dest_longitude         3\n",
              "Dest_city              4\n",
              "year                   4\n",
              "month                  4\n",
              "Day                    4\n",
              "dtype: int64"
            ]
          },
          "metadata": {},
          "execution_count": 60
        }
      ]
    },
    {
      "cell_type": "code",
      "source": [
        "merged_df = merged_df.dropna(subset = ['SECURITY_DELAY','LATE_AIRCRAFT_DELAY', 'Org_latitude','Dest_longitude','year' ,'month' ])"
      ],
      "metadata": {
        "id": "cVw0Xsp8-3SA"
      },
      "execution_count": null,
      "outputs": []
    },
    {
      "cell_type": "code",
      "source": [
        "merged_df = merged_df.drop(['FL_DATE'], axis = 1)"
      ],
      "metadata": {
        "id": "v0vT1223Auih"
      },
      "execution_count": null,
      "outputs": []
    },
    {
      "cell_type": "code",
      "source": [
        "merged_df = merged_df.drop(['ORIGIN','DEST','year'], axis = 1)"
      ],
      "metadata": {
        "id": "YD9V8MzsBGow"
      },
      "execution_count": null,
      "outputs": []
    },
    {
      "cell_type": "code",
      "source": [
        "merged_df.isnull().sum()"
      ],
      "metadata": {
        "colab": {
          "base_uri": "https://localhost:8080/"
        },
        "id": "K67AWTXy_5uK",
        "outputId": "944e5c7b-56d2-499f-8d81-65cce9f65784"
      },
      "execution_count": null,
      "outputs": [
        {
          "output_type": "execute_result",
          "data": {
            "text/plain": [
              "OP_CARRIER             0\n",
              "CRS_DEP_TIME           0\n",
              "DEP_TIME               0\n",
              "DEP_DELAY              0\n",
              "CRS_ARR_TIME           0\n",
              "ARR_TIME               0\n",
              "ARR_DELAY              0\n",
              "DIVERTED               0\n",
              "CRS_ELAPSED_TIME       0\n",
              "ACTUAL_ELAPSED_TIME    0\n",
              "AIR_TIME               0\n",
              "DISTANCE               0\n",
              "CARRIER_DELAY          0\n",
              "WEATHER_DELAY          0\n",
              "NAS_DELAY              0\n",
              "SECURITY_DELAY         0\n",
              "LATE_AIRCRAFT_DELAY    0\n",
              "Org_Airport            0\n",
              "Org_latitude           0\n",
              "Org_longitude          0\n",
              "Origin_city            0\n",
              "Dest_Airport           0\n",
              "Dest_latitude          0\n",
              "Dest_longitude         0\n",
              "Dest_city              0\n",
              "month                  0\n",
              "Day                    0\n",
              "dtype: int64"
            ]
          },
          "metadata": {},
          "execution_count": 64
        }
      ]
    },
    {
      "cell_type": "code",
      "source": [
        "\n",
        "merged_df.info()"
      ],
      "metadata": {
        "colab": {
          "base_uri": "https://localhost:8080/"
        },
        "id": "RM6vjDo3_4q0",
        "outputId": "6e5754da-b29c-4ccf-b96c-1c988072f3af"
      },
      "execution_count": null,
      "outputs": [
        {
          "output_type": "stream",
          "name": "stdout",
          "text": [
            "<class 'pandas.core.frame.DataFrame'>\n",
            "Int64Index: 41912 entries, 0 to 41914\n",
            "Data columns (total 27 columns):\n",
            " #   Column               Non-Null Count  Dtype  \n",
            "---  ------               --------------  -----  \n",
            " 0   OP_CARRIER           41912 non-null  int64  \n",
            " 1   CRS_DEP_TIME         41912 non-null  int64  \n",
            " 2   DEP_TIME             41912 non-null  float64\n",
            " 3   DEP_DELAY            41912 non-null  float64\n",
            " 4   CRS_ARR_TIME         41912 non-null  int64  \n",
            " 5   ARR_TIME             41912 non-null  float64\n",
            " 6   ARR_DELAY            41912 non-null  float64\n",
            " 7   DIVERTED             41912 non-null  float64\n",
            " 8   CRS_ELAPSED_TIME     41912 non-null  float64\n",
            " 9   ACTUAL_ELAPSED_TIME  41912 non-null  float64\n",
            " 10  AIR_TIME             41912 non-null  float64\n",
            " 11  DISTANCE             41912 non-null  float64\n",
            " 12  CARRIER_DELAY        41912 non-null  float64\n",
            " 13  WEATHER_DELAY        41912 non-null  float64\n",
            " 14  NAS_DELAY            41912 non-null  float64\n",
            " 15  SECURITY_DELAY       41912 non-null  float64\n",
            " 16  LATE_AIRCRAFT_DELAY  41912 non-null  float64\n",
            " 17  Org_Airport          41912 non-null  float64\n",
            " 18  Org_latitude         41912 non-null  float64\n",
            " 19  Org_longitude        41912 non-null  float64\n",
            " 20  Origin_city          41912 non-null  float64\n",
            " 21  Dest_Airport         41912 non-null  float64\n",
            " 22  Dest_latitude        41912 non-null  float64\n",
            " 23  Dest_longitude       41912 non-null  float64\n",
            " 24  Dest_city            41912 non-null  float64\n",
            " 25  month                41912 non-null  float64\n",
            " 26  Day                  41912 non-null  float64\n",
            "dtypes: float64(24), int64(3)\n",
            "memory usage: 9.0 MB\n"
          ]
        }
      ]
    },
    {
      "cell_type": "code",
      "source": [
        "X = merged_df.drop( 'ARR_DELAY', axis = 1)\n",
        "X.shape"
      ],
      "metadata": {
        "id": "mVGUhlFi8dkd",
        "colab": {
          "base_uri": "https://localhost:8080/"
        },
        "outputId": "5db94f5e-eb2c-48c9-9a96-e8e5a9d36f3b"
      },
      "execution_count": null,
      "outputs": [
        {
          "output_type": "execute_result",
          "data": {
            "text/plain": [
              "(41912, 26)"
            ]
          },
          "metadata": {},
          "execution_count": 66
        }
      ]
    },
    {
      "cell_type": "code",
      "source": [
        "y = merged_df['ARR_DELAY']\n",
        "y.head()"
      ],
      "metadata": {
        "id": "IuSWOdP08dnl",
        "colab": {
          "base_uri": "https://localhost:8080/"
        },
        "outputId": "d0f7970b-a655-4fe4-b6a4-66de3643e36a"
      },
      "execution_count": null,
      "outputs": [
        {
          "output_type": "execute_result",
          "data": {
            "text/plain": [
              "0    -23.0\n",
              "1    132.0\n",
              "2    -23.0\n",
              "3     -2.0\n",
              "4    -18.0\n",
              "Name: ARR_DELAY, dtype: float64"
            ]
          },
          "metadata": {},
          "execution_count": 67
        }
      ]
    },
    {
      "cell_type": "code",
      "source": [
        "import datetime, warnings, scipy \n",
        "import pandas as pd\n",
        "import numpy as np\n",
        "import seaborn as sns\n",
        "import matplotlib.pyplot as plt\n",
        "import warnings\n",
        "warnings.filterwarnings('ignore')\n",
        "from sklearn.tree import DecisionTreeClassifier\n",
        "from imblearn.metrics import classification_report_imbalanced\n",
        "from sklearn.model_selection import train_test_split\n",
        "from sklearn.metrics import accuracy_score, confusion_matrix, classification_report, plot_confusion_matrix\n",
        "\n",
        "# Perform the spli\n",
        "X_train,X_test,y_train,y_test = train_test_split(X,y,test_size=0.3,random_state = 2)\n",
        "\n",
        "\n",
        "\n",
        "\n",
        "# Build a regular tree as baseline\n",
        "tree_clf = DecisionTreeClassifier(criterion='gini', max_depth= 5, class_weight=\"balanced\")\n",
        "tree_clf.fit(X_train, y_train)\n",
        "\n",
        "\n",
        "\n",
        "\n",
        "# Test set predictions\n",
        "pred = tree_clf.predict(X_train)\n",
        "\n",
        "\n",
        "\n",
        "print('Testing Accuracy for Decision Tree Classifier:', accuracy_score(y_train, pred))\n",
        "\n",
        "\n",
        "\n"
      ],
      "metadata": {
        "colab": {
          "base_uri": "https://localhost:8080/"
        },
        "id": "ZAAs0nvt8dzY",
        "outputId": "ee846d02-61f7-49ed-cb80-f421288588db"
      },
      "execution_count": null,
      "outputs": [
        {
          "output_type": "stream",
          "name": "stdout",
          "text": [
            "Testing Accuracy for Decision Tree Classifier: 0.027779671415911106\n"
          ]
        }
      ]
    },
    {
      "cell_type": "code",
      "source": [
        "y.head(20)"
      ],
      "metadata": {
        "colab": {
          "base_uri": "https://localhost:8080/"
        },
        "id": "zmCHPxgIM7xR",
        "outputId": "b11a9029-9bcb-49df-a553-e1d376d6cd4a"
      },
      "execution_count": null,
      "outputs": [
        {
          "output_type": "execute_result",
          "data": {
            "text/plain": [
              "0     -23.0\n",
              "1     132.0\n",
              "2     -23.0\n",
              "3      -2.0\n",
              "4     -18.0\n",
              "5     -21.0\n",
              "6     -12.0\n",
              "7     -27.0\n",
              "8     -26.0\n",
              "9     146.0\n",
              "10     15.0\n",
              "11    -20.0\n",
              "12    -39.0\n",
              "13    -30.0\n",
              "14    -34.0\n",
              "15    -52.0\n",
              "16     -5.0\n",
              "17    -24.0\n",
              "18      9.0\n",
              "19    -45.0\n",
              "Name: ARR_DELAY, dtype: float64"
            ]
          },
          "metadata": {},
          "execution_count": 69
        }
      ]
    },
    {
      "cell_type": "code",
      "source": [
        "# Split training/test datasets\n",
        "X_train, X_test, y_train, y_test = train_test_split(X, y, random_state=42)\n",
        "\n",
        "# Create a StandardScaler instance\n",
        "scaler = StandardScaler()\n",
        "\n",
        "# Fit the StandardScaler\n",
        "X_scaler = scaler.fit(X_train)\n",
        "\n",
        "# Scale the data\n",
        "X_train_scaled = X_scaler.transform(X_train)\n",
        "X_test_scaled = X_scaler.transform(X_test)"
      ],
      "metadata": {
        "id": "bM0bCozkFO1K"
      },
      "execution_count": null,
      "outputs": []
    },
    {
      "cell_type": "code",
      "source": [
        "# Define the logistic regression model\n",
        "log_classifier = LogisticRegression(solver=\"lbfgs\",max_iter=200)\n",
        "\n",
        "# Train the model\n",
        "log_classifier.fit(X_train,y_train)\n",
        "\n",
        "# Evaluate the model\n",
        "y_pred = log_classifier.predict(X_test)\n",
        "print(f\" Logistic regression model accuracy: {accuracy_score(y_test,y_pred):.3f}\")"
      ],
      "metadata": {
        "colab": {
          "base_uri": "https://localhost:8080/"
        },
        "id": "H9_a6IU6XxKf",
        "outputId": "0a8e6156-97b2-4e96-e07c-97ced1f8fc36"
      },
      "execution_count": null,
      "outputs": [
        {
          "output_type": "stream",
          "name": "stdout",
          "text": [
            " Logistic regression model accuracy: 0.036\n"
          ]
        }
      ]
    },
    {
      "cell_type": "code",
      "source": [
        ""
      ],
      "metadata": {
        "id": "Qns4cmPRSYhQ"
      },
      "execution_count": null,
      "outputs": []
    },
    {
      "cell_type": "code",
      "source": [
        ""
      ],
      "metadata": {
        "id": "kWOsdZMQTsoM"
      },
      "execution_count": null,
      "outputs": []
    },
    {
      "cell_type": "code",
      "source": [
        ""
      ],
      "metadata": {
        "id": "SZYtkuykDdrP"
      },
      "execution_count": null,
      "outputs": []
    },
    {
      "cell_type": "code",
      "source": [
        "Las = Lasso()\n",
        "LinR = LinearRegression()\n",
        "Rid = Ridge()\n",
        "Rfc = RandomForestRegressor(random_state=2)\n",
        "Dtc = DecisionTreeRegressor(random_state = 2)\n",
        "Boost_Lin = AdaBoostRegressor(base_estimator=LinR,random_state=2)\n",
        "Boost_las = AdaBoostRegressor(base_estimator=Las,random_state=2)\n",
        "Boost_rid = AdaBoostRegressor(base_estimator=Rid,random_state=2)\n",
        "Bg_Lin = BaggingRegressor(base_estimator=LinR,random_state=2)\n",
        "Bg_las = BaggingRegressor(base_estimator=Las,random_state=2)\n",
        "Bg_rid = BaggingRegressor(base_estimator=Rid,random_state=2)"
      ],
      "metadata": {
        "id": "88G0SlDO8d_1"
      },
      "execution_count": null,
      "outputs": []
    },
    {
      "cell_type": "code",
      "source": [
        "# Splitting into train and test data set\n",
        "X_train,X_test,y_train,y_test = train_test_split(X,y,test_size=0.3,random_state = 2)\n",
        "\n",
        "sc1=StandardScaler()\n",
        "X_train_sc=sc1.fit_transform(X_train)\n",
        "X_test_sc=sc1.transform(X_test)\n",
        "\n",
        "\n",
        "for model, name in zip([Las,LinR,Rid,Dtc,Rfc,Boost_Lin,Boost_las,Boost_rid,Bg_Lin,Bg_las,Bg_rid], \n",
        "     ['Lasso','Linear Regression','Ridge','Random forest Regressor','Decision Tree Regressor','Boosted Linear',\n",
        "      'Boosted Lasso','Boosted Ridge','Bagged Linear','Bagged Lasso','Bagged Ridge']):\n",
        "    model1 = model.fit(X_train_sc,y_train)\n",
        "    Y_predict=model1.predict(X_test_sc)\n",
        "    print(name)\n",
        "    print('Mean Absolute Error:', mean_absolute_error(y_test, Y_predict))  \n",
        "    print('Mean Squared Error:', mean_squared_error(y_test, Y_predict))  \n",
        "    print('Root Mean Squared Error:', np.sqrt(mean_squared_error(y_test, Y_predict)))\n",
        "    print('R2 : ',r2_score(y_test, Y_predict))\n",
        "    print(accuracy_score(y_test, Y_predict))\n",
        "    print(  )\n"
      ],
      "metadata": {
        "id": "IIu_5YD38eCq",
        "colab": {
          "base_uri": "https://localhost:8080/",
          "height": 450
        },
        "outputId": "063decc1-1b1a-4793-ec22-f957bcee9553"
      },
      "execution_count": null,
      "outputs": [
        {
          "output_type": "stream",
          "name": "stdout",
          "text": [
            "Lasso\n",
            "Mean Absolute Error: 7.350876328312672\n",
            "Mean Squared Error: 93.71640157485034\n",
            "Root Mean Squared Error: 9.680723194826424\n",
            "R2 :  0.9556732287176188\n"
          ]
        },
        {
          "output_type": "error",
          "ename": "ValueError",
          "evalue": "ignored",
          "traceback": [
            "\u001b[0;31m---------------------------------------------------------------------------\u001b[0m",
            "\u001b[0;31mValueError\u001b[0m                                Traceback (most recent call last)",
            "\u001b[0;32m<ipython-input-73-8a872a6ce1f9>\u001b[0m in \u001b[0;36m<module>\u001b[0;34m()\u001b[0m\n\u001b[1;32m     17\u001b[0m     \u001b[0mprint\u001b[0m\u001b[0;34m(\u001b[0m\u001b[0;34m'Root Mean Squared Error:'\u001b[0m\u001b[0;34m,\u001b[0m \u001b[0mnp\u001b[0m\u001b[0;34m.\u001b[0m\u001b[0msqrt\u001b[0m\u001b[0;34m(\u001b[0m\u001b[0mmean_squared_error\u001b[0m\u001b[0;34m(\u001b[0m\u001b[0my_test\u001b[0m\u001b[0;34m,\u001b[0m \u001b[0mY_predict\u001b[0m\u001b[0;34m)\u001b[0m\u001b[0;34m)\u001b[0m\u001b[0;34m)\u001b[0m\u001b[0;34m\u001b[0m\u001b[0;34m\u001b[0m\u001b[0m\n\u001b[1;32m     18\u001b[0m     \u001b[0mprint\u001b[0m\u001b[0;34m(\u001b[0m\u001b[0;34m'R2 : '\u001b[0m\u001b[0;34m,\u001b[0m\u001b[0mr2_score\u001b[0m\u001b[0;34m(\u001b[0m\u001b[0my_test\u001b[0m\u001b[0;34m,\u001b[0m \u001b[0mY_predict\u001b[0m\u001b[0;34m)\u001b[0m\u001b[0;34m)\u001b[0m\u001b[0;34m\u001b[0m\u001b[0;34m\u001b[0m\u001b[0m\n\u001b[0;32m---> 19\u001b[0;31m     \u001b[0mprint\u001b[0m\u001b[0;34m(\u001b[0m\u001b[0maccuracy_score\u001b[0m\u001b[0;34m(\u001b[0m\u001b[0my_test\u001b[0m\u001b[0;34m,\u001b[0m \u001b[0mY_predict\u001b[0m\u001b[0;34m)\u001b[0m\u001b[0;34m)\u001b[0m\u001b[0;34m\u001b[0m\u001b[0;34m\u001b[0m\u001b[0m\n\u001b[0m\u001b[1;32m     20\u001b[0m     \u001b[0mprint\u001b[0m\u001b[0;34m(\u001b[0m  \u001b[0;34m)\u001b[0m\u001b[0;34m\u001b[0m\u001b[0;34m\u001b[0m\u001b[0m\n",
            "\u001b[0;32m/usr/local/lib/python3.7/dist-packages/sklearn/metrics/_classification.py\u001b[0m in \u001b[0;36maccuracy_score\u001b[0;34m(y_true, y_pred, normalize, sample_weight)\u001b[0m\n\u001b[1;32m    209\u001b[0m \u001b[0;34m\u001b[0m\u001b[0m\n\u001b[1;32m    210\u001b[0m     \u001b[0;31m# Compute accuracy for each possible representation\u001b[0m\u001b[0;34m\u001b[0m\u001b[0;34m\u001b[0m\u001b[0;34m\u001b[0m\u001b[0m\n\u001b[0;32m--> 211\u001b[0;31m     \u001b[0my_type\u001b[0m\u001b[0;34m,\u001b[0m \u001b[0my_true\u001b[0m\u001b[0;34m,\u001b[0m \u001b[0my_pred\u001b[0m \u001b[0;34m=\u001b[0m \u001b[0m_check_targets\u001b[0m\u001b[0;34m(\u001b[0m\u001b[0my_true\u001b[0m\u001b[0;34m,\u001b[0m \u001b[0my_pred\u001b[0m\u001b[0;34m)\u001b[0m\u001b[0;34m\u001b[0m\u001b[0;34m\u001b[0m\u001b[0m\n\u001b[0m\u001b[1;32m    212\u001b[0m     \u001b[0mcheck_consistent_length\u001b[0m\u001b[0;34m(\u001b[0m\u001b[0my_true\u001b[0m\u001b[0;34m,\u001b[0m \u001b[0my_pred\u001b[0m\u001b[0;34m,\u001b[0m \u001b[0msample_weight\u001b[0m\u001b[0;34m)\u001b[0m\u001b[0;34m\u001b[0m\u001b[0;34m\u001b[0m\u001b[0m\n\u001b[1;32m    213\u001b[0m     \u001b[0;32mif\u001b[0m \u001b[0my_type\u001b[0m\u001b[0;34m.\u001b[0m\u001b[0mstartswith\u001b[0m\u001b[0;34m(\u001b[0m\u001b[0;34m\"multilabel\"\u001b[0m\u001b[0;34m)\u001b[0m\u001b[0;34m:\u001b[0m\u001b[0;34m\u001b[0m\u001b[0;34m\u001b[0m\u001b[0m\n",
            "\u001b[0;32m/usr/local/lib/python3.7/dist-packages/sklearn/metrics/_classification.py\u001b[0m in \u001b[0;36m_check_targets\u001b[0;34m(y_true, y_pred)\u001b[0m\n\u001b[1;32m     93\u001b[0m         raise ValueError(\n\u001b[1;32m     94\u001b[0m             \"Classification metrics can't handle a mix of {0} and {1} targets\".format(\n\u001b[0;32m---> 95\u001b[0;31m                 \u001b[0mtype_true\u001b[0m\u001b[0;34m,\u001b[0m \u001b[0mtype_pred\u001b[0m\u001b[0;34m\u001b[0m\u001b[0;34m\u001b[0m\u001b[0m\n\u001b[0m\u001b[1;32m     96\u001b[0m             )\n\u001b[1;32m     97\u001b[0m         )\n",
            "\u001b[0;31mValueError\u001b[0m: Classification metrics can't handle a mix of multiclass and continuous targets"
          ]
        }
      ]
    }
  ]
}